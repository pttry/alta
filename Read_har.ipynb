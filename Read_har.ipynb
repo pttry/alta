{
 "cells": [
  {
   "cell_type": "markdown",
   "metadata": {},
   "source": [
    "# Read har files"
   ]
  },
  {
   "cell_type": "code",
   "execution_count": 1,
   "metadata": {},
   "outputs": [],
   "source": [
    "# Basic modules\n",
    "import pandas as pd\n",
    "import numpy  as np\n",
    "import os\n",
    "\n",
    "import har2output as ho\n",
    "\n",
    "import harpy\n",
    "\n",
    "# HARPY module by Centre of Policy Studies for writing data into Header Array (HAR) format.\n",
    "# Available at https://github.com/GEMPACKsoftware/HARPY\n",
    "from harpy.har_file import HarFileObj"
   ]
  },
  {
   "cell_type": "code",
   "execution_count": 3,
   "metadata": {},
   "outputs": [],
   "source": [
    "# Folder for input HAR-files:\n",
    "harFolder = \"hardata\"\n",
    "termFolder = \"TERM\""
   ]
  },
  {
   "cell_type": "code",
   "execution_count": 80,
   "metadata": {},
   "outputs": [],
   "source": [
    "#os.walk(harFolder)\n",
    "#os.listdir(harFolder)"
   ]
  },
  {
   "cell_type": "code",
   "execution_count": 88,
   "metadata": {},
   "outputs": [],
   "source": [
    "# test_har0 = harpy.HarFileObj.loadFromDisk(\"testdata/test_read.har\")\n",
    "# test_har = harpy.HarFileObj(\"testdata/test_read.har\")"
   ]
  },
  {
   "cell_type": "code",
   "execution_count": 4,
   "metadata": {},
   "outputs": [],
   "source": [
    "premod = harpy.HarFileObj.loadFromDisk(termFolder+\"/premod.har\")"
   ]
  },
  {
   "cell_type": "code",
   "execution_count": 6,
   "metadata": {},
   "outputs": [],
   "source": [
    "make_obj = premod.getHeaderArrayObj(\"MAKE\")\n",
    "reg_supp = ho.regSupplyTables(make_obj)\n",
    "reg_supp.to_excel(file = \"outdata/test.xlsx\")\n"
   ]
  }
 ],
 "metadata": {
  "kernelspec": {
   "display_name": "Python 3",
   "language": "python",
   "name": "python3"
  },
  "language_info": {
   "codemirror_mode": {
    "name": "ipython",
    "version": 3
   },
   "file_extension": ".py",
   "mimetype": "text/x-python",
   "name": "python",
   "nbconvert_exporter": "python",
   "pygments_lexer": "ipython3",
   "version": "3.6.6"
  }
 },
 "nbformat": 4,
 "nbformat_minor": 2
}
