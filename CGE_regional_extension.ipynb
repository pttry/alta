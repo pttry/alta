{
 "cells": [
  {
   "cell_type": "markdown",
   "metadata": {},
   "source": [
    "# Regional extension\n",
    "\n",
    "ORANI-G model uses a top-down regional split, and requires regional shares as input.\n",
    "\n",
    "This notebook compiles estimates for:\n",
    "\n",
    "* Regional output shares (REGSHR1, R001)\n",
    "* Regional investment shares (REGSHR2, R002)\n",
    "* Regional consumption shares (REGSHR3, R003)\n",
    "* Regional export shares (REGSHR4, R004)\n",
    "* Regional government spending shares (REGSHR5, R005)\n",
    "* Regional inventory shares (REGSHR6, R006)"
   ]
  },
  {
   "cell_type": "code",
   "execution_count": 1,
   "metadata": {},
   "outputs": [],
   "source": [
    "# Basic modules\n",
    "import pandas as pd\n",
    "import numpy  as np\n",
    "\n",
    "# HARPY module by Centre of Policy Studies for writing data into Header Array (HAR) format.\n",
    "# Available at https://github.com/GEMPACKsoftware/HARPY\n",
    "from harpy.har_file import HarFileObj\n",
    "from harpy.header_array import HeaderArrayObj as HAO\n",
    "\n",
    "import dataGetterFunction as dgf\n",
    "import harWriterFunction as hwf\n",
    "import checkerFunctions as cfs"
   ]
  },
  {
   "cell_type": "code",
   "execution_count": 2,
   "metadata": {},
   "outputs": [],
   "source": [
    "# Choose base year for data:\n",
    "baseYear = 2014\n",
    "# Raw data folder:\n",
    "rawFolder = \"rawdata\"\n",
    "# Folder for output HAR-files:\n",
    "harFolder = \"hardata\""
   ]
  },
  {
   "cell_type": "code",
   "execution_count": 3,
   "metadata": {},
   "outputs": [],
   "source": [
    "### Aggregation"
   ]
  },
  {
   "cell_type": "code",
   "execution_count": 4,
   "metadata": {},
   "outputs": [
    {
     "name": "stdout",
     "output_type": "stream",
     "text": [
      "OK\n"
     ]
    }
   ],
   "source": [
    "hwf.aggHAR(harFolder, \"basedata64.har\", \"basedata30.har\", \"AGGSUP.har\")"
   ]
  },
  {
   "cell_type": "code",
   "execution_count": 5,
   "metadata": {},
   "outputs": [
    {
     "name": "stdout",
     "output_type": "stream",
     "text": [
      "Output and employment by region query OK\n",
      "Households' transactions by region query OK\n"
     ]
    }
   ],
   "source": [
    "# Define regional data location:\n",
    "urlDict = {\n",
    "\"Output and employment by region\":    \"kan/altp/statfin_altp_pxt_008.px\",\n",
    "\"Households' transactions by region\": \"kan/altp/statfin_altp_pxt_016.px\"}\n",
    "\n",
    "# Get data:\n",
    "dgf.getData(urlDict, baseYear = baseYear)"
   ]
  },
  {
   "cell_type": "code",
   "execution_count": 6,
   "metadata": {},
   "outputs": [
    {
     "name": "stdout",
     "output_type": "stream",
     "text": [
      "['WHOLE COUNTRY', 'Uusimaa', 'Varsinais-Suomi', 'Satakunta', 'Kanta-Häme', 'Pirkanmaa', 'Päijät-Häme', 'Kymenlaakso', 'South Karelia', 'Etelä-Savo', 'Pohjois-Savo', 'North Karelia', 'Central Finland', 'South Ostrobothnia', 'Ostrobothnia', 'Central Ostrobothnia', 'North Ostrobothnia', 'Kainuu', 'Lapland', 'Åland', 'Extra-regio territory']\n"
     ]
    }
   ],
   "source": [
    "# Check the available regions from regional accounts:\n",
    "print([x[\"valueTexts\"] for x in dgf.getParams(\"kan/altp/statfin_altp_pxt_008.px\", \"kunnat\") if x[\"code\"] == \"Alue\"][0])"
   ]
  },
  {
   "cell_type": "code",
   "execution_count": 7,
   "metadata": {},
   "outputs": [],
   "source": [
    "# Choose regions and rename if necessary:\n",
    "REGIONS ={\n",
    "\"Uusimaa\":        \"Uusimaa\", \n",
    "\"Varsinais-Suomi\":\"VarsinSuomi\", \n",
    "\"Satakunta\":      \"Satakunta\", \n",
    "\"Kanta-Häme\":     \"KantaHame\", \n",
    "\"Pirkanmaa\":      \"Pirkanmaa\", \n",
    "\"Päijät-Häme\":    \"PaijatHame\",    \n",
    "\"Kymenlaakso\":    \"Kymenlaakso\", \n",
    "\"South Karelia\":  \"EtelaKarjala\", \n",
    "\"Etelä-Savo\":     \"EtelaSavo\", \n",
    "\"Pohjois-Savo\":   \"PohjSavo\", \n",
    "\"North Karelia\":  \"PohjKarjala\", \n",
    "\"Central Finland\":\"KeskiSuomi\", \n",
    "\"South Ostrobothnia\":  \"EtelaPohjanm\",\n",
    "\"Ostrobothnia\":        \"Pohjanmaa\", \n",
    "\"Central Ostrobothnia\":\"KeskiPohjanm\", \n",
    "\"North Ostrobothnia\":  \"PohjPohjanm\",\n",
    "\"Kainuu\":  \"Kainuu\", \n",
    "\"Lapland\": \"Lappi\", \n",
    "\"Åland\":   \"Ahvenanmaa\"}\n",
    "\n",
    "REG = [r for r in REGIONS.values()]"
   ]
  },
  {
   "cell_type": "code",
   "execution_count": 8,
   "metadata": {},
   "outputs": [],
   "source": [
    "# Read in regional data:\n",
    "regionalData = {k: pd.read_csv(rawFolder+\"/\"+str(k)+\"_Rawdata.csv\",\n",
    "                               # Use different encoding to display umlaut letters correctly:\n",
    "                               encoding=\"ISO-8859-1\", \n",
    "                               na_values =\".\") for k in urlDict.keys()}"
   ]
  },
  {
   "cell_type": "code",
   "execution_count": 9,
   "metadata": {},
   "outputs": [],
   "source": [
    "# Clean and rename:\n",
    "for k in regionalData:\n",
    "    regionalData[k].fillna(0, inplace = True)\n",
    "    regionalData[k] = regionalData[k][regionalData[k][\"Area\"].isin(list(REGIONS.keys()))]\n",
    "    \n",
    "    for col in regionalData[k]:\n",
    "        if col in [\"Industry\", \"Sector\", \"Transaction\"]:\n",
    "            # Get the code, drop the long name:\n",
    "            regionalData[k][col] = regionalData[k][col].apply(lambda x: x.split(\" \")[0]) \n",
    "        \n",
    "        if col == \"Industry\":\n",
    "            # Add the prefix \"I_\" for all industries:\n",
    "            regionalData[k][col] = regionalData[k][col].apply(lambda x: \"{}{}\".format(\"I_\", x))\n",
    "            # Drop redundant aggregates:\n",
    "            regionalData[k].drop(regionalData[k][regionalData[k].Industry.isin([\"I_0\"])].index, inplace=True)\n",
    "    # Rename:                    \n",
    "    regionalData[k].replace({**REGIONS, \n",
    "                             **{\"Current prices\":\"CP\", \"At previous year`s prices\": \"FP\"},\n",
    "                             **{\"I_681+68209+683\": \"I_68\", \"I_68201_68202\": \"I_68A\"}}, inplace = True)\n",
    "            \n",
    "    regionalData[k].reset_index(drop = True, inplace= True)   "
   ]
  },
  {
   "cell_type": "code",
   "execution_count": 10,
   "metadata": {},
   "outputs": [],
   "source": [
    "regOutput = regionalData[\"Output and employment by region\"].copy()\n",
    "regHH = regionalData[\"Households' transactions by region\"].copy()"
   ]
  },
  {
   "cell_type": "code",
   "execution_count": 11,
   "metadata": {},
   "outputs": [],
   "source": [
    "regBaseData = HarFileObj.loadFromDisk(harFolder+\"/basedata30.har\")\n",
    "\n",
    "regInd = regBaseData.getHeaderArrayObj(\"IND\")[\"array\"].tolist()\n",
    "regCom = regBaseData.getHeaderArrayObj(\"COM\")[\"array\"].tolist()\n",
    "regSrc = regBaseData.getHeaderArrayObj(\"SRC\")[\"array\"].tolist()\n",
    "regMar = regBaseData.getHeaderArrayObj(\"MAR\")[\"array\"].tolist()\n",
    "\n",
    "regInd = [i.strip(' ') for i in regInd]\n",
    "regCom = [c.strip(' ') for c in regCom]\n",
    "regSrc = [s.strip(' ') for s in regSrc]\n",
    "regMar = [m.strip(' ') for m in regMar]"
   ]
  },
  {
   "cell_type": "code",
   "execution_count": 12,
   "metadata": {},
   "outputs": [
    {
     "data": {
      "text/plain": [
       "True"
      ]
     },
     "execution_count": 12,
     "metadata": {},
     "output_type": "execute_result"
    }
   ],
   "source": [
    "# Check that industries in the aggregated basedata match with the regional data:\n",
    "set(regOutput.Industry) == set(regInd)"
   ]
  },
  {
   "cell_type": "markdown",
   "metadata": {},
   "source": [
    "### Regional shares are derived from following data:\n",
    "\n",
    "* **R001 Regional output:** StatFin --> National accounts --> Regional account --> Output and employment, 30 industries --> P1R Output at basic prices\n",
    "* **R002 Regional investment:** StatFin --> National accounts --> Regional account --> Output and employment, 30 industries --> P51TOT Gross fixed capital formation\n",
    "* **R003 Regional consumption:** StatFin --> National accounts --> Regional account --> Households' transactions --> B6NT Disposable income, net\n",
    "* **R004 Regional export:** Customs --> International trade in goods by region\n",
    "* **R005 Regional government:** StatFin --> National accounts --> Regional account --> Households' transactions --> KVAKI Mean population\n",
    "* **R006 Regional inventories:** = Set according to R002"
   ]
  },
  {
   "cell_type": "code",
   "execution_count": 13,
   "metadata": {},
   "outputs": [],
   "source": [
    "# First, collect levels data for all required entries:\n",
    "regLevels = {}"
   ]
  },
  {
   "cell_type": "code",
   "execution_count": 14,
   "metadata": {},
   "outputs": [],
   "source": [
    "# REGOUTPUT contains:\n",
    "\n",
    "# P1R     Output at basic prices\n",
    "# P2K     Intermediate consumption\n",
    "# B1GPHT  Value added, gross at basic prices\n",
    "# D1K     Compensation of employees\n",
    "# E1_1H   Employment, persons\n",
    "# E11_1H  Employment, self-employed (persons)\n",
    "# E12_1H  Employees, persons\n",
    "# E2_T    Total hours worked (1,000 hours)\n",
    "# E21_T   Hours worked, self-employed (1,000 hours)\n",
    "# E22_T   Hours worked, employees (1,000 hours)\n",
    "# P51TOT  Gross fixed capital formation\n",
    "\n",
    "regInfos = {      # Dimensions:\n",
    "\"R001\": \"P1R\",    # (IND, REG)\n",
    "\"R002\": \"P51TOT\"} # (IND, REG)"
   ]
  },
  {
   "cell_type": "code",
   "execution_count": 15,
   "metadata": {},
   "outputs": [],
   "source": [
    "for i in regInfos:\n",
    "    data = regOutput[(regOutput[\"Transaction\"] == regInfos[i]) & (regOutput[\"Sector\"] == \"S1\") & (regOutput[\"Data\"] == \"CP\")]\n",
    "    pivotData = data.pivot(index = \"Industry\", columns = \"Area\", values = str(baseYear))\n",
    "    regLevels[i] = pivotData"
   ]
  },
  {
   "cell_type": "code",
   "execution_count": 16,
   "metadata": {},
   "outputs": [],
   "source": [
    "# REGHH contains:\n",
    "\n",
    "# B2NT:   Operating surplus, net\n",
    "# B3NT:   Mixed income, net\n",
    "# D11R_2: Wages and salaries (incl. employee stock options)\n",
    "# D12R:   Employers' social contributions\n",
    "# D4R_2:  Property income (including holding gains and losses)\n",
    "# D4K:    Property expenditure\n",
    "# B5NT1:  National income / balance of primary incomes, net\n",
    "# D62R:   Social benefits other than social transfers in kind, receivable\n",
    "# D7R:    Other current transfers, receivable\n",
    "# D5K:    Current taxes on income and wealth, etc., payable\n",
    "# D61K:   Social contributions, payable\n",
    "# D7K:    Other current transfers, payable\n",
    "# B6NT:   Disposable income, net\n",
    "# KVAKI:  Mean population (persons)\n",
    "\n",
    "regInfos2 = {      # Dimensions:\n",
    "\"R003\": \"B6NT\",    # (COM, REG)\n",
    "\"R005\": \"KVAKI\"}   # (COM, REG)\n",
    "\n",
    "# Initialize empty dataframes:\n",
    "for num in [\"R003\", \"R004\", \"R005\"]:\n",
    "    regLevels[num] = pd.DataFrame(0.0, columns=REG, index = regCom)"
   ]
  },
  {
   "cell_type": "code",
   "execution_count": 17,
   "metadata": {},
   "outputs": [],
   "source": [
    "for j in regInfos2:\n",
    "    data = regHH[regHH[\"Transaction\"] == regInfos2[j]].set_index(\"Area\")[str(baseYear)]\n",
    "    for r in REG:\n",
    "        regLevels[j][r] = data.loc[r]"
   ]
  },
  {
   "cell_type": "code",
   "execution_count": 18,
   "metadata": {},
   "outputs": [],
   "source": [
    "# Inventory shares are set equal to the investment shares. \n",
    "# However, the index is IND for investment, and COM for inventories, so swap them accordingly:\n",
    "regLevels[\"R006\"] = regLevels[\"R002\"].rename(index= dict(zip(regInd, regCom)))"
   ]
  },
  {
   "cell_type": "code",
   "execution_count": 19,
   "metadata": {},
   "outputs": [],
   "source": [
    "# Export data from customs: (m€)\n",
    "regExports ={\n",
    "\"Uusimaa\":      19522, \n",
    "\"VarsinSuomi\":  3806, \n",
    "\"Satakunta\":    3852, \n",
    "\"KantaHame\":    1471, \n",
    "\"Pirkanmaa\":    4125, \n",
    "\"PaijatHame\":   1655,    \n",
    "\"Kymenlaakso\":  4886, \n",
    "\"EtelaKarjala\": 1309, \n",
    "\"EtelaSavo\":    399, \n",
    "\"PohjSavo\":     1093, \n",
    "\"PohjKarjala\":  804, \n",
    "\"KeskiSuomi\":   1904, \n",
    "\"EtelaPohjanm\": 594,\n",
    "\"Pohjanmaa\":    3266, \n",
    "\"KeskiPohjanm\": 1616, \n",
    "\"PohjPohjanm\":  1572,\n",
    "\"Kainuu\":       144, \n",
    "\"Lappi\":        3291, \n",
    "\"Ahvenanmaa\":   85}\n",
    "\n",
    "for r in regExports:\n",
    "    regLevels[\"R004\"][r] = regExports[r]"
   ]
  },
  {
   "cell_type": "code",
   "execution_count": 20,
   "metadata": {},
   "outputs": [],
   "source": [
    "# Sort dataframes:\n",
    "for frame in regLevels:\n",
    "    regLevels[frame] = regLevels[frame][REG]    "
   ]
  },
  {
   "cell_type": "code",
   "execution_count": 21,
   "metadata": {},
   "outputs": [
    {
     "name": "stdout",
     "output_type": "stream",
     "text": [
      "R001\n",
      "No negative values\n",
      "R002\n",
      "Negative values in [('I_16', 'Pohjanmaa', -2.2), ('I_17_18', 'VarsinSuomi', -0.3), ('I_17_18', 'EtelaSavo', -0.1), ('I_29_30', 'Satakunta', -8.3), ('I_31_33', 'PaijatHame', -0.9), ('I_45_47', 'KeskiPohjanm', -5.9)]\n",
      "R003\n",
      "No negative values\n",
      "R004\n",
      "No negative values\n",
      "R005\n",
      "No negative values\n",
      "R006\n",
      "Negative values in [('C_16', 'Pohjanmaa', -2.2), ('C_17_18', 'VarsinSuomi', -0.3), ('C_17_18', 'EtelaSavo', -0.1), ('C_29_30', 'Satakunta', -8.3), ('C_31_33', 'PaijatHame', -0.9), ('C_45_47', 'KeskiPohjanm', -5.9)]\n"
     ]
    }
   ],
   "source": [
    "# Check that negative values don't exist.\n",
    "# If they do, the next step will set them to zero. Then, re-run this block, and the next.\n",
    "for x in regLevels:\n",
    "    print(x)\n",
    "    cfs.check4negs(regLevels[x])"
   ]
  },
  {
   "cell_type": "code",
   "execution_count": 22,
   "metadata": {},
   "outputs": [
    {
     "name": "stdout",
     "output_type": "stream",
     "text": [
      "R002 I_16 Pohjanmaa was set to zero!\n",
      "R002 I_17_18 VarsinSuomi was set to zero!\n",
      "R002 I_17_18 EtelaSavo was set to zero!\n",
      "R002 I_29_30 Satakunta was set to zero!\n",
      "R002 I_31_33 PaijatHame was set to zero!\n",
      "R002 I_45_47 KeskiPohjanm was set to zero!\n",
      "R006 C_16 Pohjanmaa was set to zero!\n",
      "R006 C_17_18 VarsinSuomi was set to zero!\n",
      "R006 C_17_18 EtelaSavo was set to zero!\n",
      "R006 C_29_30 Satakunta was set to zero!\n",
      "R006 C_31_33 PaijatHame was set to zero!\n",
      "R006 C_45_47 KeskiPohjanm was set to zero!\n"
     ]
    }
   ],
   "source": [
    "# Set negative values for zero. Check that the values are small!!\n",
    "flag = True\n",
    "for x in regLevels:\n",
    "    for i in regLevels[x].index:\n",
    "        for c in regLevels[x].columns:\n",
    "            value = regLevels[x].loc[i][c]\n",
    "            if value < 0:\n",
    "                flag = False\n",
    "                regLevels[x].loc[i][c] = 0\n",
    "                print(x,i,c, \"was set to zero!\")\n",
    "if flag:\n",
    "    print(\"Ok! No negative values found\")"
   ]
  },
  {
   "cell_type": "code",
   "execution_count": 23,
   "metadata": {},
   "outputs": [],
   "source": [
    "# Convert from levels to shares:\n",
    "regShares = {}\n",
    "for data in regLevels:\n",
    "    levelsData = regLevels[data]\n",
    "    rowSum = levelsData.sum(axis = 1)\n",
    "    sharesData = levelsData.div(rowSum, axis = 0)\n",
    "    regShares[data] = sharesData\n",
    "    # If the sumRow has entries with 0, it will cause division by zero and NAN values.\n",
    "    # If that occurs, replace them with a uniform value 1 / number of regions\n",
    "    for ix in rowSum.index:\n",
    "        if rowSum.loc[ix] == 0:\n",
    "            regShares[data].loc[ix] = 1/len(REG)"
   ]
  },
  {
   "cell_type": "code",
   "execution_count": 24,
   "metadata": {},
   "outputs": [
    {
     "name": "stdout",
     "output_type": "stream",
     "text": [
      "R001\n",
      "No nan values\n",
      "R002\n",
      "No nan values\n",
      "R003\n",
      "No nan values\n",
      "R004\n",
      "No nan values\n",
      "R005\n",
      "No nan values\n",
      "R006\n",
      "No nan values\n"
     ]
    }
   ],
   "source": [
    "# Check that NAN values don't exist:\n",
    "for x in regShares:\n",
    "    print(x)\n",
    "    cfs.check4nans(regShares[x])"
   ]
  },
  {
   "cell_type": "markdown",
   "metadata": {},
   "source": [
    "### Other regional support data"
   ]
  },
  {
   "cell_type": "code",
   "execution_count": 25,
   "metadata": {},
   "outputs": [],
   "source": [
    "# Regional dimensions:\n",
    "allDims = {\n",
    "\"COM\": regCom,\n",
    "\"IND\": regInd,\n",
    "\"SRC\": regSrc,\n",
    "\"REG\": REG,\n",
    "\"MAR\": regMar,\n",
    "}"
   ]
  },
  {
   "cell_type": "code",
   "execution_count": 26,
   "metadata": {},
   "outputs": [],
   "source": [
    "# Regional population:\n",
    "regPop = regHH[regHH[\"Transaction\"] == \"KVAKI\"].set_index(\"Area\")\n",
    "PO01 = regPop[str(baseYear)].to_frame(name = \"RPOP\")\n",
    "\n",
    "# Shortest distance from r to d:\n",
    "DIST = pd.read_excel(\"supplementaryData/regDistances.xlsx\")\n",
    "\n",
    "# Distance factor for gravity formula\n",
    "DFAC = pd.DataFrame(1.0, index = regCom, columns = [\"dom\", \"imp\"])\n",
    "DFAC.loc[[\"C_35_39\", \"C_41_43\",\"C_68\", \"C_68A\"]] = 2.0\n",
    "\n",
    "# Margin weighting\n",
    "MWGT = pd.DataFrame(1.0, index = REG, columns =allDims[\"MAR\"])\n",
    "\n",
    "# Distance related margins\n",
    "DMAR = [\"C_49_53\"]\n",
    "\n",
    "# Tendency to be locally sourced\n",
    "LMAR = pd.DataFrame(1.0, index = allDims[\"MAR\"], columns = [\"LOCMAR\"])\n",
    "LMAR.loc[\"C_45_47\"] = 3.0\n",
    "\n",
    "# Between-region Armington\n",
    "SGDD = pd.DataFrame(5.0, index = regCom, columns = [\"SIGMADOMOM\"])\n",
    "\n",
    "# Elasticity of substitution between regions of margin product\n",
    "SMAR = pd.DataFrame(0.2, index = allDims[\"MAR\"], columns = [\"SIGMAMAR\"])\n",
    "\n",
    "# Truly local commodities\n",
    "RLOC = [\"C_68\", \"C_68A\", \"C_85\", \"C_86_88\"]\n",
    "\n",
    "# Share of national imports, by port of entry\n",
    "MSHR = pd.DataFrame(1/len(REGIONS), index = regCom, columns = REG)"
   ]
  },
  {
   "cell_type": "code",
   "execution_count": 27,
   "metadata": {},
   "outputs": [],
   "source": [
    "# Regional employment:\n",
    "regEmp = regOutput[(regOutput[\"Transaction\"] == \"E1_1H\") &\n",
    "                   (regOutput[\"Sector\"] == \"S1\") &\n",
    "                   (regOutput[\"Data\"] == \"CP\")].groupby([\"Area\"]).sum().reindex(REG)"
   ]
  },
  {
   "cell_type": "markdown",
   "metadata": {},
   "source": [
    "### Output data to HAR format"
   ]
  },
  {
   "cell_type": "code",
   "execution_count": 28,
   "metadata": {},
   "outputs": [],
   "source": [
    "regData={\n",
    "#coefficient name: (dataset, header name, long name, [list of dimensions])\n",
    "\n",
    "# Regional extension data\n",
    "\"REGSHR1\": (regShares[\"R001\"], \"R001\", \"Regional output shares\", [\"IND\", \"REG\"]),\n",
    "\"REGSHR2\": (regShares[\"R002\"], \"R002\", \"Regional investment shares\", [\"IND\", \"REG\"]),\n",
    "\"REGSHR3\": (regShares[\"R003\"], \"R003\", \"Regional consumption shares\", [\"COM\", \"REG\"]),\n",
    "\"REGSHR4\": (regShares[\"R004\"], \"R004\", \"Regional export shares\", [\"COM\", \"REG\"]),\n",
    "\"REGSHR5\": (regShares[\"R005\"], \"R005\", \"Regional government shares\", [\"COM\", \"REG\"]),\n",
    "\"REGSHR6\": (regShares[\"R006\"], \"R006\", \"Regional inventory shares\", [\"COM\", \"REG\"]),\n",
    "}"
   ]
  },
  {
   "cell_type": "code",
   "execution_count": 29,
   "metadata": {},
   "outputs": [],
   "source": [
    "regSupp = {   \n",
    "\"RPOP\":      (PO01, \"PO01\", \"Regional population\",[\"REG\"]),    \n",
    "\"DISTANCE\":  (DIST, \"DIST\", \"Shortest distance\",  [\"REG\", \"REG\"]),\n",
    "\"DISTFAC\":   (DFAC, \"DFAC\", \"Distance factor\",    [\"COM\", \"SRC\"]),    \n",
    "\"MWGT\":      (MWGT, \"MWGT\", \"Margin weighting\",   [\"REG\", \"MAR\"]), \n",
    "\"DMAR\":      DMAR,   # Set\n",
    "\"LMAR\":      (LMAR, \"LMAR\", \"Tendency to be locally sourced\", [\"MAR\"]),    \n",
    "\"SIGMADOMOM\":(SGDD, \"SGDD\", \"Between-region Armington\", [\"COM\"]),    \n",
    "\"SIGMAMAR\":  (SMAR, \"SMAR\", \"Elasticity of substitution between regions of margin production\",[\"MAR\"]),\n",
    "\"RLOC\":      RLOC,  # Set\n",
    "\"REGIMPSHR\": (MSHR, \"MSHR\", \"Regional import share\", [\"COM\", \"REG\"]),\n",
    "\"EMPLOY_R\":  (regEmp, \"EMPR\", \"Employment by region\", [\"REG\"]),\n",
    "}"
   ]
  },
  {
   "cell_type": "code",
   "execution_count": 30,
   "metadata": {},
   "outputs": [],
   "source": [
    "# Write the dimensions as sets. Also include the regional data:\n",
    "output = {**allDims, **regData}\n",
    "hwf.data2har(output, allDims).writeToDisk(harFolder+\"/regExtension.har\")"
   ]
  },
  {
   "cell_type": "code",
   "execution_count": 31,
   "metadata": {},
   "outputs": [],
   "source": [
    "output = {**allDims, **regSupp}\n",
    "hwf.data2har(output, allDims).writeToDisk(harFolder+\"/REGSUPP.har\")"
   ]
  },
  {
   "cell_type": "markdown",
   "metadata": {},
   "source": [
    "## Output data to nympy"
   ]
  },
  {
   "cell_type": "code",
   "execution_count": null,
   "metadata": {},
   "outputs": [],
   "source": []
  },
  {
   "cell_type": "markdown",
   "metadata": {},
   "source": [
    "# END OF PROGRAM"
   ]
  },
  {
   "cell_type": "code",
   "execution_count": 35,
   "metadata": {},
   "outputs": [
    {
     "data": {
      "text/plain": [
       "dict_keys(['REGSHR1', 'REGSHR2', 'REGSHR3', 'REGSHR4', 'REGSHR5', 'REGSHR6'])"
      ]
     },
     "execution_count": 35,
     "metadata": {},
     "output_type": "execute_result"
    }
   ],
   "source": [
    "regData.keys()"
   ]
  },
  {
   "cell_type": "code",
   "execution_count": 36,
   "metadata": {},
   "outputs": [
    {
     "data": {
      "text/plain": [
       "(Area       Uusimaa  VarsinSuomi  Satakunta  KantaHame  Pirkanmaa  PaijatHame  \\\n",
       " Industry                                                                       \n",
       " I_01      0.049654     0.126220   0.061990   0.031728   0.057571    0.026429   \n",
       " I_02_03   0.047593     0.046865   0.035836   0.036302   0.072826    0.040045   \n",
       " I_05_09   0.121771     0.056904   0.031960   0.016370   0.036024    0.003675   \n",
       " I_10_12   0.261350     0.076151   0.060802   0.078713   0.051612    0.048236   \n",
       " I_13_15   0.128006     0.039666   0.076688   0.015371   0.240724    0.112305   \n",
       " I_16      0.034145     0.034162   0.049842   0.031688   0.066179    0.113788   \n",
       " I_17_18   0.150996     0.011620   0.075038   0.015537   0.128620    0.016938   \n",
       " I_19_22   0.563810     0.144958   0.039289   0.005377   0.067564    0.015627   \n",
       " I_23      0.255394     0.170630   0.031928   0.065894   0.074477    0.033164   \n",
       " I_24_25   0.131693     0.055462   0.125137   0.069835   0.058404    0.029231   \n",
       " I_26_27   0.549580     0.040687   0.008959   0.006026   0.061962    0.013142   \n",
       " I_28      0.248831     0.084022   0.088916   0.021251   0.145610    0.044560   \n",
       " I_29_30   0.060796     0.297783   0.057730   0.075027   0.126271    0.026816   \n",
       " I_31_33   0.229277     0.086149   0.055552   0.027140   0.118619    0.074931   \n",
       " I_35_39   0.322027     0.052836   0.078954   0.036600   0.090437    0.045250   \n",
       " I_41_43   0.360461     0.079148   0.036317   0.025305   0.088381    0.031122   \n",
       " I_45_47   0.518299     0.068019   0.025894   0.023869   0.067843    0.029251   \n",
       " I_49_53   0.485387     0.072870   0.033175   0.015687   0.058282    0.020329   \n",
       " I_55_56   0.397628     0.085710   0.030558   0.025775   0.092703    0.032296   \n",
       " I_58_63   0.684771     0.038060   0.011311   0.011300   0.073813    0.016499   \n",
       " I_64_66   0.634595     0.064257   0.017744   0.015819   0.054945    0.016470   \n",
       " I_68      0.548304     0.068618   0.018539   0.030426   0.095304    0.016995   \n",
       " I_68A     0.327642     0.082900   0.039361   0.031730   0.090725    0.035210   \n",
       " I_69_75   0.550346     0.078263   0.019121   0.020325   0.069275    0.018176   \n",
       " I_77_82   0.494756     0.077027   0.028933   0.018639   0.079074    0.034380   \n",
       " I_84      0.368150     0.066418   0.041623   0.037863   0.065021    0.024319   \n",
       " I_85      0.341815     0.080462   0.034638   0.025311   0.095618    0.027494   \n",
       " I_86_88   0.294438     0.090183   0.040602   0.028298   0.097950    0.034307   \n",
       " I_90_96   0.463755     0.067944   0.031065   0.026583   0.076036    0.027342   \n",
       " I_97_98   0.179646     0.077462   0.043675   0.025958   0.074166    0.023074   \n",
       " \n",
       " Area      Kymenlaakso  EtelaKarjala  EtelaSavo  PohjSavo  PohjKarjala  \\\n",
       " Industry                                                                \n",
       " I_01         0.021864      0.017592   0.043707  0.072356     0.036545   \n",
       " I_02_03      0.037314      0.044072   0.113580  0.089318     0.078371   \n",
       " I_05_09      0.018597      0.028898   0.009967  0.067984     0.053898   \n",
       " I_10_12      0.019904      0.011600   0.012504  0.051559     0.035386   \n",
       " I_13_15      0.017023      0.004049   0.034129  0.091315     0.023717   \n",
       " I_16         0.026859      0.053753   0.088348  0.092242     0.072617   \n",
       " I_17_18      0.114449      0.163543   0.004942  0.025930     0.028900   \n",
       " I_19_22      0.029053      0.011596   0.009170  0.022020     0.010754   \n",
       " I_23         0.033431      0.049696   0.040545  0.029457     0.024648   \n",
       " I_24_25      0.011942      0.015940   0.008520  0.022240     0.016893   \n",
       " I_26_27      0.001625      0.001566   0.004790  0.006594     0.007294   \n",
       " I_28         0.027601      0.012337   0.010559  0.044665     0.032222   \n",
       " I_29_30      0.006034      0.001678   0.006196  0.020459     0.003421   \n",
       " I_31_33      0.033942      0.030820   0.033318  0.034656     0.020584   \n",
       " I_35_39      0.032592      0.045267   0.020493  0.029271     0.028087   \n",
       " I_41_43      0.034639      0.023658   0.021306  0.041308     0.025905   \n",
       " I_45_47      0.019227      0.017019   0.016118  0.030763     0.016836   \n",
       " I_49_53      0.047053      0.019465   0.014408  0.027302     0.014177   \n",
       " I_55_56      0.025567      0.023662   0.021758  0.034326     0.017795   \n",
       " I_58_63      0.014374      0.007600   0.005658  0.016457     0.011164   \n",
       " I_64_66      0.010393      0.008551   0.009752  0.029347     0.012675   \n",
       " I_68         0.011235      0.011919   0.014752  0.021944     0.013351   \n",
       " I_68A        0.032498      0.022303   0.027272  0.042860     0.027230   \n",
       " I_69_75      0.018718      0.017004   0.014981  0.028379     0.011987   \n",
       " I_77_82      0.025631      0.015259   0.014911  0.032700     0.013192   \n",
       " I_84         0.039831      0.030688   0.023298  0.043401     0.025526   \n",
       " I_85         0.023629      0.022795   0.021735  0.045202     0.030434   \n",
       " I_86_88      0.031668      0.023077   0.029845  0.050613     0.030467   \n",
       " I_90_96      0.023639      0.018602   0.020602  0.031083     0.021379   \n",
       " I_97_98      0.012773      0.015657   0.044911  0.086527     0.051092   \n",
       " \n",
       " Area      KeskiSuomi  EtelaPohjanm  Pohjanmaa  KeskiPohjanm  PohjPohjanm  \\\n",
       " Industry                                                                   \n",
       " I_01        0.031581      0.130157   0.103832      0.046031     0.098283   \n",
       " I_02_03     0.087598      0.046500   0.028876      0.015399     0.079666   \n",
       " I_05_09     0.046938      0.051002   0.012416      0.005791     0.164755   \n",
       " I_10_12     0.024131      0.143999   0.043158      0.013470     0.052472   \n",
       " I_13_15     0.014462      0.069333   0.017189      0.024130     0.076192   \n",
       " I_16        0.076458      0.053736   0.024107      0.018933     0.119897   \n",
       " I_17_18     0.084615      0.001812   0.054266      0.000829     0.049853   \n",
       " I_19_22     0.015005      0.004059   0.019416      0.016002     0.021457   \n",
       " I_23        0.025215      0.017167   0.055908      0.009919     0.051166   \n",
       " I_24_25     0.022873      0.055136   0.032065      0.042151     0.106556   \n",
       " I_26_27     0.013802      0.003812   0.074681      0.000106     0.195798   \n",
       " I_28        0.070767      0.024093   0.127286      0.003179     0.009018   \n",
       " I_29_30     0.052051      0.053438   0.083159      0.017490     0.019329   \n",
       " I_31_33     0.039919      0.040120   0.048683      0.017194     0.064160   \n",
       " I_35_39     0.042858      0.024422   0.043018      0.009074     0.045250   \n",
       " I_41_43     0.041697      0.032176   0.032245      0.010492     0.072156   \n",
       " I_45_47     0.027894      0.023752   0.020669      0.011016     0.052313   \n",
       " I_49_53     0.024016      0.025873   0.021856      0.016517     0.043267   \n",
       " I_55_56     0.039595      0.020465   0.023843      0.006937     0.056764   \n",
       " I_58_63     0.030784      0.006853   0.018837      0.006149     0.030570   \n",
       " I_64_66     0.016974      0.017056   0.020447      0.006177     0.038567   \n",
       " I_68        0.031381      0.020401   0.013447      0.004424     0.043666   \n",
       " I_68A       0.048858      0.032316   0.029767      0.009815     0.066975   \n",
       " I_69_75     0.032394      0.013292   0.021062      0.005344     0.053463   \n",
       " I_77_82     0.032478      0.015123   0.027601      0.007475     0.048605   \n",
       " I_84        0.043070      0.028235   0.024604      0.011055     0.056604   \n",
       " I_85        0.054826      0.027897   0.031896      0.011518     0.078737   \n",
       " I_86_88     0.046352      0.033689   0.030036      0.012162     0.073365   \n",
       " I_90_96     0.037018      0.024083   0.024213      0.008852     0.051277   \n",
       " I_97_98     0.063453      0.055624   0.042851      0.020190     0.113309   \n",
       " \n",
       " Area        Kainuu     Lappi  Ahvenanmaa  \n",
       " Industry                                  \n",
       " I_01      0.014806  0.021969    0.007686  \n",
       " I_02_03   0.040410  0.053259    0.006172  \n",
       " I_05_09   0.064588  0.207350    0.001114  \n",
       " I_10_12   0.001799  0.005982    0.007169  \n",
       " I_13_15   0.000661  0.014214    0.000826  \n",
       " I_16      0.016873  0.023606    0.002769  \n",
       " I_17_18   0.000586  0.071232    0.000293  \n",
       " I_19_22   0.000201  0.002906    0.001739  \n",
       " I_23      0.007414  0.023479    0.000468  \n",
       " I_24_25   0.001810  0.193289    0.000825  \n",
       " I_26_27   0.008774  0.000284    0.000515  \n",
       " I_28      0.000882  0.002668    0.001533  \n",
       " I_29_30   0.028688  0.063539    0.000097  \n",
       " I_31_33   0.005620  0.035972    0.003345  \n",
       " I_35_39   0.015396  0.033568    0.004601  \n",
       " I_41_43   0.009590  0.027997    0.006097  \n",
       " I_45_47   0.006585  0.019822    0.004812  \n",
       " I_49_53   0.007311  0.022279    0.030745  \n",
       " I_55_56   0.008995  0.048131    0.007494  \n",
       " I_58_63   0.002709  0.007981    0.005110  \n",
       " I_64_66   0.005352  0.010769    0.010109  \n",
       " I_68      0.008434  0.021912    0.004949  \n",
       " I_68A     0.012709  0.033728    0.006102  \n",
       " I_69_75   0.007147  0.018239    0.002483  \n",
       " I_77_82   0.011367  0.020802    0.002047  \n",
       " I_84      0.020754  0.042785    0.006754  \n",
       " I_85      0.007963  0.031875    0.006155  \n",
       " I_86_88   0.012635  0.033724    0.006588  \n",
       " I_90_96   0.012981  0.026222    0.007324  \n",
       " I_97_98   0.024310  0.043675    0.001648  ,\n",
       " 'R001',\n",
       " 'Regional output shares',\n",
       " ['IND', 'REG'])"
      ]
     },
     "execution_count": 36,
     "metadata": {},
     "output_type": "execute_result"
    }
   ],
   "source": [
    "regData[\"REGSHR1\"]"
   ]
  }
 ],
 "metadata": {
  "kernelspec": {
   "display_name": "Python 3",
   "language": "python",
   "name": "python3"
  },
  "language_info": {
   "codemirror_mode": {
    "name": "ipython",
    "version": 3
   },
   "file_extension": ".py",
   "mimetype": "text/x-python",
   "name": "python",
   "nbconvert_exporter": "python",
   "pygments_lexer": "ipython3",
   "version": "3.6.6"
  }
 },
 "nbformat": 4,
 "nbformat_minor": 2
}
