{
 "cells": [
  {
   "cell_type": "markdown",
   "metadata": {},
   "source": [
    "# Read basedata"
   ]
  },
  {
   "cell_type": "code",
   "execution_count": null,
   "metadata": {},
   "outputs": [],
   "source": []
  },
  {
   "cell_type": "markdown",
   "metadata": {},
   "source": [
    "# Produce tables"
   ]
  },
  {
   "cell_type": "code",
   "execution_count": 116,
   "metadata": {},
   "outputs": [],
   "source": [
    "U = np.matrix(cleanData[\"usetable_BP\"].loc[COM][IND])\n"
   ]
  },
  {
   "cell_type": "code",
   "execution_count": 117,
   "metadata": {},
   "outputs": [],
   "source": [
    "VT = np.matrix(cleanData[\"supplytable_BP\"].loc[COM][IND])"
   ]
  },
  {
   "cell_type": "code",
   "execution_count": 170,
   "metadata": {},
   "outputs": [],
   "source": [
    "q = VT.sum(axis=1)\n",
    "g = VT.sum(axis=0)"
   ]
  },
  {
   "cell_type": "code",
   "execution_count": 163,
   "metadata": {},
   "outputs": [],
   "source": [
    "B = VT.transpose() * np.linalg.inv(np.diagflat(q)) * U"
   ]
  },
  {
   "cell_type": "code",
   "execution_count": 171,
   "metadata": {},
   "outputs": [],
   "source": [
    "C = VT * np.linalg.inv(np.diagflat(g))"
   ]
  },
  {
   "cell_type": "code",
   "execution_count": 173,
   "metadata": {},
   "outputs": [],
   "source": [
    "B2 = np.linalg.inv(C) * U"
   ]
  },
  {
   "cell_type": "code",
   "execution_count": 199,
   "metadata": {},
   "outputs": [
    {
     "data": {
      "text/plain": [
       "matrix([[ 3284.101,  1301.469,    77.089,  1222.688,  8906.267,\n",
       "           827.501,  4561.121, 10153.171,   772.258,  8884.363,\n",
       "          5705.588,   514.509,  2015.786,  1949.529,  7604.61 ,\n",
       "          4280.559,  6366.438,  2791.05 ,  9865.115,  1065.498,\n",
       "          1141.473,  1038.125,  1512.839,  4524.354,   285.674,\n",
       "          1549.837, 17347.316,  2402.321,  6898.742,  5449.044,\n",
       "          4716.05 ,  1618.597,  2232.58 ,  4404.461,   732.938,\n",
       "          4112.18 ,  1705.521,   844.305,  2140.215,  4555.208,\n",
       "          2720.794,  1017.453,  1200.934,  4986.227,  4218.543,\n",
       "          2331.375,  2488.044,   572.829,   666.327,   782.925,\n",
       "           914.147,   456.845,   557.409,  2347.105,  7660.92 ,\n",
       "          3438.171,  6703.481,  2794.181,  1173.711,  1211.191,\n",
       "          1667.795,   210.863,   679.168,     0.   ]])"
      ]
     },
     "execution_count": 199,
     "metadata": {},
     "output_type": "execute_result"
    }
   ],
   "source": [
    "B.sum(axis=0)"
   ]
  }
 ],
 "metadata": {
  "kernelspec": {
   "display_name": "Python 3",
   "language": "python",
   "name": "python3"
  },
  "language_info": {
   "codemirror_mode": {
    "name": "ipython",
    "version": 3
   },
   "file_extension": ".py",
   "mimetype": "text/x-python",
   "name": "python",
   "nbconvert_exporter": "python",
   "pygments_lexer": "ipython3",
   "version": "3.6.6"
  }
 },
 "nbformat": 4,
 "nbformat_minor": 2
}
