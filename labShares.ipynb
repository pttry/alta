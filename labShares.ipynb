{
 "cells": [
  {
   "cell_type": "code",
   "execution_count": null,
   "metadata": {},
   "outputs": [],
   "source": [
    "labCompensation = regionalData[\"Output and employment by region\"][(regionalData[\"Output and employment by region\"][\"Transaction\"] == \"D1K\") & \\\n",
    "                                                (regionalData[\"Output and employment by region\"][\"Sector\"] == \"S1\") & \\\n",
    "                                                (regionalData[\"Output and employment by region\"][\"Data\"] == \"CP\")]\n",
    "\n",
    "labCompensation = labCompensation.drop([\"Sector\", \"Data\", \"Transaction\"], axis = 1)\n",
    "labCompensation = labCompensation.pivot(index = \"Industry\", columns = \"Area\", values = str(baseYear))\n",
    "labCompensation = labCompensation[REG]"
   ]
  },
  {
   "cell_type": "code",
   "execution_count": null,
   "metadata": {},
   "outputs": [],
   "source": [
    "cfs.check4negs(labCompensation)"
   ]
  },
  {
   "cell_type": "code",
   "execution_count": null,
   "metadata": {},
   "outputs": [],
   "source": [
    "rowsum = labCompensation.sum(axis=1)\n",
    "labCompenShares = labCompensation.divide(rowsum, axis = \"index\")"
   ]
  },
  {
   "cell_type": "code",
   "execution_count": null,
   "metadata": {},
   "outputs": [],
   "source": [
    "labCompenShares.to_excel(\"regLabCompShares.xlsx\")"
   ]
  }
 ],
 "metadata": {
  "kernelspec": {
   "display_name": "Python 3",
   "language": "python",
   "name": "python3"
  },
  "language_info": {
   "codemirror_mode": {
    "name": "ipython",
    "version": 3
   },
   "file_extension": ".py",
   "mimetype": "text/x-python",
   "name": "python",
   "nbconvert_exporter": "python",
   "pygments_lexer": "ipython3",
   "version": "3.6.5"
  }
 },
 "nbformat": 4,
 "nbformat_minor": 2
}
