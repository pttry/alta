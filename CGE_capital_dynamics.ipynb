{
 "cells": [
  {
   "cell_type": "markdown",
   "metadata": {},
   "source": [
    "# Capital data for model dynamics\n",
    "\n",
    "This notebook creates trend files for capital dynamics, and also the EXTRA files required by the model.\n",
    "\n",
    "See the equations list at https://www.copsmodels.com/ftp/monbook1/m1-ch4t.pdf"
   ]
  },
  {
   "cell_type": "code",
   "execution_count": 1,
   "metadata": {},
   "outputs": [],
   "source": [
    "# Import all necessary modules:\n",
    "\n",
    "# Basic modules\n",
    "import requests\n",
    "import pandas as pd\n",
    "import numpy  as np\n",
    "import json\n",
    "import ast\n",
    "import csv\n",
    "import os\n",
    "import re\n",
    "\n",
    "# HARPY module by Centre of Policy Studies for writing data into Header Array (HAR) format.\n",
    "# Available at https://github.com/GEMPACKsoftware/HARPY\n",
    "from harpy.har_file import HarFileObj\n",
    "from harpy.header_array import HeaderArrayObj as HAO\n",
    "\n",
    "import dataGetterFunction as dgf\n",
    "import harWriterFunction  as hwf\n",
    "import mapperFunction as imf"
   ]
  },
  {
   "cell_type": "code",
   "execution_count": 2,
   "metadata": {},
   "outputs": [],
   "source": [
    "# Choose base year for data:\n",
    "baseYear = 2014\n",
    "# Raw data folder:\n",
    "rawFolder = \"rawdata\"\n",
    "# Folder for output HAR-files:\n",
    "harFolder = \"hardata\""
   ]
  },
  {
   "cell_type": "code",
   "execution_count": 3,
   "metadata": {},
   "outputs": [],
   "source": [
    "# Read data from previous steps:\n",
    "baseData = HarFileObj.loadFromDisk(harFolder+\"/basedata.har\")"
   ]
  },
  {
   "cell_type": "code",
   "execution_count": 4,
   "metadata": {},
   "outputs": [],
   "source": [
    "# Read sets from the national.har basedata:\n",
    "IND = baseData.getHeaderArrayObj(\"IND\")[\"array\"].tolist()\n",
    "REG = baseData.getHeaderArrayObj(\"REG\")[\"array\"].tolist()\n",
    "COM = baseData.getHeaderArrayObj(\"COM\")[\"array\"].tolist()\n",
    "SRC = baseData.getHeaderArrayObj(\"SRC\")[\"array\"].tolist()\n",
    "OCC = baseData.getHeaderArrayObj(\"OCC\")[\"array\"].tolist()\n",
    "# HarFileObj leaves some trailing whitespaces to some entries (this may have changed in more recent versions). \n",
    "# Remove them with:\n",
    "IND = [i.strip(' ') for i in IND]\n",
    "REG = [r.strip(' ') for r in REG]\n",
    "COM = [c.strip(' ') for c in COM]\n",
    "SRC = [s.strip(' ') for s in SRC]\n",
    "OCC = [o.strip(' ') for o in OCC]"
   ]
  },
  {
   "cell_type": "markdown",
   "metadata": {},
   "source": [
    "### Query capital data from national accounts:\n",
    "\n",
    "Available time series start from 1975, which makes the default data requests bigger than the allowed 110K entries. The queries must therefore be broken up to smaller segments."
   ]
  },
  {
   "cell_type": "code",
   "execution_count": 5,
   "metadata": {},
   "outputs": [
    {
     "name": "stdout",
     "output_type": "stream",
     "text": [
      "Capital formation query OK\n",
      "Consumption and retirement query OK\n"
     ]
    }
   ],
   "source": [
    "urlDict = {\n",
    "\"Capital formation\":           \"kan/vtp/statfin_vtp_pxt_016.px\",\n",
    "\"Consumption and retirement\":  \"kan/vtp/statfin_vtp_pxt_017.px\",\n",
    "}\n",
    "# 016 -- Gross fixed capital formation 1975-2017\n",
    "# 017 -- Gross capital, Net capital, consumption and retirements of fixed capital 1975-2017\n",
    "\n",
    "dgf.getData(urlDict, filters={\"Sektori\": [\"S1\"], \"Vara\": [\"TOT\"]})"
   ]
  },
  {
   "cell_type": "code",
   "execution_count": 6,
   "metadata": {},
   "outputs": [
    {
     "name": "stdout",
     "output_type": "stream",
     "text": [
      "Employment query OK\n"
     ]
    }
   ],
   "source": [
    "urlDict2 = {\"Employment\": \"kan/vtp/statfin_vtp_pxt_008.px\"}\n",
    "# 008 -- Employment and hours worked 1975-2017\n",
    "\n",
    "dgf.getData(urlDict2, filters={\"Sektori\": [\"S1\"]})"
   ]
  },
  {
   "cell_type": "code",
   "execution_count": 7,
   "metadata": {},
   "outputs": [
    {
     "name": "stdout",
     "output_type": "stream",
     "text": [
      "Production accounts query OK\n"
     ]
    }
   ],
   "source": [
    "urlDict3 = {\"Production accounts\": \"kan/vtp/statfin_vtp_pxt_007.px\"}\n",
    "# 007 -- Production and generation of income accounts 1975-2017\n",
    "\n",
    "dgf.getData(urlDict3, filters = {\"Sektori\": [\"S1\"], \"Taloustoimi\": [\"B2NT\", \"B3NT\", \"P51CK\"]})\n",
    "\n",
    "# The filters used above are:\n",
    "# S1    = Total economy\n",
    "# TOT   = All assets\n",
    "# B2NT  = Operating surplus \n",
    "# B3NT  = Mixed income\n",
    "# P51CK = Consumption of fixed capital"
   ]
  },
  {
   "cell_type": "code",
   "execution_count": 8,
   "metadata": {},
   "outputs": [],
   "source": [
    "# Read in data:\n",
    "nataccData = {k: pd.read_csv(rawFolder+\"/\"+str(k)+\"_Rawdata.csv\",encoding=\"ISO-8859-1\",na_values =\".\")\\\n",
    "              for k in list(urlDict.keys()) + list(urlDict2.keys()) + list(urlDict3.keys())}"
   ]
  },
  {
   "cell_type": "markdown",
   "metadata": {},
   "source": [
    "### Clean the dta"
   ]
  },
  {
   "cell_type": "code",
   "execution_count": 9,
   "metadata": {},
   "outputs": [],
   "source": [
    "# Collect here the entire available time period (up to the baseYear specified earlier):\n",
    "fullPeriod = []\n",
    "\n",
    "for i in nataccData:\n",
    "    # Replace missing values with zeros and collect the available years:\n",
    "    nataccData[i].fillna(0, inplace = True)\n",
    "    yearsAvailable = [year for year in nataccData[i].columns.tolist() if year.isdigit() and int(year)<=baseYear]\n",
    "    for year in yearsAvailable:\n",
    "        if year not in fullPeriod and int(year)<= baseYear:\n",
    "            fullPeriod.append(year)\n",
    "        \n",
    "    # Rename price variables to a shorter format:\n",
    "    if \"Information\" in nataccData[i].columns:\n",
    "        nataccData[i].replace({\"Current prices\": \"CP\",\n",
    "                               \"At year 2010 prices\": \"FP_2010\",\n",
    "                               \"Ar previous year's prices\":\"FP_prev_yr\", # Note StatFin typo! Is it still there?\n",
    "                               \"At year 2016 prices\": \"2016_prices\", \n",
    "                               \"At year 2017 prices\": \"2017_prices\"}, inplace = True)\n",
    "        # Drop redundant info:\n",
    "        nataccData[i].drop(nataccData[i][nataccData[i].Information.isin([\"Changes in volume indices, %\",\n",
    "                                                                          \"Proportion of transaction, %\",\n",
    "                                                                          \"Ratio to GDP, %\"])].index, inplace=True)\n",
    "        \n",
    "    # Fix another typo in the Statistics Finland data if it still exists:\n",
    "    if \"Sector:\" in nataccData[i].columns:\n",
    "        nataccData[i].rename(columns = {\"Sector:\": \"Sector\"}, inplace = True)\n",
    "    \n",
    "    # For all the columns listed below, shorten data names to only include the matching national accounting codes.\n",
    "    # E.g. \"011_016 Agriculture\" becomes \"011_016\".\n",
    "    for col in nataccData[i]:\n",
    "        if col in [\"Industry\", \"Sector\", \"Transaction\", \"Asset\", \"Type\"]:\n",
    "            nataccData[i][col] = nataccData[i][col].apply(lambda x: x.split(\" \")[0]) \n",
    "            \n",
    "        if col == \"Industry\":\n",
    "            inds = nataccData[i].Industry.unique()\n",
    "            \n",
    "            # Fix some StatFin inconsistencies:\n",
    "            # In some datasets industries are referred to with their aggregate letters, but we want only the \n",
    "            # number code format!\n",
    "            if \"D\" in inds and not \"35\" in inds:\n",
    "                nataccData[i].replace({\"D\": \"35\"}, inplace = True)           \n",
    "            if \"T\" in inds and not \"97_98\" in inds:\n",
    "                nataccData[i].replace({\"T\": \"97_98\"}, inplace = True)            \n",
    "            \n",
    "            # Now, drop those entries that start with a letter (= redundant industry aggregates)\n",
    "            hasLetters = [x for x in inds if not x[0].isdigit()]\n",
    "            nataccData[i].drop(nataccData[i][nataccData[i].Industry.isin(hasLetters)].index, inplace=True)\n",
    "            # And rename the rest following the model naming convention: \"011_016\" becomes \"I_011_016\" etc.\n",
    "            nataccData[i][col] = nataccData[i][col].apply(lambda x: \"{}{}\".format(\"I_\", x))\n",
    "        \n",
    "        # Drop extra years (those more recent than our baseYear)\n",
    "        try:\n",
    "            yearNum = int(col)\n",
    "            if yearNum>baseYear:\n",
    "                nataccData[i].drop(col, axis = 1, inplace = True)\n",
    "        except:\n",
    "            pass"
   ]
  },
  {
   "cell_type": "code",
   "execution_count": 10,
   "metadata": {},
   "outputs": [
    {
     "data": {
      "text/plain": [
       "{'I_0',\n",
       " 'I_01',\n",
       " 'I_011_016',\n",
       " 'I_017',\n",
       " 'I_017+03',\n",
       " 'I_02',\n",
       " 'I_021',\n",
       " 'I_022',\n",
       " 'I_023',\n",
       " 'I_024',\n",
       " 'I_025',\n",
       " 'I_03',\n",
       " 'I_05_06',\n",
       " 'I_07',\n",
       " 'I_08',\n",
       " 'I_09',\n",
       " 'I_10',\n",
       " 'I_10_12',\n",
       " 'I_11',\n",
       " 'I_12',\n",
       " 'I_13',\n",
       " 'I_13_15',\n",
       " 'I_14',\n",
       " 'I_15',\n",
       " 'I_16',\n",
       " 'I_16_17',\n",
       " 'I_17',\n",
       " 'I_18',\n",
       " 'I_19',\n",
       " 'I_19_22',\n",
       " 'I_20',\n",
       " 'I_21',\n",
       " 'I_22',\n",
       " 'I_23',\n",
       " 'I_24',\n",
       " 'I_24_25+28_30+33',\n",
       " 'I_24_30+33',\n",
       " 'I_25',\n",
       " 'I_26',\n",
       " 'I_26_27',\n",
       " 'I_27',\n",
       " 'I_28',\n",
       " 'I_29',\n",
       " 'I_29_30',\n",
       " 'I_30',\n",
       " 'I_31',\n",
       " 'I_31_32',\n",
       " 'I_32',\n",
       " 'I_33',\n",
       " 'I_35',\n",
       " 'I_36',\n",
       " 'I_37',\n",
       " 'I_37_39',\n",
       " 'I_38',\n",
       " 'I_39',\n",
       " 'I_41+432_439',\n",
       " 'I_42+431',\n",
       " 'I_45',\n",
       " 'I_46',\n",
       " 'I_47',\n",
       " 'I_49',\n",
       " 'I_50',\n",
       " 'I_51',\n",
       " 'I_52',\n",
       " 'I_53',\n",
       " 'I_55',\n",
       " 'I_56',\n",
       " 'I_58',\n",
       " 'I_59_60',\n",
       " 'I_61',\n",
       " 'I_62_63',\n",
       " 'I_64',\n",
       " 'I_65',\n",
       " 'I_66',\n",
       " 'I_681+68209+683',\n",
       " 'I_68201',\n",
       " 'I_68201_68202',\n",
       " 'I_68202',\n",
       " 'I_69',\n",
       " 'I_69_70',\n",
       " 'I_70',\n",
       " 'I_71',\n",
       " 'I_72',\n",
       " 'I_73',\n",
       " 'I_74',\n",
       " 'I_74_75',\n",
       " 'I_75',\n",
       " 'I_77',\n",
       " 'I_78',\n",
       " 'I_79',\n",
       " 'I_80',\n",
       " 'I_80_82',\n",
       " 'I_81',\n",
       " 'I_82',\n",
       " 'I_841_842',\n",
       " 'I_843',\n",
       " 'I_844',\n",
       " 'I_845',\n",
       " 'I_846',\n",
       " 'I_85',\n",
       " 'I_86',\n",
       " 'I_87_88',\n",
       " 'I_90_91',\n",
       " 'I_90_92',\n",
       " 'I_92',\n",
       " 'I_93',\n",
       " 'I_94',\n",
       " 'I_95',\n",
       " 'I_96',\n",
       " 'I_97_98'}"
      ]
     },
     "execution_count": 10,
     "metadata": {},
     "output_type": "execute_result"
    }
   ],
   "source": [
    "# View the list of available industries on the NATACC level:\n",
    "set(nataccData['Capital formation'].Industry)"
   ]
  },
  {
   "cell_type": "code",
   "execution_count": 11,
   "metadata": {},
   "outputs": [],
   "source": [
    "# And select manually a set of industires without overlapping entries:\n",
    "nataccIndustries = [\n",
    "\"I_01\", \"I_02\", \"I_03\", \"I_05_06\", \"I_07\", \"I_08\", \"I_09\", \"I_10_12\", \"I_13_15\", \"I_16\", \"I_17\", \"I_18\", \"I_19\", \"I_20\",\n",
    "\"I_21\", \"I_22\", \"I_23\", \"I_24\", \"I_25\", \"I_26\", \"I_27\", \"I_28\", \"I_29\", \"I_30\", \"I_31\", \"I_32\", \"I_33\", \"I_35\",\n",
    "\"I_36\", \"I_37\", \"I_38\", \"I_39\", \"I_41+432_439\", \"I_42+431\", \"I_45\", \"I_46\", \"I_47\", \"I_49\", \"I_50\", \"I_51\", \"I_52\", \"I_53\",\n",
    "\"I_55\", \"I_56\", \"I_58\", \"I_59_60\", \"I_61\", \"I_62_63\", \"I_64\", \"I_65\", \"I_66\", \"I_68201_68202\", \"I_681+68209+683\",\n",
    "\"I_69\", \"I_70\", \"I_71\", \"I_72\", \"I_73\", \"I_74\", \"I_75\", \"I_77\", \"I_78\", \"I_79\", \"I_80\", \"I_81\", \"I_82\", \"I_841_842\",\n",
    "\"I_843\", \"I_844\", \"I_845\", \"I_846\", \"I_85\", \"I_86\", \"I_87_88\", \"I_90_91\", \"I_92\", \"I_93\", \"I_94\", \"I_95\", \"I_96\", \"I_97_98\"]"
   ]
  },
  {
   "cell_type": "code",
   "execution_count": 12,
   "metadata": {},
   "outputs": [
    {
     "name": "stdout",
     "output_type": "stream",
     "text": [
      "True Capital formation\n",
      "True Consumption and retirement\n",
      "True Employment\n",
      "True Production accounts\n"
     ]
    }
   ],
   "source": [
    "# Check that each dataset in nataccData contains all of the industries specified above:\n",
    "for table in nataccData:\n",
    "    if \"Industry\" in nataccData[table].columns:\n",
    "        check = set(nataccIndustries).issubset(nataccData[table].Industry.unique())\n",
    "        if check:\n",
    "            print(check, table)\n",
    "        \n",
    "        else:\n",
    "            for ind in nataccIndustries:\n",
    "                if ind not in nataccData[table].Industry.unique():\n",
    "                    print(\"Missing\", ind, \"in\", table)"
   ]
  },
  {
   "cell_type": "code",
   "execution_count": 13,
   "metadata": {},
   "outputs": [],
   "source": [
    "# Filter out redundant industry aggregates and rename some annoyingly long industry names:\n",
    "renames = {\"I_41+432_439\": \"I_41\",\n",
    "           \"I_42+431\": \"I_42_43\",\n",
    "           \"I_681+68209+683\": \"I_68\",\n",
    "           \"I_68201_68202\":\"I_68A\", \n",
    "           }\n",
    "\n",
    "for table in nataccData:\n",
    "    if \"Industry\" in nataccData[table].columns:\n",
    "        nataccData[table] = nataccData[table][nataccData[table].Industry.isin(nataccIndustries)]\n",
    "        nataccData[table] = nataccData[table].replace(renames)\n",
    "\n",
    "# Also rename the entries listed in nataccIndustries:\n",
    "nataccInd = [renames[i] if i in renames.keys() else i for i in nataccIndustries]"
   ]
  },
  {
   "cell_type": "code",
   "execution_count": 14,
   "metadata": {},
   "outputs": [
    {
     "name": "stdout",
     "output_type": "stream",
     "text": [
      "Swapped places for industries 68A and 68\n"
     ]
    }
   ],
   "source": [
    "# if I_68A comes before I_68, replace their order to match the input-output data:\n",
    "if nataccInd.index(\"I_68A\") < nataccInd.index(\"I_68\"):\n",
    "    a, b = nataccInd.index('I_68A'), nataccInd.index('I_68')\n",
    "    nataccInd[b], nataccInd[a] = nataccInd[a], nataccInd[b]\n",
    "    print(\"Swapped places for industries 68A and 68\")\n",
    "else:\n",
    "    print(\"No changes made\")"
   ]
  },
  {
   "cell_type": "code",
   "execution_count": 15,
   "metadata": {},
   "outputs": [],
   "source": [
    "# Create a mapping from the ~80 national accounts industries to the 30 industries available in regional accounts:\n",
    "natacc2reg = imf.mapperFunction(nataccInd, IND)"
   ]
  },
  {
   "cell_type": "code",
   "execution_count": 16,
   "metadata": {},
   "outputs": [],
   "source": [
    "# Then, aggregate the industry dimension according to the mapping specified above.\n",
    "# First, store the original data for error checking:\n",
    "nataccDataOLD = nataccData.copy()\n",
    "for i in nataccData:\n",
    "    if \"Industry\" in nataccData[i].columns:\n",
    "        nataccData[i].sort_values([\"Industry\"], inplace = True)\n",
    "        nataccData[i][\"IND\"] = nataccData[i][\"Industry\"].map(natacc2reg)\n",
    "        \n",
    "        groupCols = list(nataccData[i].columns)\n",
    "        groupCols = [x for x in groupCols if not x.isdigit() and x != \"Industry\"] \n",
    "        nataccData[i] = nataccData[i].groupby(groupCols, sort = False, as_index = False).sum().set_index(\"IND\").reset_index()"
   ]
  },
  {
   "cell_type": "code",
   "execution_count": 17,
   "metadata": {},
   "outputs": [
    {
     "name": "stdout",
     "output_type": "stream",
     "text": [
      "OK for Capital formation FP_prev_yr\n",
      "OK for Capital formation FP_2010\n",
      "OK for Capital formation 2017_prices\n",
      "OK for Capital formation CP\n",
      "OK for Consumption and retirement FP_2010\n",
      "OK for Consumption and retirement CP\n",
      "OK for Production accounts FP_prev_yr\n",
      "OK for Production accounts FP_2010\n",
      "OK for Production accounts CP\n"
     ]
    }
   ],
   "source": [
    "# Check that annual totals still match after aggregation:\n",
    "for data in [key for key in nataccData.keys() if key != \"Employment\"]:    \n",
    "    for price in set(nataccData[data].Information):\n",
    "        new = nataccData[data][nataccData[data][\"Information\"] == price][fullPeriod].sum()\n",
    "        old = nataccDataOLD[data][nataccDataOLD[data][\"Information\"] == price][fullPeriod].sum()\n",
    "        if np.allclose(new, old):\n",
    "            print(\"OK for\", data, price)"
   ]
  },
  {
   "cell_type": "markdown",
   "metadata": {},
   "source": [
    "### Query data on taxes and tax-like payments:"
   ]
  },
  {
   "cell_type": "code",
   "execution_count": 18,
   "metadata": {},
   "outputs": [
    {
     "name": "stdout",
     "output_type": "stream",
     "text": [
      "Taxes query OK\n"
     ]
    }
   ],
   "source": [
    "urlDict = {\n",
    "\"Taxes\": \"jul/vermak/statfin_vermak_pxt_002.px\"}\n",
    "\n",
    "dgf.getData(urlDict)"
   ]
  },
  {
   "cell_type": "code",
   "execution_count": 19,
   "metadata": {},
   "outputs": [],
   "source": [
    "# Read in data:\n",
    "taxData = {k: pd.read_csv(rawFolder+\"/\"+str(k)+\"_Rawdata.csv\",encoding=\"utf-8\",na_values =\".\") for k in urlDict.keys()} \n",
    "\n",
    "# And clean data:\n",
    "for i in taxData:\n",
    "    taxData[i].fillna(0, inplace = True)\n",
    "        \n",
    "    # Shorten the names of following variable values:\n",
    "    if \"Data\" in taxData[i].columns:\n",
    "        taxData[i].replace({\"Current prices\": \"CP\", \n",
    "                            \"Ratio to GDP, %\": \"GDPratio\",\n",
    "                            \"Share of the sectors' total taxes, %\": \"ShrOfSectorTotal\",\n",
    "                            \"Per capita, EUR\": \"eurPerCap\"}, inplace = True)\n",
    "    \n",
    "    # Rename government sectors: \"S1311 Central government\" becomes \"S1311\" etc.\n",
    "    for col in taxData[i]:\n",
    "        if col == \"Sector\":\n",
    "            taxData[i][col] = taxData[i][col].apply(lambda x: x.split(\" \")[0])          "
   ]
  },
  {
   "cell_type": "code",
   "execution_count": 20,
   "metadata": {},
   "outputs": [],
   "source": [
    "# Last, we only need the current price data, so drop everything else:\n",
    "govTaxlike = taxData[\"Taxes\"].copy()\n",
    "govTaxlike = govTaxlike[govTaxlike[\"Data\"] == \"CP\"].reset_index(drop = True)"
   ]
  },
  {
   "cell_type": "markdown",
   "metadata": {},
   "source": [
    "### Compile needed sources from different data tables:\n",
    "(datacheck.tab in the old database process, VATT-mallien-seloste.docx)"
   ]
  },
  {
   "cell_type": "code",
   "execution_count": 21,
   "metadata": {},
   "outputs": [],
   "source": [
    "# From national capital stock data:\n",
    "filter1 = \"Consumption and retirement\"\n",
    "filter2 = \"Capital formation\"\n",
    "NCP  = nataccData[filter1][(nataccData[filter1][\"Type\"]==\"N\") & (nataccData[filter1][\"Information\"]==\"CP\")]\n",
    "NFP0 = nataccData[filter1][(nataccData[filter1][\"Type\"]==\"N\") & (nataccData[filter1][\"Information\"]==\"FP_2010\")]\n",
    "DCP  = nataccData[filter1][(nataccData[filter1][\"Type\"]==\"P51CK\") & (nataccData[filter1][\"Information\"]==\"CP\")]\n",
    "DFP0 = nataccData[filter1][(nataccData[filter1][\"Type\"]==\"P51CK\") & (nataccData[filter1][\"Information\"]==\"FP_2010\")]\n",
    "ICP  = nataccData[filter2][nataccData[filter2][\"Information\"]==\"CP\"]\n",
    "IFP  = nataccData[filter2][nataccData[filter2][\"Information\"]==\"FP_2010\"]\n",
    "\n",
    "# From production account data:\n",
    "filter3 = \"Production accounts\"\n",
    "D2CP = nataccData[filter3][(nataccData[filter3][\"Transaction\"]==\"P51CK\")& (nataccData[filter3][\"Information\"]==\"CP\")]\n",
    "OSCP = nataccData[filter3][(nataccData[filter3][\"Transaction\"]==\"B2NT\") & (nataccData[filter3][\"Information\"]==\"CP\")]\n",
    "MICP = nataccData[filter3][(nataccData[filter3][\"Transaction\"]==\"B3NT\") & (nataccData[filter3][\"Information\"]==\"CP\")]"
   ]
  },
  {
   "cell_type": "code",
   "execution_count": 22,
   "metadata": {},
   "outputs": [],
   "source": [
    "capData = {\n",
    "\"NCP\":  NCP.copy(),  # Net capital stock, CP\n",
    "\"NFP0\": NFP0.copy(), # Net capital stock, FP\n",
    "\"DCP\":  DCP.copy(),  # Depreciation CP (NC, from capital accounts)\n",
    "\"D2CP\": D2CP.copy(), # Depriciation CP (SURP, from production accounts)\n",
    "\"DFP0\": DFP0.copy(), # Depriciation FP\n",
    "\"ICP\":  ICP.copy(),  # Investment CP\n",
    "\"IFP0\": IFP.copy(),  # Investment FP\n",
    "\"OSCP\": OSCP.copy(), # Operating surplus, net\n",
    "\"MICP\": MICP.copy(), # Mixed income, net\n",
    "}"
   ]
  },
  {
   "cell_type": "code",
   "execution_count": 23,
   "metadata": {},
   "outputs": [],
   "source": [
    "# Set \"IND\" to index for all tables in capData.\n",
    "# Also, for now, drop I_97_98 from all tables because it contains only zero values\n",
    "# and causes problems when calculating trends.\n",
    "for table in capData:\n",
    "    capData[table].set_index(\"IND\", inplace = True)\n",
    "    capData[table].drop(\"I_97_98\", inplace = True)\n",
    "    \n",
    "    # Last, drop redundant columns:\n",
    "    for redundant in [\"Sector\", \"Transaction\", \"Information\", \"Asset\", \"Type\"]:\n",
    "        if redundant in capData[table]:\n",
    "            capData[table].drop(redundant, axis = 1, inplace = True)"
   ]
  },
  {
   "cell_type": "code",
   "execution_count": 24,
   "metadata": {},
   "outputs": [],
   "source": [
    "# Calculate baseyear depreciation rate: first an industry-specific value DEPR and a national aggregate DEPRNAT\n",
    "capData[\"DEPR\"] = (capData[\"DCP\"][str(baseYear)] / capData[\"NCP\"][str(baseYear)]).fillna(0)\n",
    "capData[\"DEPRNAT\"] = (capData[\"DCP\"][str(baseYear)].sum() / capData[\"NCP\"][str(baseYear)].sum())"
   ]
  },
  {
   "cell_type": "markdown",
   "metadata": {},
   "source": [
    "### Calculate industry-specific capital stock growth trends\n",
    "(trend.tab in the old database process, creates trend.har)"
   ]
  },
  {
   "cell_type": "code",
   "execution_count": 25,
   "metadata": {},
   "outputs": [],
   "source": [
    "trend = {}\n",
    "trend[\"NFP0\"] = capData[\"NFP0\"].copy()"
   ]
  },
  {
   "cell_type": "code",
   "execution_count": 26,
   "metadata": {},
   "outputs": [
    {
     "name": "stdout",
     "output_type": "stream",
     "text": [
      "No adjustments made.\n"
     ]
    }
   ],
   "source": [
    "# Check that there are no zero values in capital stocks data NFP0.\n",
    "# If so, set a minimum value of 0.5 for calculating percentage change trends.\n",
    "flag = True\n",
    "for row in fullPeriod:\n",
    "    for col in IND[:-1]:\n",
    "        if trend[\"NFP0\"].loc[col][row] == 0:\n",
    "            flag = False\n",
    "            trend[\"NFP0\"].loc[row][col] = 0.5\n",
    "            print(row, col, \"set from zero to 0.5!\")\n",
    "if flag:\n",
    "    print(\"No adjustments made.\")"
   ]
  },
  {
   "cell_type": "code",
   "execution_count": 27,
   "metadata": {},
   "outputs": [],
   "source": [
    "# Define some time periods:\n",
    "fyear = fullPeriod[0]      # Capital data first year\n",
    "lyear = fullPeriod[1:]     # All but first year\n",
    "year_tr = fullPeriod[-11:] # Chosen trend period: last 10 years\n",
    "numYear_tr = len(year_tr)  # Length of chosen period\n",
    "preYear = fullPeriod[:-1]  # All but last year\n",
    "preYear_tr = [str(int(year_tr[0])-1)] + year_tr # Trend period + 1 preceding year for calculating annual changes\n",
    "capIND = IND[:-1]          # Household service activities omitted from capital trend calulations (empty data)"
   ]
  },
  {
   "cell_type": "code",
   "execution_count": 28,
   "metadata": {},
   "outputs": [],
   "source": [
    "# Estimate capital stock data (stock + investment - depreciation) and compare to the reported StatFin values.\n",
    "\n",
    "# Estimate:\n",
    "trend[\"NFP0_est\"] = pd.DataFrame(0.0, index = capIND, columns = lyear)\n",
    "for year in lyear:\n",
    "    annualCol = trend[\"NFP0\"][str(int(year)-1)] + capData[\"IFP0\"][year] - capData[\"DFP0\"][year]\n",
    "    trend[\"NFP0_est\"][year] = annualCol\n",
    "    \n",
    "# Actual data:\n",
    "trend[\"NFP0_data\"] = trend[\"NFP0\"][lyear].copy()\n",
    "\n",
    "# Nominal difference between original and estimated data:\n",
    "capDiagnostics = {}\n",
    "capDiagnostics[\"NFP0_chk\"] = trend[\"NFP0_data\"] - trend[\"NFP0_est\"]\n",
    "\n",
    "# Change rate between original and estimated data\n",
    "trend[\"DEVK\"] = 100 * ((trend[\"NFP0_est\"][year_tr] - trend[\"NFP0_data\"][year_tr]) / trend[\"NFP0_data\"][year_tr]).fillna(0)"
   ]
  },
  {
   "cell_type": "code",
   "execution_count": 29,
   "metadata": {},
   "outputs": [],
   "source": [
    "# Add first year back to data and sort:\n",
    "trend[\"NFP0_est2\"] = trend[\"NFP0_est\"].copy()\n",
    "trend[\"NFP0_est2\"][fyear] = trend[\"NFP0\"][fyear]\n",
    "trend[\"NFP0_est2\"].sort_index(axis=1, inplace = True)"
   ]
  },
  {
   "cell_type": "code",
   "execution_count": 30,
   "metadata": {},
   "outputs": [],
   "source": [
    "# Annual changes between years:\n",
    "\n",
    "# Initialize empty matrices:\n",
    "trend[\"AG0_est\"] = pd.DataFrame(0.0, index = capIND, columns = lyear) # Annual growth by estimated data\n",
    "trend[\"AG0_data\"]= pd.DataFrame(0.0, index = capIND, columns = lyear) # Annual growth by original data\n",
    "\n",
    "for year in lyear:\n",
    "    annualColEst = 100 * ((trend[\"NFP0_est\"][year] / trend[\"NFP0_est2\"][str(int(year)-1)]) -1).fillna(0)\n",
    "    trend[\"AG0_est\"][year] = annualColEst\n",
    "    \n",
    "    annualColData = 100 * ((trend[\"NFP0_data\"][year] /  trend[\"NFP0\"][str(int(year)-1)]) -1).fillna(0)\n",
    "    trend[\"AG0_data\"][year] = annualColData"
   ]
  },
  {
   "cell_type": "code",
   "execution_count": 31,
   "metadata": {},
   "outputs": [],
   "source": [
    "# Sum trends for trend period year_tr:\n",
    "trend[\"AG0_est2\"] = trend[\"AG0_est\"][year_tr]\n",
    "trend[\"AG0_data2\"]= trend[\"AG0_data\"][year_tr]\n",
    "\n",
    "trend[\"TRNK_est\"] = pd.DataFrame(100 * ((1 + trend[\"AG0_est2\"]/100).product(axis = 1)  ** (1/numYear_tr) -1))\n",
    "trend[\"TRNK_data\"]= pd.DataFrame(100 * ((1 + trend[\"AG0_data2\"]/100).product(axis = 1) ** (1/numYear_tr) -1))\n",
    "\n",
    "# trend.tab ja trend.har valmiit tässä"
   ]
  },
  {
   "cell_type": "markdown",
   "metadata": {},
   "source": [
    "### Add more parameters to data\n",
    "(fixdata.tab in the old database process, creates CAP2.har and WORKFORCE.har)"
   ]
  },
  {
   "cell_type": "code",
   "execution_count": 32,
   "metadata": {},
   "outputs": [],
   "source": [
    "fixData = {}"
   ]
  },
  {
   "cell_type": "code",
   "execution_count": 33,
   "metadata": {},
   "outputs": [
    {
     "data": {
      "text/plain": [
       "True"
      ]
     },
     "execution_count": 33,
     "metadata": {},
     "output_type": "execute_result"
    }
   ],
   "source": [
    "# Operating surplus from StatFin data is in net value, so it excludes depreciation of capital.\n",
    "# It must be added back in:\n",
    "\n",
    "# First, check that the size of all dataframes is identical, before making any additions\n",
    "capData[\"OSCP\"].shape == capData[\"D2CP\"].shape == capData[\"MICP\"].shape"
   ]
  },
  {
   "cell_type": "code",
   "execution_count": 34,
   "metadata": {},
   "outputs": [],
   "source": [
    "#capData[\"OSCP_B\"] = capData[\"OSCP\"].copy()                             # capData[\"OSCP] = original data\n",
    "fixData[\"OSCP\"] = capData[\"OSCP\"] + capData[\"D2CP\"] + capData[\"MICP\"]  # Add depreciation and mixed income\n",
    "fixData[\"OSCP2\"]= capData[\"OSCP\"] + capData[\"D2CP\"]                    # Add depreciation only"
   ]
  },
  {
   "cell_type": "code",
   "execution_count": 35,
   "metadata": {},
   "outputs": [],
   "source": [
    "# Next, choose 4 additional time periods ending to the baseYear and create capital trends:\n",
    "additionalTrends = {\n",
    "# Trend start year\n",
    "\"trend1\": \"1975\",\n",
    "\"trend2\": \"1990\",\n",
    "\"trend3\": \"2000\",\n",
    "\"trend4\": \"2010\"}\n",
    "\n",
    "for period in additionalTrends.values():\n",
    "    fixData[\"trend_\"+period] = pd.DataFrame(((capData[\"NCP\"][str(baseYear)] / capData[\"NCP\"][period]) ** (1/(baseYear - int(period)))).fillna(0))"
   ]
  },
  {
   "cell_type": "code",
   "execution_count": 36,
   "metadata": {},
   "outputs": [],
   "source": [
    "# Calculate estimated value for the net capital stock NCP:\n",
    "fixData[\"NCP_est\"] = pd.DataFrame(0.0, index = capIND, columns = lyear)\n",
    "for year in lyear:\n",
    "    annualCol = capData[\"NCP\"][str(int(year)-1)] + capData[\"ICP\"][year] - capData[\"DCP\"][year]\n",
    "    fixData[\"NCP_est\"][year] = annualCol"
   ]
  },
  {
   "cell_type": "code",
   "execution_count": 37,
   "metadata": {},
   "outputs": [],
   "source": [
    "# From data: net capital stock, current values\n",
    "fixData[\"NFP0L\"] = capData[\"NFP0\"][lyear].copy()\n",
    "fixData[\"DEVK\"] = 100 * ((trend[\"NFP0_est\"] - trend[\"NFP0\"][lyear])/trend[\"NFP0\"][lyear]).fillna(0)"
   ]
  },
  {
   "cell_type": "code",
   "execution_count": 38,
   "metadata": {},
   "outputs": [],
   "source": [
    "# Depreciation rate (this time year-to-year):\n",
    "fixData[\"DEPR\"] = pd.DataFrame(0.0, index = capIND, columns = lyear)\n",
    "for year in lyear:\n",
    "    annualCol = (capData[\"DFP0\"][str(int(year)-1)] / capData[\"NFP0\"][year] ).fillna(0)\n",
    "    fixData[\"DEPR\"][year] = annualCol"
   ]
  },
  {
   "cell_type": "code",
   "execution_count": 39,
   "metadata": {},
   "outputs": [
    {
     "name": "stdout",
     "output_type": "stream",
     "text": [
      "Check operating surplus: True\n",
      "Check operating surplus (without mixed income): True\n",
      "Check depreciation rate: True\n",
      "Check net capital stock: True\n"
     ]
    }
   ],
   "source": [
    "# CHECK FOR FOLLOWING CONDITIONS:\n",
    "\n",
    "# There might be new industries with some operating surplus or depreciation\n",
    "# but no capital stock. Check that these do not exist (all indusries have \n",
    "# non-zero capital stock for all years.)\n",
    "\n",
    "# Checking that all values for all years are non-zero:\n",
    "print(\"Check operating surplus:\", all(fixData[\"OSCP\"] > 0))\n",
    "print(\"Check operating surplus (without mixed income):\", all(fixData[\"OSCP2\"] > 0) )\n",
    "print(\"Check depreciation rate:\", all(capData[\"DCP\"] > 0))\n",
    "print(\"Check net capital stock:\", all(capData[\"NCP\"] > 0))"
   ]
  },
  {
   "cell_type": "markdown",
   "metadata": {},
   "source": [
    "#### Calculate rates of  return for capital\n",
    "\n",
    "The model allows for two different RORs:\n",
    "* RORN -> Normal (historical) ROR, calculated from data.\n",
    "* ROR_se -> Static expectations ROR (Investors consider only current rentals and asset prices when forming expectations about rates of return).\n",
    "\n",
    "Further, the ROR is calculated for two different cases: with and without operating surplus."
   ]
  },
  {
   "cell_type": "code",
   "execution_count": 40,
   "metadata": {},
   "outputs": [],
   "source": [
    "# First, calculate VCAP_AT_TM, that is, the average capital stock between the beginning and end of the year:\n",
    "fixData[\"VCAP_AT_TM\"] = pd.DataFrame(0, index = capIND, columns=lyear)\n",
    "for year in lyear:\n",
    "    annualCol = 0.5 * ((capData[\"NCP\"][str(int(year)-1)] + capData[\"NCP\"][year]).fillna(0))\n",
    "    fixData[\"VCAP_AT_TM\"][year] = annualCol\n",
    "    \n",
    "# Gross operating surplus, current prices:\n",
    "fixData[\"RQK\"] = 100 * ((fixData[\"OSCP\"] - capData[\"DCP\"]) / capData[\"NCP\"])"
   ]
  },
  {
   "cell_type": "code",
   "execution_count": 41,
   "metadata": {},
   "outputs": [
    {
     "name": "stdout",
     "output_type": "stream",
     "text": [
      "CPI query OK\n"
     ]
    }
   ],
   "source": [
    "# Then, query consumer price index (CPI) data from Statistics Finland:\n",
    "urlDict = {\"CPI\": \"statfin_khi_pxt_006.px\"}\n",
    "# 006 -- Consumer Price Indices, overall index\n",
    "dgf.getData(urlDict)"
   ]
  },
  {
   "cell_type": "code",
   "execution_count": 42,
   "metadata": {},
   "outputs": [
    {
     "data": {
      "text/plain": [
       "['CPI 2015=100 Point figure',\n",
       " 'CPI 2010=100 Point figure',\n",
       " 'CPI 2005=100 Point figure',\n",
       " 'CPI 2000=100 Point figure',\n",
       " 'CPI 1995=100 Point figure',\n",
       " 'CPI 1990 =100 Point figure',\n",
       " 'CPI 1985=100 Point figure',\n",
       " 'CPI 1981=100 Point figure',\n",
       " 'CPI 1977=100 Point figure',\n",
       " 'CPI 1972=100 Point figure']"
      ]
     },
     "execution_count": 42,
     "metadata": {},
     "output_type": "execute_result"
    }
   ],
   "source": [
    "# Read in CPI data:\n",
    "cpiData = {k: pd.read_csv(rawFolder+\"/\"+str(k)+\"_Rawdata.csv\",encoding=\"utf-8\",na_values =\".\") for k in urlDict.keys()} \n",
    "\n",
    "# And check the available index base years:\n",
    "[data for data in cpiData[\"CPI\"].columns.unique() if \"100\" in data]"
   ]
  },
  {
   "cell_type": "code",
   "execution_count": 43,
   "metadata": {},
   "outputs": [],
   "source": [
    "# Choose the base year, and clean the dataset.\n",
    "# Note: the period must be long enough to include the user-specified trend period leading to baseYear (here 10 years)\n",
    "infBase = \"CPI 2000=100 Point figure\"\n",
    "\n",
    "# Drop redundant columns:\n",
    "cpiData[\"CPI\"] = cpiData[\"CPI\"][[\"Year\", \"Month\", infBase]]\n",
    "\n",
    "# Only include the values for \"Annual average\", dropping all the month-to-month entries.\n",
    "# This also drops all the NAN values, that is, data older than the chosen infBase.\n",
    "cpiData[\"CPI\"] = cpiData[\"CPI\"][cpiData[\"CPI\"][\"Month\"] == \"Annual average\"].dropna()\n",
    "\n",
    "# Finish up the cleaning:\n",
    "cpiData[\"CPI\"].set_index(\"Year\", inplace = True)\n",
    "cpiData[\"CPI\"].drop(\"Month\", axis=1, inplace = True)\n",
    "cpiData[\"CPI\"].rename(columns = {infBase: \"CPI_LEV\"}, inplace = True)\n",
    "cpiData[\"CPI\"] = cpiData[\"CPI\"].reindex([int(year) for year in preYear_tr])"
   ]
  },
  {
   "cell_type": "code",
   "execution_count": 44,
   "metadata": {},
   "outputs": [],
   "source": [
    "# Get the lagged values:\n",
    "fixData[\"LEV_CPI\"] = cpiData[\"CPI\"].copy()\n",
    "\n",
    "# Original value:\n",
    "fixData[\"LEV_CPI\"] /= 100\n",
    "# Once lagged:\n",
    "fixData[\"LEV_CPI_L\"] = fixData[\"LEV_CPI\"][:-1]\n",
    "fixData[\"LEV_CPI_L\"].index += 1 \n",
    "# Double lagged:\n",
    "fixData[\"LEV_CPI_2L\"] = fixData[\"LEV_CPI_L\"][:-1]\n",
    "fixData[\"LEV_CPI_2L\"].index += 1 "
   ]
  },
  {
   "cell_type": "code",
   "execution_count": 45,
   "metadata": {},
   "outputs": [],
   "source": [
    "# Get inflation rate from consumer price index:\n",
    "fixData[\"INF\"] = fixData[\"LEV_CPI\"].pct_change().dropna()\n",
    "# Real interest rate: KORJAA TÄHÄN VUOSITTAINEN LUKU!!\n",
    "fixData[\"RINT\"] = pd.DataFrame(0.02, index = year_tr, columns = [\"RINT\"])\n",
    "# Nominal interest rate\n",
    "fixData[\"INT\"] = ((fixData[\"RINT\"] + 1).multiply((1+fixData[\"INF\"].values), axis = 0) -1).rename(columns = {\"RINT\":\"INT\"})\n",
    "# Fix the interest rate dataframe index to string format:\n",
    "fixData[\"INT\"].index = fixData[\"INT\"].index.map(int)"
   ]
  },
  {
   "cell_type": "code",
   "execution_count": 46,
   "metadata": {},
   "outputs": [],
   "source": [
    "# Next, calculate the capital income tax rate by deviding annual duty on interest by the operating surplus value\n",
    "# -> jaa korkotulotulojen lähdeveron vuosittainen kertymä (Tilastokeskuksen aineistot) \n",
    "# toimintaylijäämän arvolla koko kansantalouden tasolla. \n",
    "\n",
    "# First, filter out the current-priced duty on interests for the whole economy:\n",
    "fixData[\"TAXK\"] = govTaxlike[(govTaxlike[\"Tax category\"] == \"-1000 Duty on interests\") &\\\n",
    "                             (govTaxlike[\"Sector\"] == \"S13\") &\\\n",
    "                             (govTaxlike[\"Data\"] == \"CP\")].copy()\n",
    "\n",
    "# Transpose data to suitable form and rename the column:\n",
    "fixData[\"TAXK\"] = fixData[\"TAXK\"][[year for year in year_tr]].transpose().rename_axis('Year', axis=1)\n",
    "fixData[\"TAXK\"].rename(columns={fixData[\"TAXK\"].columns[0]: \"TAX_CAP\" }, inplace = True)\n",
    "\n",
    "# Last, divide with operating surplus to get the tax rate:\n",
    "fixData[\"TAX_K_RATE\"] = fixData[\"TAXK\"].div(fixData[\"TAXK\"].add(fixData[\"OSCP\"][year_tr].sum(), axis = 0), axis = 0) * 100"
   ]
  },
  {
   "cell_type": "code",
   "execution_count": 47,
   "metadata": {},
   "outputs": [],
   "source": [
    "# Post-tax real interest rate, static expectations:\n",
    "fixData[\"RINT_PT_SE\"] = ((1 + fixData[\"INT\"].multiply((1-fixData[\"TAX_K_RATE\"].values),\\\n",
    "                        axis=0)).div((1+fixData[\"INF\"].values), axis=0) -1).rename(columns = {\"INT\": \"RINT_PT_SE\"})"
   ]
  },
  {
   "cell_type": "code",
   "execution_count": 48,
   "metadata": {},
   "outputs": [],
   "source": [
    "# Base year CPI and inflation values: (normal, lagged, double lagged)\n",
    "fixData[\"LEV_CPI_B\"]    = fixData[\"LEV_CPI\"].loc[baseYear].copy()\n",
    "fixData[\"LEV_CPI_L_B\"]  = fixData[\"LEV_CPI_L\"].loc[baseYear].copy()\n",
    "fixData[\"LEV_CPI_2L_B\"] = fixData[\"LEV_CPI_2L\"].loc[baseYear].copy()\n",
    "fixData[\"INF_B\"] = fixData[\"INF\"].loc[baseYear].copy()\n",
    "fixData[\"INT_B\"] = fixData[\"INT\"].loc[baseYear].copy()"
   ]
  },
  {
   "cell_type": "code",
   "execution_count": 49,
   "metadata": {},
   "outputs": [],
   "source": [
    "# Static expectations rate of return:\n",
    "# ROR  = no mixed income\n",
    "# ROR2 = yes mixed income\n",
    "\n",
    "fixData[\"ROR_SE\"] = (1/(1+ float(fixData[\"RINT_PT_SE\"].loc[baseYear]))) *\\\n",
    "( (fixData[\"OSCP\"][lyear] * (1-float(fixData[\"TAX_K_RATE\"].loc[str(baseYear)])))\\\n",
    ".div(fixData[\"VCAP_AT_TM\"], axis = 0).add((1-fixData[\"DEPR\"]), axis =0) )-1\n",
    "\n",
    "fixData[\"ROR_SE2\"] = (1/(1+ float(fixData[\"RINT_PT_SE\"].loc[baseYear]))) *\\\n",
    "( (fixData[\"OSCP2\"][lyear] * (1-float(fixData[\"TAX_K_RATE\"].loc[str(baseYear)])))\\\n",
    ".div(fixData[\"VCAP_AT_TM\"], axis = 0).add((1-fixData[\"DEPR\"]), axis =0) )-1"
   ]
  },
  {
   "cell_type": "code",
   "execution_count": 50,
   "metadata": {},
   "outputs": [],
   "source": [
    "# Investment to capital ratio:\n",
    "fixData[\"IKRT\"] = (capData[\"ICP\"][lyear] / capData[\"NCP\"][lyear]).fillna(0)"
   ]
  },
  {
   "cell_type": "markdown",
   "metadata": {},
   "source": [
    "#### Labor part\n",
    "\n",
    "Combines information from national accounts data and labour force survey data to produce an initial employment value of 1 for baseYear."
   ]
  },
  {
   "cell_type": "code",
   "execution_count": 51,
   "metadata": {},
   "outputs": [],
   "source": [
    "empData = {}"
   ]
  },
  {
   "cell_type": "code",
   "execution_count": 52,
   "metadata": {},
   "outputs": [
    {
     "name": "stdout",
     "output_type": "stream",
     "text": [
      "Labour force survey query OK\n"
     ]
    }
   ],
   "source": [
    "# Query regional labour force survey data from Statistics Finland:\n",
    "urlDict = {\n",
    "\"Labour force survey\": \"tym/tyti/statfin_tyti_pxt_008.px\"}\n",
    "\n",
    "dgf.getData(urlDict)"
   ]
  },
  {
   "cell_type": "code",
   "execution_count": 53,
   "metadata": {},
   "outputs": [],
   "source": [
    "# Read in data:\n",
    "surveyData = {k: pd.read_csv(rawFolder+\"/\"+str(k)+\"_Rawdata.csv\",encoding=\"ISO-8859-1\",na_values =\".\") for k in urlDict.keys()}"
   ]
  },
  {
   "cell_type": "code",
   "execution_count": 54,
   "metadata": {},
   "outputs": [],
   "source": [
    "# Clean data:\n",
    "for i in surveyData:\n",
    "    surveyData[i].fillna(0, inplace = True)\n",
    "    \n",
    "    # Rename:\n",
    "    surveyData[i].rename(columns = {\"Region 2011\": \"Region\",\n",
    "                                    \"Population, 1000 persons\": \"WA_POP\",\n",
    "                                    \"Active population, 1000 persons\": \"LAB_SUP\",\n",
    "                                    \"Employed, 1000 persons\": \"EMP\",\n",
    "                                    \"Unemployed, 1000 persons\": \"UNEMP\"}, inplace = True)\n",
    "    \n",
    "    # Drop redundant columns:\n",
    "    for redundant in [\"Activity rate, %\", \"Employment rate (15-64 yr), %\", \"Unemployment rate, %\"]:\n",
    "        if redundant in surveyData[i].columns:\n",
    "            surveyData[i].drop(redundant, axis = 1, inplace = True)"
   ]
  },
  {
   "cell_type": "code",
   "execution_count": 55,
   "metadata": {},
   "outputs": [],
   "source": [
    "# Drop the regional dimension, it is not needed here:\n",
    "empData[\"wfData\"] = surveyData[\"Labour force survey\"][surveyData[\"Labour force survey\"][\"Region\"] == \"Whole country\"]\\\n",
    ".set_index(\"Year\").drop(\"Region\", axis = 1)"
   ]
  },
  {
   "cell_type": "code",
   "execution_count": 56,
   "metadata": {},
   "outputs": [],
   "source": [
    "# Then, filter out labour data from the annual national accounts:\n",
    "# E1 = Employment, 1000 persons\n",
    "empData[\"employ_i\"] = nataccData[\"Employment\"][nataccData[\"Employment\"][\"Transaction\"] == \"E1\"]\\\n",
    ".set_index(\"IND\").drop([\"Sector\", \"Transaction\"], axis = 1).sum()"
   ]
  },
  {
   "cell_type": "code",
   "execution_count": 57,
   "metadata": {},
   "outputs": [],
   "source": [
    "# Get a list of years for which data are available both for national accounts and labour survey:\n",
    "empData[\"years\"] = [year for year in empData[\"employ_i\"].index if year in empData[\"wfData\"].index.astype(\"str\")]"
   ]
  },
  {
   "cell_type": "code",
   "execution_count": 58,
   "metadata": {},
   "outputs": [],
   "source": [
    "# Reindex data using the list of common years:\n",
    "empData[\"wfData1\"] = empData[\"wfData\"].reindex([int(yr) for yr in empData[\"years\"]]).copy()\n",
    "empData[\"wfData2\"] = empData[\"wfData\"].reindex([int(yr) for yr in empData[\"years\"]]).copy() # Data edited using natacc emp \n",
    "empData[\"employ_i\"] = empData[\"employ_i\"].reindex(empData[\"years\"])\n",
    "\n",
    "empData[\"wfData2\"][\"EMP\"] = empData[\"employ_i\"].values\n",
    "empData[\"wfData2\"][\"UNEMP\"] = empData[\"wfData2\"][\"LAB_SUP\"] -  empData[\"wfData2\"][\"EMP\"] \n",
    "\n",
    "empData[\"wfInit\"] = empData[\"wfData2\"] / empData[\"wfData2\"].loc[baseYear][\"EMP\"] # data initial emp 1 at baseyear\n",
    "empData[\"wfInit2\"] = empData[\"wfData1\"]/ empData[\"wfData1\"].loc[baseYear][\"EMP\"] # data initial emp 1 at baseyear"
   ]
  },
  {
   "cell_type": "code",
   "execution_count": 59,
   "metadata": {},
   "outputs": [],
   "source": [
    "fixData[\"EMPLOYMENT\"] = empData[\"wfInit\"].loc[baseYear][\"EMP\"]\n",
    "fixData[\"LAB_SUP\"] = empData[\"wfInit\"].loc[baseYear][\"LAB_SUP\"]"
   ]
  },
  {
   "cell_type": "markdown",
   "metadata": {},
   "source": [
    "### Data adjusting\n",
    "\n",
    "* Ensure that the capital data created above matches with the input-output data created in the ORANI-G steps.\n",
    "* Industry-specific depreciation rates and RORs are assigned a maximum value of 20%.\n",
    "* Create EXTRA.har files\n",
    "\n",
    "(adjustdata.tab in the 2008 data creation process, creates dataout.har and extout.har)"
   ]
  },
  {
   "cell_type": "code",
   "execution_count": 60,
   "metadata": {},
   "outputs": [],
   "source": [
    "# Initialize empty dictionary to store data:\n",
    "adjust = {}\n",
    "check  = {}"
   ]
  },
  {
   "cell_type": "code",
   "execution_count": 61,
   "metadata": {},
   "outputs": [],
   "source": [
    "# Read in some data arrays from base data:\n",
    "V1LAB = pd.DataFrame(baseData.getHeaderArrayObj(\"1LAB\")[\"array\"], index = IND, columns = OCC)\n",
    "V1CAP = pd.Series(baseData.getHeaderArrayObj(\"1CAP\")[\"array\"], index = IND)\n",
    "V1OCT = pd.Series(baseData.getHeaderArrayObj(\"1OCT\")[\"array\"], index = IND)\n",
    "\n",
    "V2BAS_S = pd.DataFrame(baseData.getHeaderArrayObj(\"2BAS\")[\"array\"].sum(axis=1), index = COM, columns = IND)\n",
    "V2TAX_S = pd.DataFrame(baseData.getHeaderArrayObj(\"2TAX\")[\"array\"].sum(axis=1), index = COM, columns = IND)\n",
    "V2MAR_SM = pd.DataFrame(baseData.getHeaderArrayObj(\"2MAR\")[\"array\"].sum(axis=1).sum(axis=2), index = COM, columns = IND)\n",
    "\n",
    "V2PUR_S = V2BAS_S + V2TAX_S + V2MAR_SM\n",
    "V2TOT   = V2PUR_S.sum()\n",
    "\n",
    "\n",
    "# Redundant?\n",
    "#V2BAS_CS  = pd.Series(baseData.getHeaderArrayObj(\"2BAS\")[\"array\"].sum(axis=1).sum(axis=0), index = IND)\n",
    "#V2TAX_CS  = pd.Series(baseData.getHeaderArrayObj(\"2TAX\")[\"array\"].sum(axis=1).sum(axis=0), index = IND)\n",
    "#V2MAR_CSM = pd.Series(baseData.getHeaderArrayObj(\"2MAR\")[\"array\"].sum(axis=0).sum(axis=0).sum(axis=1), index = IND)\n",
    "# This should be identical to header \"2TOT\" in ../oranig2013/summary.har:\n",
    "#V2TOT_CS  = V2BAS_CS + V2TAX_CS + V2MAR_CSM\n",
    "\n",
    "for table in [V1CAP, V1OCT, V2TOT]:\n",
    "    table.drop(\"I_97_98\", inplace = True)"
   ]
  },
  {
   "cell_type": "markdown",
   "metadata": {},
   "source": [
    "#### Baseyear reference values"
   ]
  },
  {
   "cell_type": "code",
   "execution_count": 62,
   "metadata": {},
   "outputs": [],
   "source": [
    "# Normalize asset price of capital for all industries in baseYear to 1:\n",
    "\n",
    "# Asset price of capital stocks, start of forecast year \n",
    "adjust[\"PCAP_AT_T\"] = pd.Series(1.0, index = capIND)\n",
    "\n",
    "# Asset price of capital by industry, year average\n",
    "adjust[\"PCAP_I\"] = pd.Series(1.0, index = capIND)\n",
    "\n",
    "# Start of year capital stocks valued at start start of year prices\n",
    "adjust[\"VCAP_AT_T\"] = capData[\"NCP\"][str(baseYear-1)]"
   ]
  },
  {
   "cell_type": "code",
   "execution_count": 63,
   "metadata": {},
   "outputs": [],
   "source": [
    "# Baseyear expected real interest rate (?)\n",
    "adjust[\"RINT_PT_SE\"] = float(fixData[\"RINT_PT_SE\"].loc[baseYear])\n",
    "\n",
    "# Baseyear capital income tax rate\n",
    "adjust[\"TAX_K_RATE\"] = float(fixData[\"TAX_K_RATE\"].loc[str(baseYear)])"
   ]
  },
  {
   "cell_type": "code",
   "execution_count": 64,
   "metadata": {},
   "outputs": [],
   "source": [
    "# Depreciation rate of capital stock in ind i in baseYear:\n",
    "adjust[\"DEPnew\"] = capData[\"DCP\"][str(baseYear)] / adjust[\"VCAP_AT_T\"]\n",
    "\n",
    "# Average depreciation rate (industry-specific):\n",
    "adjust[\"DEPave1\"] = capData[\"DCP\"][fullPeriod].sum(axis=1) / capData[\"NCP\"][fullPeriod].sum(axis=1)\n",
    "\n",
    "# Average depreciation rate (aggregate):\n",
    "adjust[\"DEPave2\"] = adjust[\"DEPave1\"].sum() / len(adjust[\"DEPave1\"].index)"
   ]
  },
  {
   "cell_type": "code",
   "execution_count": 65,
   "metadata": {},
   "outputs": [
    {
     "name": "stdout",
     "output_type": "stream",
     "text": [
      "OK! No adjustments needed.\n"
     ]
    }
   ],
   "source": [
    "# Replace zero depreciation rates, if they exist, with long run averages:\n",
    "flag = True\n",
    "for ind in adjust[\"DEPnew\"].index:\n",
    "    if adjust[\"DEPnew\"].loc[ind] == 0.0:\n",
    "        flag = False\n",
    "        adjust[\"DEPnew\"].loc[ind] = adjust[\"DEPave2\"]\n",
    "        print(\"Set\", ind, \"depreciation rate from zero to long run average value\", adjust[\"DEPave2\"])\n",
    "if flag:\n",
    "    print(\"OK! No adjustments needed.\")"
   ]
  },
  {
   "cell_type": "markdown",
   "metadata": {},
   "source": [
    "#### Set maximum level for depreciation rates"
   ]
  },
  {
   "cell_type": "code",
   "execution_count": 66,
   "metadata": {},
   "outputs": [
    {
     "name": "stdout",
     "output_type": "stream",
     "text": [
      "Capped I_26_27 depreciation rate from 0.22705624919552067 to 0.2\n",
      "Capped I_58_63 depreciation rate from 0.20835018196522442 to 0.2\n",
      "Capped I_64_66 depreciation rate from 0.27238805970149255 to 0.2\n",
      "Capped I_69_75 depreciation rate from 0.20130932896890344 to 0.2\n"
     ]
    }
   ],
   "source": [
    "# Cap maximum depreciation rate:\n",
    "maxdep = 0.2\n",
    "flag = True\n",
    "for ind in adjust[\"DEPnew\"].index:\n",
    "    if adjust[\"DEPnew\"].loc[ind] > maxdep:\n",
    "        flag = False\n",
    "        orig = adjust[\"DEPnew\"].loc[ind]\n",
    "        adjust[\"DEPnew\"].loc[ind] = maxdep\n",
    "        print(\"Capped\", ind, \"depreciation rate from\", orig, \"to\", maxdep)\n",
    "if flag:\n",
    "    print(\"OK! No adjustments needed.\")"
   ]
  },
  {
   "cell_type": "markdown",
   "metadata": {},
   "source": [
    "#### (Jos toimintaylijäämä siirretään V1CAP -> V1LAB, tee se tässä!)\n",
    "ks. vanha ainestovaihe CAPITAL/adjustdata.tab rivi 377."
   ]
  },
  {
   "cell_type": "markdown",
   "metadata": {},
   "source": [
    "#### Set maximum level for rates of return"
   ]
  },
  {
   "cell_type": "code",
   "execution_count": 67,
   "metadata": {},
   "outputs": [],
   "source": [
    "# Value of capital, baseYear in mid-year prices:\n",
    "adjust[\"VCAP_AT_TM\"] = adjust[\"VCAP_AT_T\"] * adjust[\"PCAP_I\"] / adjust[\"PCAP_AT_T\"]"
   ]
  },
  {
   "cell_type": "code",
   "execution_count": 68,
   "metadata": {},
   "outputs": [],
   "source": [
    "# Static expectations ROR:\n",
    "adjust[\"ROR_SE\"] = (1 / (1 + adjust[\"RINT_PT_SE\"])) *\\\n",
    "((V1CAP * (1 - adjust[\"TAX_K_RATE\"])) / adjust[\"VCAP_AT_TM\"] + (1 - adjust[\"DEPnew\"])) - 1"
   ]
  },
  {
   "cell_type": "code",
   "execution_count": 69,
   "metadata": {},
   "outputs": [
    {
     "name": "stdout",
     "output_type": "stream",
     "text": [
      "Capped rate of return for I_41_43 to 0.2\n",
      "Capped rate of return for I_45_47 to 0.2\n",
      "Capped rate of return for I_64_66 to 0.2\n"
     ]
    }
   ],
   "source": [
    "adjust[\"ROR_SE20\"] = adjust[\"ROR_SE\"].copy()\n",
    "maxror = 0.2\n",
    "flag = True\n",
    "for i in adjust[\"ROR_SE20\"].index:\n",
    "    if adjust[\"ROR_SE20\"].loc[i] > maxror:\n",
    "        flag = False\n",
    "        adjust[\"ROR_SE20\"].loc[i] = maxror\n",
    "        print(\"Capped rate of return for\", i, \"to\", maxror)\n",
    "if flag:\n",
    "    print(\"No adjustments made.\")"
   ]
  },
  {
   "cell_type": "markdown",
   "metadata": {},
   "source": [
    "#### Recalculate V1CAP using the adjusted values for depreciation and rates of return\n",
    "\n",
    "Changes in V1CAP are transferred to other costs (V1OCT) to maintain database balance.\n",
    "\n",
    "The idea is that we are moving \"pure profits\" to a non-resource using area !"
   ]
  },
  {
   "cell_type": "code",
   "execution_count": 70,
   "metadata": {},
   "outputs": [],
   "source": [
    "# Calculate new V1CAP\n",
    "adjust[\"V1CAPnew\"]=adjust[\"VCAP_AT_TM\"] * ((1 + adjust[\"RINT_PT_SE\"])*(1+adjust[\"ROR_SE20\"])-(1-adjust[\"DEPnew\"])) /\\\n",
    "                   (1-adjust[\"TAX_K_RATE\"])\n",
    "    \n",
    "adjust[\"ROR_SEnew\"] = (1 / (1 + adjust[\"RINT_PT_SE\"])) *\\\n",
    "(    (adjust[\"V1CAPnew\"] * (1 - adjust[\"TAX_K_RATE\"]) )/adjust[\"VCAP_AT_TM\"] + (1-adjust[\"DEPnew\"])     ) -1"
   ]
  },
  {
   "cell_type": "code",
   "execution_count": 71,
   "metadata": {},
   "outputs": [],
   "source": [
    "# Difference between new and old values:\n",
    "V1CAPdiff = adjust[\"V1CAPnew\"] - V1CAP \n",
    "\n",
    "# Redistribute the difference to other cost tickets:\n",
    "V1CAP += V1CAPdiff\n",
    "V1OCT -= V1CAPdiff"
   ]
  },
  {
   "cell_type": "code",
   "execution_count": 72,
   "metadata": {},
   "outputs": [],
   "source": [
    "# Read nominal investment:\n",
    "check[\"Invest\"] = capData[\"ICP\"][str(baseYear)]"
   ]
  },
  {
   "cell_type": "code",
   "execution_count": 73,
   "metadata": {},
   "outputs": [],
   "source": [
    "# Baseyear capital growth rate:\n",
    "adjust[\"K_GR\"] = V2TOT / adjust[\"VCAP_AT_T\"] - adjust[\"DEPnew\"]\n",
    "\n",
    "# 10-year trend growth rate (industry-specific):\n",
    "adjust[\"TREND10yr\"] = capData[\"NCP\"][year_tr].T.pct_change().add(1).prod().pow(1.0/numYear_tr).sub(1)\n",
    "\n",
    "# 10-year trend growth rate (aggregate):\n",
    "adjust[\"TRENDNAT\"] = capData[\"NCP\"][year_tr].sum().pct_change().add(1).prod() ** (1.0/numYear_tr) -1"
   ]
  },
  {
   "cell_type": "code",
   "execution_count": 74,
   "metadata": {},
   "outputs": [],
   "source": [
    "# Recip. of slopes of cap. supply curves when K_GR(i)=TREND_K(i)R:\n",
    "adjust[\"SMURF\"] = pd.Series(0.5, index = capIND)\n",
    "\n",
    "# TREND_K = historically normal capital growth rate:\n",
    "adjust[\"TREND_K\"] = adjust[\"TREND10yr\"].copy()\n",
    "\n",
    "# Set a 10% limit for all industries between  maximum and trend growth rates.\n",
    "# For minimum capital growth rates, negative depreciation rate is used.\n",
    "DIFF = 0.1\n",
    "adjust[\"K_GR_MAX\"] = adjust[\"TREND_K\"] + DIFF\n",
    "adjust[\"K_GR_MIN\"] =-adjust[\"DEPnew\"] "
   ]
  },
  {
   "cell_type": "code",
   "execution_count": 75,
   "metadata": {},
   "outputs": [
    {
     "name": "stdout",
     "output_type": "stream",
     "text": [
      "OK! No adjustments needed.\n"
     ]
    }
   ],
   "source": [
    "# Adjusting capital growth rate to some reasonable figures:\n",
    "flag = True\n",
    "for ind in adjust[\"K_GR\"].index:\n",
    "    value = adjust[\"K_GR\"].loc[ind]\n",
    "    if value > adjust[\"K_GR_MAX\"].loc[ind]:\n",
    "        flag = False\n",
    "        adjust[\"K_GR\"].loc[ind] = adjust[\"K_GR_MAX\"].loc[ind]\n",
    "        print(\"Capped\", ind, \"to the maximum value!\")\n",
    "    if value < adjust[\"K_GR_MIN\"].loc[ind]:\n",
    "        flag = False\n",
    "        adjust[\"K_GR\"].loc[ind] = adjust[\"K_GR_MIN\"].loc[ind]\n",
    "        print(\"Adjusted\", ind, \"to a minimum value!\")\n",
    "if flag:\n",
    "    print(\"OK! No adjustments needed.\")\n",
    "if not flag:\n",
    "    print(\"Adjust investments to account for the adjustments in capital growth rates! See adjustdata.tab row 582!\")"
   ]
  },
  {
   "cell_type": "code",
   "execution_count": 76,
   "metadata": {},
   "outputs": [
    {
     "data": {
      "text/plain": [
       "True"
      ]
     },
     "execution_count": 76,
     "metadata": {},
     "output_type": "execute_result"
    }
   ],
   "source": [
    "# Check that the total investments still match:\n",
    "V2TOTnew = adjust[\"VCAP_AT_T\"]*(adjust[\"K_GR\"] + adjust[\"DEPnew\"])\n",
    "all(abs(V2TOTnew - V2TOT) < 0.000001)"
   ]
  },
  {
   "cell_type": "code",
   "execution_count": 77,
   "metadata": {},
   "outputs": [],
   "source": [
    "V2MULT = V2TOTnew / V2TOT"
   ]
  },
  {
   "cell_type": "code",
   "execution_count": 78,
   "metadata": {},
   "outputs": [],
   "source": [
    "# Compute normal long-run rates of return that is not updated on the model baseline:\n",
    "\n",
    "# Coefficient in capital supply curve\n",
    "adjust[\"COEFF_SL\"] = adjust[\"SMURF\"] * (adjust[\"K_GR_MAX\"] - adjust[\"K_GR_MIN\"]) / \\\n",
    "                   ((adjust[\"K_GR_MAX\"] - adjust[\"TREND_K\"]) * (adjust[\"TREND_K\"] - adjust[\"K_GR_MIN\"]))"
   ]
  },
  {
   "cell_type": "code",
   "execution_count": 79,
   "metadata": {},
   "outputs": [],
   "source": [
    "# Natural ROR:\n",
    "adjust[\"RORNnew\"] = adjust[\"ROR_SEnew\"] - (1/adjust[\"COEFF_SL\"]).fillna(1) *\\\n",
    "(  (np.log(adjust[\"K_GR\"] - adjust[\"K_GR_MIN\"]) - np.log(adjust[\"K_GR_MAX\"] - adjust[\"K_GR\"])) -\\\n",
    "(np.log(adjust[\"TREND_K\"] - adjust[\"K_GR_MIN\"]) - np.log(adjust[\"K_GR_MAX\"] - adjust[\"TREND_K\"]))  )"
   ]
  },
  {
   "cell_type": "markdown",
   "metadata": {},
   "source": [
    "\n",
    "#### Additional data for EXTRA.har files"
   ]
  },
  {
   "cell_type": "code",
   "execution_count": 80,
   "metadata": {},
   "outputs": [],
   "source": [
    "# Vector shifter, equilibrium rate of return:\n",
    "FSTA = pd.Series(0.0, index = IND)\n",
    "# Industry soecific shifter in equilibrium rate of return:\n",
    "FRRI = pd.Series(0.0, index = IND)\n",
    "# Adjustment coefficient:\n",
    "ADJC = pd.Series(0.5, index = IND)\n",
    "# Control adjustment of RORs in forward-looking expectations algorithm\n",
    "ADRE = pd.Series(0.05, index = IND)\n",
    "# Time set:\n",
    "FNUM = [\"N\"+str(x) for x in range(1,51)]\n",
    "TIME = [\"T\"+str(x) for x in range(0,50)]\n",
    "# Adjustment coefficient:\n",
    "RORG = pd.DataFrame(0.0, index = IND, columns = FNUM)\n",
    "# Level of consumer quantity:\n",
    "LVX3 = pd.DataFrame(1.0, index = COM, columns = SRC)\n",
    "# Share of consumer prices:\n",
    "B3SH = pd.DataFrame(1.0, index = COM, columns = SRC)\n",
    "# Level of consumer prices:\n",
    "LVP3 = pd.DataFrame(1.0, index = COM, columns = SRC)"
   ]
  },
  {
   "cell_type": "code",
   "execution_count": 81,
   "metadata": {},
   "outputs": [],
   "source": [
    "# EXTRA parameters:\n",
    "extraParams = {\n",
    "# coef. name: (value,  header, long name)\n",
    "\"DUM_YEAR1\":   (1.0,   \"0045\", \"Dummy for the first year\"),\n",
    "\"BETA1\":       (0.5,   \"BTA1\", \"Parameter for soft government budget\"),\n",
    "\"BETA2\":       (1.5,   \"BTA2\", \"Parameter for soft government budget\"),\n",
    "\"LEV_CPI_L\":   (1.0,   \"CPIL\", \"Lagged level of consumer prices\"),\n",
    "\"DEFDIFSUM\":   (0.0,   \"DDIF\", \"Cumulative diference to start-year deficit\"),\n",
    "\"DEFDIFNPV\":   (0.0,   \"DDIV\", \"Capitalized cumulative difference to start-year deficit\"),\n",
    "\"DISCFACT\":    (1.0,   \"DFAC\", \"Sum of discounting terms\"),\n",
    "\"R_DEFGDP_BO\": (0.0,   \"DGPD\", \"Public sector debt as percentage from GDP\"),\n",
    "\"DIFF\":        (0.1,   \"DIFF\", \"Maximum difference from trend rate growth\"),\n",
    "\"FEMPADJ\":     (0.0,   \"EADJ\", \"Level of the shift variable in E_d_f_empadj\"),\n",
    "\"f_eeqror\":    (0.0,   \"FCSE\", \"F_EEQROR\"),\n",
    "#\"LEV_CPI\":     (0.0,   \"GREV\", \"Level of consumer prices\"),\n",
    "\"NAIRU\":       (0.07,  \"NROU\", \"Natural rate of unemployment\"),\n",
    "\"NATSAVSH\":    (1.0,   \"NSSH\", \"Share of national savings in GNP\"),\n",
    "\"PLAB\":        (1.035, \"PLAB\", \"Nominal wage level\"),\n",
    "\"PLAL\":        (1.0,   \"PLAL\", \"Nominal wage level, lagged\"),\n",
    "\"PSDATTGP0\":   (0.0,   \"PSDG\", \"Public sector debt as percentage from GDP\"),\n",
    "\"COMPRFAC\":    (1.0,   \"RFAC\", \"Compound interest rate from base year\"),\n",
    "\"RINT\":        (0.02,  \"RINT\", \"Base year real interest rate\"), # baseYear\n",
    "\"RALPH\":       (0.0,   \"RLPH\", \"Profit tax parameter\"),\n",
    "\"RINT_L\":      (0.01,  \"RNTL\", \"Lagged real interest rate\"),\n",
    "\"RWAGE\":       (1.0,   \"RWAG\", \"Real wage (=CPI deflated wage rate)\"),\n",
    "\"YEAR\":        (5.0,   \"YEAR\", \"Year of RE SIM (??)\"),\n",
    "}"
   ]
  },
  {
   "cell_type": "code",
   "execution_count": 82,
   "metadata": {},
   "outputs": [],
   "source": [
    "def addMissingInd(dictionary):\n",
    "    for i in dictionary:\n",
    "        data = dictionary[i]\n",
    "        try:\n",
    "            dataIndex = data.index.tolist()\n",
    "            if dataIndex == capIND:\n",
    "                dictionary[i] = data.reindex(IND).fillna(0)\n",
    "        except:\n",
    "            pass "
   ]
  },
  {
   "cell_type": "code",
   "execution_count": 83,
   "metadata": {},
   "outputs": [],
   "source": [
    "for d in [adjust, trend, fixData, capData]:\n",
    "    addMissingInd(d)"
   ]
  },
  {
   "cell_type": "markdown",
   "metadata": {},
   "source": [
    "#### Write data to HAR output files"
   ]
  },
  {
   "cell_type": "code",
   "execution_count": 84,
   "metadata": {},
   "outputs": [],
   "source": [
    "extraDims = {\n",
    "\"IND\": IND,\n",
    "\"COM\": COM,\n",
    "\"TIME\": TIME,\n",
    "\"FNUM\": FNUM,\n",
    "\"SRC\": SRC,\n",
    "}"
   ]
  },
  {
   "cell_type": "code",
   "execution_count": 85,
   "metadata": {},
   "outputs": [],
   "source": [
    "extOut={\n",
    "#coefficient name: (dataname, header name, long name, [list of dimensions])\n",
    "\"VCAP_AT_T\":  (adjust[\"VCAP_AT_T\"], \"VCAP\", \"Start of year capital stocks valued at start of year prices\", [\"IND\"]),\n",
    "\"TREND10yr\":  (adjust[\"TREND10yr\"], \"TRNK\", \"10-year trend growth\", [\"IND\"]),   \n",
    "\"TRENDNAT\" :  (adjust[\"TRENDNAT\"], \"TNAT\", \"10-year aggregate trend growth\", []),  \n",
    "\"LEV_CPI_2L\": (fixData[\"LEV_CPI_2L_B\"], \"LCP2\", \"Base year double lagged CPI\", []),\n",
    "\"LEV_CPI_L\":  (fixData[\"LEV_CPI_L_B\"], \"LCPL\", \"Base year lagged CPI\", []),    \n",
    "\"LEV_CPI\":    (fixData[\"LEV_CPI_B\"], \"LCPI\", \"Base year CPI\", []),  \n",
    "\"F_EEQROR_I\": (FSTA, \"FSTA\", \"Vector shifter for EEQROR, equilibrium rate of return\", [\"IND\"]),\n",
    "\"FRRI\":       (FRRI, \"FRRI\", \"Industry soecific shifter in equilibrium rate of return\", [\"IND\"]),\n",
    "\"ADJC\":       (ADJC, \"ADJC\", \"Adjustment coefficient\", [\"IND\"]),  \n",
    "    \n",
    "\"PCAP_I_B\":  (adjust[\"PCAP_I\"], \"PCAB\", \"Asset price of capital stock by ind at baseline, average in year\", [\"IND\"]),\n",
    "\"PCAP_I\":    (adjust[\"PCAP_I\"], \"PCAI\", \"Asset price of capital by industry, average in year\", [\"IND\"]),\n",
    "\"PCAP_I_L\":  (adjust[\"PCAP_I\"], \"PCAL\", \"Asset price of capital stocks, averange of year t-1, init solution\", [\"IND\"]),\n",
    "\"PCAP\":      (adjust[\"PCAP_I\"], \"PCAP\", \"Asset price of capital stocks, start of the forecast year\", [\"IND\"]),    \n",
    "\"PCAT\":      (adjust[\"PCAP_I\"], \"PCAT\", \"Asset price of capital stocks, end of the forecast year\", [\"IND\"]),    \n",
    "\n",
    "\"DEPnew\": (adjust[\"DEPnew\"], \"DEPR\", \"Depreciation of capital stock in industry i\", [\"IND\"]),   \n",
    "\"RORNnew\":(adjust[\"RORNnew\"], \"RORN\", \"Historically normal rate of return\", [\"IND\"]),\n",
    "\"SMURF\":  (adjust[\"SMURF\"], \"SMRF\", \"Recip. of slopes of cap. supply curves when K_GR(i) = TREND_K(i)\", [\"IND\"]),\n",
    "    \n",
    "\"EMPLOYMENT\": (fixData[\"EMPLOYMENT\"], \"EMPL\", \"Aggregate employment 1 in initial solution for year t\", []),    \n",
    "\"LAB_SUP\":    (fixData[\"LAB_SUP\"], \"LSUP\", \"Aggregate labour supply for year t\", []),    \n",
    "    \n",
    "\"ADRE\": (ADRE, \"ADRE\", \"Control adjustment of RORs in forward-looking expectations algorithm\", [\"IND\"]),\n",
    "\"RORG\": (RORG, \"RORG\", \"Adjustment coefficient\", [\"IND\", \"TIME\"]),\n",
    "    \n",
    "\"LVX3\":   (LVX3, \"LVX3\", \"Level of consumer quantity\", [\"COM\", \"SRC\"]),\n",
    "\"LVSHR3\": (B3SH, \"B3SH\", \"Share of consumer prices\", [\"COM\", \"SRC\"]),\n",
    "\"LVP3\":   (LVP3, \"LVP3\", \"Level of consumer prices\", [\"COM\", \"SRC\"]),\n",
    "}    "
   ]
  },
  {
   "cell_type": "code",
   "execution_count": 86,
   "metadata": {},
   "outputs": [],
   "source": [
    "# Add the extra parameters:\n",
    "for i in extraParams:\n",
    "    coeff = i\n",
    "    value = extraParams[i][0]\n",
    "    header= extraParams[i][1]\n",
    "    longname = extraParams[i][2]\n",
    "    extOut[i] = (value, header, longname, [])"
   ]
  },
  {
   "cell_type": "code",
   "execution_count": 87,
   "metadata": {},
   "outputs": [],
   "source": [
    "output = {**extraDims, **extOut}\n",
    "hwf.data2har(output, extraDims).writeToDisk(harFolder+\"/capitalextra.har\")"
   ]
  },
  {
   "cell_type": "markdown",
   "metadata": {},
   "source": [
    "#### Write the actual output capital.har"
   ]
  },
  {
   "cell_type": "code",
   "execution_count": 88,
   "metadata": {},
   "outputs": [],
   "source": [
    "capDims = {\n",
    "\"IND\": IND,\n",
    "\"COM\": COM,\n",
    "\"SRC\": SRC,\n",
    "\"YEAR\": fullPeriod,\n",
    "\"YETR\": year_tr,\n",
    "\"YERL\": lyear,\n",
    "\"NIND\": nataccInd,\n",
    "}"
   ]
  },
  {
   "cell_type": "code",
   "execution_count": 89,
   "metadata": {},
   "outputs": [],
   "source": [
    "capOut = {\n",
    "#coefficient name: (dataname, header name, long name, [list of dimensions])\n",
    "\"LEV_CPI_B\":    (fixData[\"LEV_CPI_B\"], \"LCPI\", \"Level of CPI, base year\", []),\n",
    "\"LEV_CPI_L_B\":  (fixData[\"LEV_CPI_L_B\"], \"LCPL\", \"Lagged level of CPI, base year\" , []),\n",
    "\"LEV_CPI_2L_B\": (fixData[\"LEV_CPI_2L_B\"], \"LCP2\", \"Double lagged level of CPI, base year\", []),\n",
    "    \n",
    "\"RINT\":  (fixData[\"RINT\"], \"RINT\", \"Real interest rate\", [\"YETR\"]),\n",
    "\"INF_B\": (fixData[\"INF_B\"], \"INF\", \"Base year inflation\", []),\n",
    "\"INT_B\": (fixData[\"INT_B\"], \"INT\", \"Base year nominal interest rate\", []),\n",
    "    \n",
    "\"TAX_K_RATE\": (fixData[\"TAX_K_RATE\"], \"TKRT\", \"Rate of tax on capital income\", [\"YETR\"]),\n",
    "\"RINT_PT_SE\": (fixData[\"RINT_PT_SE\"], \"RNTP\", \"Post-tax real interest rate, static expectations\", [\"YETR\"]),\n",
    "\"EMPLOYMENT\": (fixData[\"EMPLOYMENT\"], \"EMPL\", \"Aggregate employment, 1 in initial solution year\", []),\n",
    "\"LAB_SUP\":    (fixData[\"LAB_SUP\"], \"LSUP\", \"Aggregate labour supply\", []),\n",
    "    \n",
    "\"DCP\": (capData[\"DCP\"], \"DCP\", \"Depreciation, current prices\", [\"IND\", \"YEAR\"]),\n",
    "\"NCP\": (capData[\"NCP\"], \"NCP\", \"Net capital stock current prices\", [\"IND\", \"YEAR\"]),\n",
    "    \n",
    "\"TREND75\": (fixData[\"trend_1975\"], \"TR75\", \"Trend growth in capital stock\", [\"IND\"]),\n",
    "\"TREND90\": (fixData[\"trend_1990\"], \"TR90\", \"Trend growth in capital stock\", [\"IND\"]),\n",
    "\"TREND00\": (fixData[\"trend_2000\"], \"TR00\", \"Trend growth in capital stock\", [\"IND\"]),\n",
    "\"TREND10\": (fixData[\"trend_2010\"], \"TR10\", \"Trend growth in capital stock\", [\"IND\"]),\n",
    "    \n",
    "\"NFP_est\": (trend[\"NFP0_est\"], \"NFPE\", \"Net capital stock, estimated\", [\"IND\", \"YERL\"]),\n",
    "\"NFP0L\":   (trend[\"NFP0\"][lyear], \"NFPL\", \"Net capital stock, current prices\", [\"IND\", \"YERL\"]),\n",
    "\"NFP0\":    (trend[\"NFP0\"], \"NFP0\", \"Net capital stock, fixed prices\", [\"IND\", \"YEAR\"]),\n",
    "\"DEVK\":    (fixData[\"DEVK\"], \"DEVK\", \"Net capital stock difference\", [\"IND\", \"YERL\"]),\n",
    "\"DEPR\":    (fixData[\"DEPR\"], \"DEPR\", \"Depreciation rate\", [\"IND\", \"YERL\"]),\n",
    "    \n",
    "\"RQK\":(fixData[\"RQK\"], \"RQK\", \"Gross operating surplus, current prices\", [\"IND\", \"YEAR\"]),\n",
    "\"DEP\":(adjust[\"DEPnew\"], \"DEP\", \"Base year depriciation rate\", [\"IND\"]),   # Onko oikea DEP?\n",
    "    \n",
    "\"ROR_SE\":    (fixData[\"ROR_SE\"], \"ROR\", \"Rate of return, static expectations\", [\"IND\", \"YERL\"]),\n",
    "\"ROR_SE2\":   (fixData[\"ROR_SE2\"], \"ROR2\", \"Rate of return, static expectations incl mixed income\", [\"IND\", \"YERL\"]),\n",
    "\"VCAP_AT_TM\":(fixData[\"VCAP_AT_TM\"], \"VCPM\", \"Value of capital, start of fcast year in mid-yr prices\", [\"IND\", \"YERL\"]),\n",
    "\"IKratio\":   (fixData[\"IKRT\"], \"IKRT\", \"Investment to capital ratio\", [\"IND\", \"YERL\"]),\n",
    "    \n",
    "\"OSCP\":(fixData[\"OSCP\"], \"OSCP\", \"Operating surplus\", [\"IND\", \"YEAR\"]),\n",
    "\"D2CP\":(capData[\"D2CP\"], \"D2CP\", \"Depreciation, current prices, from production accounts\", [\"IND\", \"YEAR\"]),\n",
    "\"MICP\":(capData[\"MICP\"], \"MICP\", \"Mixed income\", [\"IND\", \"YEAR\"]),\n",
    "\"NCP_est\":(fixData[\"NCP_est\"], \"NCPE\", \"Net capial stock, estimate, current prices\", [\"IND\", \"YERL\"]),\n",
    "\"ICP\":(capData[\"ICP\"], \"ICP\", \"Investment, current prices\", [\"IND\", \"YEAR\"]),\n",
    "\"OSCP2\":(fixData[\"OSCP2\"], \"OSC2\", \"Operating surplus without mixed income\", [\"IND\", \"YEAR\"]),\n",
    "\n",
    "}"
   ]
  },
  {
   "cell_type": "code",
   "execution_count": 90,
   "metadata": {},
   "outputs": [],
   "source": [
    "output = {**capDims, **capOut}\n",
    "hwf.data2har(output, capDims).writeToDisk(harFolder+\"/capital.har\")"
   ]
  },
  {
   "cell_type": "code",
   "execution_count": 91,
   "metadata": {},
   "outputs": [],
   "source": [
    "# Write out updated headers for V1CAP and other cost tickets.\n",
    "# Also add the missing industry I_97 that was omitted from capital calculations.\n",
    "# Check if V1LAB and V2*** should also be recalculated (adjustdata.tab)\n",
    "V1CAP = V1CAP.reindex(IND).fillna(0)\n",
    "V1OCT = V1OCT.reindex(IND).fillna(0)"
   ]
  },
  {
   "cell_type": "code",
   "execution_count": 92,
   "metadata": {},
   "outputs": [],
   "source": [
    "dataAdjustment = {\n",
    "\"1CAP\": (V1CAP, \"1CAP\", \"Cost of capital NEW\", [\"IND\"]),\n",
    "\"1OCT\": (V1OCT, \"1OCT\", \"Other cost tickets NEW\", [\"IND\"])\n",
    "}"
   ]
  },
  {
   "cell_type": "code",
   "execution_count": 93,
   "metadata": {},
   "outputs": [],
   "source": [
    "hwf.data2har(dataAdjustment, {\"IND\": IND}).writeToDisk(harFolder+\"/adjustData.har\")"
   ]
  },
  {
   "cell_type": "markdown",
   "metadata": {},
   "source": [
    "# END OF PROGRAM"
   ]
  }
 ],
 "metadata": {
  "kernelspec": {
   "display_name": "Python 3",
   "language": "python",
   "name": "python3"
  },
  "language_info": {
   "codemirror_mode": {
    "name": "ipython",
    "version": 3
   },
   "file_extension": ".py",
   "mimetype": "text/x-python",
   "name": "python",
   "nbconvert_exporter": "python",
   "pygments_lexer": "ipython3",
   "version": "3.6.6"
  }
 },
 "nbformat": 4,
 "nbformat_minor": 2
}
