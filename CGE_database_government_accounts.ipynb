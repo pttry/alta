{
 "cells": [
  {
   "cell_type": "markdown",
   "metadata": {},
   "source": [
    "# Government accounts"
   ]
  },
  {
   "cell_type": "code",
   "execution_count": 1,
   "metadata": {},
   "outputs": [],
   "source": [
    "# Import all necessary modules:\n",
    "\n",
    "# Basic modules\n",
    "import pandas as pd\n",
    "import numpy  as np\n",
    "import os\n",
    "import re\n",
    "\n",
    "# HARPY module by Centre of Policy Studies for writing data into Header Array (HAR) format.\n",
    "# Available at https://github.com/GEMPACKsoftware/HARPY\n",
    "from harpy.har_file import HarFileObj\n",
    "from harpy.header_array import HeaderArrayObj as HAO\n",
    "\n",
    "import dataGetterFunction as dgf\n",
    "import harWriterFunction  as hwf\n",
    "import mapperFunction as imf\n",
    "import checkerFunctions as cfs"
   ]
  },
  {
   "cell_type": "code",
   "execution_count": 2,
   "metadata": {},
   "outputs": [],
   "source": [
    "# Choose base year for data:\n",
    "baseYear = 2014\n",
    "# Raw data folder:\n",
    "rawFolder = \"rawdata\"\n",
    "# Folder for output HAR-files:\n",
    "harFolder = \"hardata\""
   ]
  },
  {
   "cell_type": "code",
   "execution_count": 3,
   "metadata": {},
   "outputs": [],
   "source": [
    "# Read data from previous steps:\n",
    "baseData = HarFileObj.loadFromDisk(harFolder+\"/basedataNEW.har\")"
   ]
  },
  {
   "cell_type": "markdown",
   "metadata": {},
   "source": [
    "#### Read data entries from previous steps:"
   ]
  },
  {
   "cell_type": "code",
   "execution_count": 4,
   "metadata": {},
   "outputs": [],
   "source": [
    "# Sets:\n",
    "COM = baseData.getHeaderArrayObj(\"COM\")[\"array\"].tolist()\n",
    "IND = baseData.getHeaderArrayObj(\"IND\")[\"array\"].tolist()\n",
    "SRC = baseData.getHeaderArrayObj(\"SRC\")[\"array\"].tolist()\n",
    "OCC = baseData.getHeaderArrayObj(\"OCC\")[\"array\"].tolist()\n",
    "MAR = baseData.getHeaderArrayObj(\"MAR\")[\"array\"].tolist()\n",
    "# HarFileObj leaves some trailing whitespaces to some entries (this may have changed in more recent versions). \n",
    "# Remove them with:\n",
    "COM = [c.strip(' ') for c in COM]\n",
    "IND = [i.strip(' ') for i in IND]\n",
    "SRC = [s.strip(' ') for s in SRC]\n",
    "OCC = [o.strip(' ') for o in OCC]\n",
    "MAR = [m.strip(' ') for m in MAR]"
   ]
  },
  {
   "cell_type": "code",
   "execution_count": 5,
   "metadata": {},
   "outputs": [],
   "source": [
    "# Read national accounts industries from capital data (81 industries)\n",
    "capitalData = HarFileObj.loadFromDisk(harFolder+\"/capital.har\")\n",
    "NIND = capitalData.getHeaderArrayObj(\"NIND\")[\"array\"].tolist()\n",
    "NIND = [n.strip(' ') for n in NIND]"
   ]
  },
  {
   "cell_type": "code",
   "execution_count": 6,
   "metadata": {},
   "outputs": [],
   "source": [
    "# Numerical data:\n",
    "\n",
    "# Taxes and tariffs:\n",
    "V1TAX_CSI= baseData.getHeaderArrayObj(\"1TAX\")[\"array\"].sum()\n",
    "V2TAX_CS= pd.Series(baseData.getHeaderArrayObj(\"2TAX\")[\"array\"].sum(axis=1).sum(axis=0), index = IND)\n",
    "V2TAX_CSI = V2TAX_CS.sum()\n",
    "V3TAX = pd.DataFrame(baseData.getHeaderArrayObj(\"3TAX\")[\"array\"], index = COM, columns = SRC)\n",
    "V3TAX_CS = V3TAX.sum().sum()\n",
    "V4TAX = pd.Series(baseData.getHeaderArrayObj(\"4TAX\")[\"array\"], index = COM)\n",
    "V4TAX_C = V4TAX.sum()\n",
    "V5TAX = pd.DataFrame(baseData.getHeaderArrayObj(\"5TAX\")[\"array\"], index = COM, columns = SRC)\n",
    "V5TAX_CS = V5TAX.sum().sum()\n",
    "V6TAX = pd.DataFrame(baseData.getHeaderArrayObj(\"6TAX\")[\"array\"], index = COM, columns = SRC)\n",
    "V6TAX_CS = V6TAX.sum().sum()\n",
    "V0TAR = pd.Series(baseData.getHeaderArrayObj(\"0TAR\")[\"array\"], index = COM)\n",
    "V0TAR_C = V0TAR.sum()\n",
    "V1PTX = pd.Series(baseData.getHeaderArrayObj(\"1PTX\")[\"array\"], index = IND)\n",
    "V1PTX_I = V1PTX.sum()\n",
    "V0TAX_CSI = V1TAX_CSI + V2TAX_CSI + V3TAX_CS + V4TAX_C + V5TAX_CS + V0TAR_C + V1PTX_I\n",
    "\n",
    "# Factor data:\n",
    "V1LAB = pd.DataFrame(baseData.getHeaderArrayObj(\"1LAB\")[\"array\"], index = IND, columns = OCC)\n",
    "V1LAB_O = V1LAB.sum(axis=1)\n",
    "V1CAP = pd.Series(baseData.getHeaderArrayObj(\"1CAP\")[\"array\"], index = IND) # VAIHDA TÄHÄN: LUE CAPITAL.HARrista\n",
    "V1LND = pd.Series(baseData.getHeaderArrayObj(\"1LND\")[\"array\"], index = IND)\n",
    "\n",
    "# Basic and purchasers priced flows:\n",
    "V2BAS_CS = pd.Series(baseData.getHeaderArrayObj(\"2BAS\")[\"array\"].sum(axis=1).sum(axis=0), index = IND)\n",
    "V2MAR_CSM = baseData.getHeaderArrayObj(\"2MAR\")[\"array\"].sum(axis=1).sum(axis=0).sum(axis=1)\n",
    "V2PUR_CS = V2BAS_CS + V2TAX_CS + V2MAR_CSM\n",
    "V5BAS = pd.DataFrame(baseData.getHeaderArrayObj(\"5BAS\")[\"array\"], index = COM, columns = SRC)\n",
    "V5MAR_CSM = baseData.getHeaderArrayObj(\"5MAR\")[\"array\"].sum()\n",
    "V5MAR = baseData.getHeaderArrayObj(\"5MAR\")[\"array\"]"
   ]
  },
  {
   "cell_type": "markdown",
   "metadata": {},
   "source": [
    "## Step 1: Compile public sector data\n",
    "\n",
    "* Annual national accounts: 012 - Sector accounts\n",
    "* Annual national accounts: 014 - General government's total revenue and -expenditure\n",
    "* Annual national accounts: 007 - Production and generation of income\n",
    "* Government finance: 002 - Taxes and tax-like payments\n",
    "* Annual national accounts: 016 - Gross fixed capital formation\n",
    "* Government finance: 001 - General gov't expenditure by function (=COFOG)"
   ]
  },
  {
   "cell_type": "markdown",
   "metadata": {},
   "source": [
    "#### Sector accounts"
   ]
  },
  {
   "cell_type": "code",
   "execution_count": 7,
   "metadata": {},
   "outputs": [
    {
     "name": "stdout",
     "output_type": "stream",
     "text": [
      "Sector accounts query OK\n",
      "Govt accounts query OK\n"
     ]
    }
   ],
   "source": [
    "# Specify data location:\n",
    "urlDict = {\n",
    "\"Sector accounts\": \"kan/vtp/statfin_vtp_pxt_012.px\",\n",
    "\"Govt accounts\" :\"kan/vtp/statfin_vtp_pxt_014.px\"}\n",
    "# 012 -- Sector accounts 1975-2017\n",
    "# 014 -- General government's total revenue and -expenditure 1975-2017\n",
    "\n",
    "# Perform query:\n",
    "dgf.getData(urlDict, baseYear = baseYear, filters = {\"Sektori\": [\"S13\"]}, search = True)"
   ]
  },
  {
   "cell_type": "code",
   "execution_count": 8,
   "metadata": {},
   "outputs": [],
   "source": [
    "# Read in data:\n",
    "sectorData = {k: pd.read_csv(rawFolder+\"/\"+str(k)+\"_Rawdata.csv\",encoding=\"ISO-8859-1\",na_values =\".\") for k in urlDict.keys()} "
   ]
  },
  {
   "cell_type": "code",
   "execution_count": 9,
   "metadata": {},
   "outputs": [],
   "source": [
    "# Clean data:\n",
    "for i in sectorData:\n",
    "    sectorData[i].fillna(0, inplace = True)\n",
    "    sectorData[i].rename(columns = {\"Sector:\": \"Sector\"}, inplace = True) # NOTE STATFIN TYPO!\n",
    "    for col in sectorData[i]:\n",
    "        if col in [\"Sector\", \"Transaction\"]:\n",
    "            sectorData[i][col] = sectorData[i][col].apply(lambda x: x.split(\" \")[0])\n",
    "        \n",
    "        if col == \"Information\":\n",
    "            sectorData[i].replace({\"Current prices\": \"CP\"}, inplace = True)   \n",
    "# Include only current price values: \n",
    "sectorData[\"Govt accounts\"] = sectorData[\"Govt accounts\"][sectorData[\"Govt accounts\"][\"Information\"] == \"CP\"].reset_index(drop=True)"
   ]
  },
  {
   "cell_type": "markdown",
   "metadata": {},
   "source": [
    "#### Government expenditure by function"
   ]
  },
  {
   "cell_type": "code",
   "execution_count": 10,
   "metadata": {},
   "outputs": [
    {
     "name": "stdout",
     "output_type": "stream",
     "text": [
      "Expenditure query OK\n",
      "Debt query OK\n",
      "Deficit query OK\n"
     ]
    }
   ],
   "source": [
    "# Specify data location:\n",
    "urlDict = {\"Expenditure\":    \"jul/jmete/statfin_jmete_pxt_001.px\",\n",
    "           \"Debt\":           \"jul/jali/statfin_jali_pxt_002.px\",\n",
    "           \"Deficit\":        \"jul/jali/statfin_jali_pxt_001.px\"}\n",
    "# 001 -- General goverment expenditures by function 1990-2016\n",
    "# 002 -- General government debt, consolidated between sub-sectors 1975-2017\n",
    "# 001 -- General government deficit and debt 1975-2017\n",
    "\n",
    "# Perform query:\n",
    "dgf.getData(urlDict, baseYear = baseYear)"
   ]
  },
  {
   "cell_type": "code",
   "execution_count": 11,
   "metadata": {},
   "outputs": [],
   "source": [
    "# Read in data:\n",
    "cofogData = {k: pd.read_csv(rawFolder+\"/\"+str(k)+\"_Rawdata.csv\",encoding=\"ISO-8859-1\",na_values =\".\")\\\n",
    "             for k in list(urlDict.keys())}"
   ]
  },
  {
   "cell_type": "code",
   "execution_count": 12,
   "metadata": {},
   "outputs": [],
   "source": [
    "# Clean data:\n",
    "for i in cofogData:\n",
    "    cofogData[i].fillna(0, inplace = True)\n",
    "    if \"Data\" in cofogData[i].columns:\n",
    "        cofogData[i].replace({\"Current prices\": \"CP\"}, inplace = True)\n",
    "    \n",
    "    for col in cofogData[i]:\n",
    "        if col in [\"Sector\", \"Transaction\", \"Function\"]:\n",
    "            cofogData[i][col] = cofogData[i][col].apply(lambda x: x.split(\" \")[0])  \n",
    "# Include only current price values:            \n",
    "cofogData[\"Expenditure\"] = cofogData[\"Expenditure\"][cofogData[\"Expenditure\"][\"Data\"]==\"CP\"].reset_index(drop=True)\n",
    "cofogData[\"Debt\"] = cofogData[\"Debt\"][cofogData[\"Debt\"][\"Value\"] == \"Million Euro\"]\n",
    "cofogData[\"Deficit\"] = cofogData[\"Deficit\"][cofogData[\"Deficit\"][\"Value\"] == \"Million Euro\"]"
   ]
  },
  {
   "cell_type": "markdown",
   "metadata": {},
   "source": [
    "#### Production accounts"
   ]
  },
  {
   "cell_type": "code",
   "execution_count": 13,
   "metadata": {},
   "outputs": [
    {
     "name": "stdout",
     "output_type": "stream",
     "text": [
      "Production query OK\n",
      "Investment query OK\n"
     ]
    }
   ],
   "source": [
    "# Specify data location:\n",
    "urlDict = {\n",
    "\"Production\": \"kan/vtp/statfin_vtp_pxt_007.px\",\n",
    "\"Investment\": \"kan/vtp/statfin_vtp_pxt_016.px\"}\n",
    "# 007 -- Production and generation of income accounts 1975-2017\n",
    "# 016 -- Gross fixed capital formation 1975-2017\n",
    "\n",
    "# Perform query:\n",
    "dgf.getData(urlDict, baseYear = baseYear, filters = {\"Sektori\": [\"S1\", \"S1311\", \"S1313\", \"S1314\"]})"
   ]
  },
  {
   "cell_type": "code",
   "execution_count": 14,
   "metadata": {},
   "outputs": [],
   "source": [
    "# Read in data: (note the StatFin inconsistency with NaN values)\n",
    "prodData = {k: pd.read_csv(rawFolder+\"/\"+str(k)+\"_Rawdata.csv\",encoding=\"ISO-8859-1\",na_values =[\".\", \"..\"])\\\n",
    "            for k in urlDict.keys()} "
   ]
  },
  {
   "cell_type": "code",
   "execution_count": 15,
   "metadata": {},
   "outputs": [],
   "source": [
    "# Clean data:\n",
    "for i in prodData:\n",
    "    prodData[i].fillna(0, inplace = True)\n",
    "    prodData[i][str(baseYear)] = prodData[i][str(baseYear)].apply(pd.to_numeric, errors = \"raise\")\n",
    "    for col in prodData[i]:\n",
    "        if col in [\"Industry\", \"Sector\", \"Transaction\", \"Asset\"]:\n",
    "            prodData[i][col] = prodData[i][col].apply(lambda x: x.split(\" \")[0])  \n",
    "            \n",
    "        if col == \"Information\":\n",
    "            prodData[i].replace({\"Current prices\": \"CP\",\n",
    "                                 \"At year 2010 prices\": \"FP2010\"}, inplace = True)  \n",
    "            \n",
    "            # Drop redundant info:\n",
    "            prodData[i].drop(prodData[i][prodData[i].Information.isin([\"Changes in volume indices, %\",\n",
    "                                                                          \"Ar previous year's prices\" # NOTE STATFIN TYPO!!\n",
    "                                                                      ])].index, inplace=True)\n",
    "            \n",
    "        if col == \"Industry\":\n",
    "            inds = prodData[i].Industry.unique()\n",
    "            \n",
    "            # Fix some StatFin inconsistencies:\n",
    "            # In some datasets industries are referred to with their aggregate letters, but we want only the \n",
    "            # number code format!\n",
    "            if \"D\" in inds and not \"35\" in inds:\n",
    "                prodData[i].replace({\"D\": \"35\"}, inplace = True)           \n",
    "            if \"T\" in inds and not \"97_98\" in inds:\n",
    "                prodData[i].replace({\"T\": \"97_98\"}, inplace = True) \n",
    "                \n",
    "            # And rename the rest following the model naming convention: \"011_016\" becomes \"I_011_016\" etc.\n",
    "            prodData[i][col] = prodData[i][col].apply(lambda x: \"{}{}\".format(\"I_\", x))\n",
    "            \n",
    "            prodData[i].replace({\"I_41+432_439\": \"I_41\",\n",
    "                                 \"I_42+431\": \"I_42_43\",\n",
    "                                 \"I_68201_68202\":\"I_68A\",\n",
    "                                 \"I_681+68209+683\": \"I_68\"}, inplace = True)\n",
    "            "
   ]
  },
  {
   "cell_type": "code",
   "execution_count": 16,
   "metadata": {},
   "outputs": [
    {
     "name": "stdout",
     "output_type": "stream",
     "text": [
      "True Production\n",
      "True Investment\n"
     ]
    }
   ],
   "source": [
    "# Check that each dataset contains all of the industries specified above:\n",
    "for table in prodData:\n",
    "    if \"Industry\" in prodData[table].columns:\n",
    "        check = set(NIND).issubset(prodData[table].Industry.unique())\n",
    "        if check:\n",
    "            print(check, table)\n",
    "        \n",
    "        else:\n",
    "            for ind in prodData:\n",
    "                if ind not in prodData[table].Industry.unique():\n",
    "                    print(\"Missing\", ind, \"in\", table)"
   ]
  },
  {
   "cell_type": "code",
   "execution_count": 17,
   "metadata": {},
   "outputs": [],
   "source": [
    "# Before proceeding, take filter a set containing only the industry aggregate \"I_0\" Industries total to check that\n",
    "# after manually selecting the nataccIndustries, the entire economy is still covered:\n",
    "#checkTotals = prodData.copy()\n",
    "#for table in checkTotals:\n",
    "#    if \"Industry\" in checkTotals[table].columns:\n",
    "#        checkTotals[table] = checkTotals[table][checkTotals[table][\"Industry\"] == \"I_0\"]\n",
    "\n",
    "for table in prodData:\n",
    "    if \"Industry\" in prodData[table].columns:\n",
    "        prodData[table] = prodData[table][prodData[table].Industry.isin(NIND)]\n",
    "#        prodData[table] = prodData[table].replace(renames)\n",
    "\n",
    "# Also rename the entries listed in nataccIndustries:\n",
    "#nataccInd = [renames[i] if i in renames.keys() else i for i in nataccIndustries]"
   ]
  },
  {
   "cell_type": "code",
   "execution_count": 18,
   "metadata": {},
   "outputs": [],
   "source": [
    "# Create a mapping from the ~80 national accounts industries to the 30 industries available in regional accounts:\n",
    "natacc2reg = imf.mapperFunction(NIND, IND)"
   ]
  },
  {
   "cell_type": "code",
   "execution_count": 19,
   "metadata": {},
   "outputs": [],
   "source": [
    "# Then, aggregate the industry dimension according to the mapping specified above:\n",
    "prodDataOLD = {}\n",
    "for i in prodData:\n",
    "    prodDataOLD[i] = prodData[i].copy(deep = True)\n",
    "    \n",
    "for i in prodData:\n",
    "    if \"Industry\" in prodData[i].columns:\n",
    "        prodData[i][\"IND\"] = prodData[i][\"Industry\"].map(natacc2reg)\n",
    "        groupCols = [x for x in list(prodData[i].columns) if x != \"Industry\" and x != str(baseYear)]\n",
    "        prodData[i] = prodData[i].groupby(groupCols, sort = False, as_index = False).sum()#.set_index(\"IND\")"
   ]
  },
  {
   "cell_type": "code",
   "execution_count": 20,
   "metadata": {},
   "outputs": [
    {
     "name": "stdout",
     "output_type": "stream",
     "text": [
      "True for S1\n",
      "True for S1311\n",
      "True for S1313\n",
      "True for S1314\n"
     ]
    }
   ],
   "source": [
    "# Quick check that totals still match after the aggregation:\n",
    "for sec in prodData[\"Investment\"].Sector.unique():\n",
    "    check_a = prodDataOLD[\"Investment\"][(prodDataOLD[\"Investment\"][\"Sector\"] == sec) &\n",
    "                          (prodDataOLD[\"Investment\"][\"Information\"] == \"CP\") &\n",
    "                          (prodDataOLD[\"Investment\"][\"Asset\"] == \"TOT\")][str(baseYear)].sum()\n",
    "    \n",
    "    check_b = prodData[\"Investment\"][(prodData[\"Investment\"][\"Sector\"] == sec) &\n",
    "                          (prodData[\"Investment\"][\"Information\"] == \"CP\") &\n",
    "                          (prodData[\"Investment\"][\"Asset\"] == \"TOT\")][str(baseYear)].sum()\n",
    "            \n",
    "    print(abs(check_a - check_b) < 0.1, \"for\", sec)"
   ]
  },
  {
   "cell_type": "markdown",
   "metadata": {},
   "source": [
    "#### Tax data"
   ]
  },
  {
   "cell_type": "code",
   "execution_count": 21,
   "metadata": {},
   "outputs": [
    {
     "name": "stdout",
     "output_type": "stream",
     "text": [
      "Taxes query OK\n"
     ]
    }
   ],
   "source": [
    "# Specify data location:\n",
    "urlDict = {\"Taxes\": \"jul/vermak/statfin_vermak_pxt_002.px\"}\n",
    "# 002 -- Taxes and tax-like payments, tax types 1975-2017\n",
    "\n",
    "# Perform query:\n",
    "dgf.getData(urlDict)"
   ]
  },
  {
   "cell_type": "code",
   "execution_count": 22,
   "metadata": {},
   "outputs": [],
   "source": [
    "# Read in data:\n",
    "taxData = {k: pd.read_csv(rawFolder+\"/\"+str(k)+\"_Rawdata.csv\",encoding=\"ISO-8859-1\",na_values =\".\") for k in urlDict.keys()} "
   ]
  },
  {
   "cell_type": "code",
   "execution_count": 23,
   "metadata": {},
   "outputs": [],
   "source": [
    "# Clean data:\n",
    "for i in taxData:\n",
    "    taxData[i].fillna(0, inplace = True)\n",
    "    if \"Data\" in taxData[i].columns:\n",
    "        taxData[i].replace({\"Current prices\": \"CP\"}, inplace = True)\n",
    "    \n",
    "    for col in taxData[i]:\n",
    "        if col in [\"Sector\"]:\n",
    "            taxData[i][col] = taxData[i][col].apply(lambda x: x.split(\" \")[0])  \n",
    "# Include only current price values:            \n",
    "taxData[\"Taxes\"] = taxData[\"Taxes\"][taxData[\"Taxes\"][\"Data\"]==\"CP\"].reset_index(drop=True)"
   ]
  },
  {
   "cell_type": "markdown",
   "metadata": {},
   "source": [
    "## Step 2: Create government data\n",
    "\n",
    "Creates:\n",
    "* Extra\n",
    "* Forecast file\n",
    "* First government data version"
   ]
  },
  {
   "cell_type": "code",
   "execution_count": 24,
   "metadata": {},
   "outputs": [],
   "source": [
    "govData = {}"
   ]
  },
  {
   "cell_type": "code",
   "execution_count": 25,
   "metadata": {},
   "outputs": [],
   "source": [
    "pubSecs = [\"S1311\", # Central government\n",
    "           \"S1313\", # Local government\n",
    "           \"S1314\", # Social security funds\n",
    "          ]\n",
    "\n",
    "aggSec = {\n",
    "\"S13\":    \"S13\",    # General government\n",
    "\"S1311\":  \"S1311\",  # Central government\n",
    "\"S1313\":  \"S1313\",  # Local government \n",
    "\"S13141\": \"S1314\",  # Aggregate: Employment pension schemes -> Social security funds\n",
    "\"S13149\": \"S1314\"   # Aggregate: Other social security funds -> Social security funds\n",
    "}"
   ]
  },
  {
   "cell_type": "code",
   "execution_count": 26,
   "metadata": {},
   "outputs": [],
   "source": [
    "# Aggregate sector accounts according to aggSec specified above:\n",
    "secBase = sectorData[\"Sector accounts\"].copy()\n",
    "secBase[\"aggSector\"] = secBase[\"Sector\"].map(aggSec)\n",
    "secBase = secBase.groupby([\"aggSector\", \"Transaction\"], sort = False).sum().reset_index()\n",
    "\n",
    "govBase = sectorData[\"Govt accounts\"].copy()\n",
    "govBase[\"aggSector\"] = govBase[\"Sector\"].map(aggSec)\n",
    "govBase = govBase.groupby([\"aggSector\", \"Transaction\"], sort = False).sum().reset_index()\n",
    "\n",
    "# Also, filter out COFOG expenture by function data for the next step:\n",
    "cofog = cofogData[\"Expenditure\"].copy()"
   ]
  },
  {
   "cell_type": "code",
   "execution_count": 27,
   "metadata": {},
   "outputs": [],
   "source": [
    "# Read current priced employers' social contributions from production accounts data:\n",
    "govData[\"D1\"] =  prodData[\"Production\"][(prodData[\"Production\"][\"Transaction\"] == \"D1K\") &\\\n",
    "                       (prodData[\"Production\"][\"Sector\"] == \"S1\") &\\\n",
    "                       (prodData[\"Production\"][\"Information\"] == \"CP\")].set_index(\"IND\")[str(baseYear)]\n",
    "\n",
    "\n",
    "govData[\"D12\"] = prodData[\"Production\"][(prodData[\"Production\"][\"Transaction\"] == \"D12K\") &\\\n",
    "                       (prodData[\"Production\"][\"Sector\"] == \"S1\") &\\\n",
    "                       (prodData[\"Production\"][\"Information\"] == \"CP\")].set_index(\"IND\")[str(baseYear)]\n",
    "\n",
    "# Read in D61R Social contributions from sector accounts:\n",
    "govData[\"D61\"] = secBase[(secBase[\"aggSector\"].isin(pubSecs)) &\\\n",
    "                         (secBase[\"Transaction\"] == \"D61R\")].set_index(\"aggSector\", drop = True)[str(baseYear)]\n",
    "\n",
    "govData[\"D12SHR\"] = govData[\"D12\"] / govData[\"D12\"].sum()\n",
    "\n",
    "d61 = pd.DataFrame(govData[\"D61\"])\n",
    "d12shr = pd.DataFrame(govData[\"D12SHR\"])"
   ]
  },
  {
   "cell_type": "code",
   "execution_count": 28,
   "metadata": {},
   "outputs": [],
   "source": [
    "# Payroll:\n",
    "govData[\"PAYR\"] = d12shr.dot(d61.T)\n",
    "# Payroll share:\n",
    "govData[\"PAYRSHR\"] = govData[\"PAYR\"].divide(govData[\"D1\"], axis = 0) \n",
    "# Payroll 2:\n",
    "govData[\"PAYR2\"] = govData[\"PAYRSHR\"].multiply(V1LAB_O, axis = 0)\n",
    "# Payroll sum:\n",
    "govData[\"PAYRSUM\"] = govData[\"PAYR2\"].sum(axis=1)"
   ]
  },
  {
   "cell_type": "code",
   "execution_count": 29,
   "metadata": {},
   "outputs": [],
   "source": [
    "# !Luetaan palkansaajakorvaukset ja pääomakorvaukset uudelleen!\n",
    "# !Tämä, jotta julkinen sektori menee tasapainoon muokatun\n",
    "# tietokannan kanssa!\n",
    "govData[\"D11\"] = V1LAB_O - govData[\"PAYRSUM\"] \n",
    "# Power of payroll tax\n",
    "govData[\"POW_PAYROLL\"] = (V1LAB_O / govData[\"D11\"]).fillna(0)\n",
    "\n",
    "# Power of payroll tax by sectors\n",
    "govData[\"POW_PAYROLL2\"] = pd.DataFrame(0.0, index = pubSecs, columns = IND)\n",
    "\n",
    "govData[\"POW_PAYROLL2\"].loc[\"S1311\"] = ((govData[\"D11\"] + govData[\"PAYR2\"][\"S1311\"]) / govData[\"D11\"]).fillna(0)\n",
    "govData[\"POW_PAYROLL2\"].loc[\"S1313\"] = ((govData[\"D11\"] + govData[\"PAYR2\"][\"S1313\"]) / govData[\"D11\"]).fillna(0)\n",
    "govData[\"POW_PAYROLL2\"].loc[\"S1314\"] = ((govData[\"D11\"] + govData[\"PAYR2\"][\"S1314\"]) / govData[\"D11\"]).fillna(0)\n",
    "\n",
    "govData[\"BETA_PAYROLL\"] = govData[\"POW_PAYROLL2\"] -1 \n",
    "\n",
    "# For checking:\n",
    "govData[\"COL_PAYROLL\"] = govData[\"PAYRSUM\"].copy()\n",
    "govData[\"PAYRTOT\"] = govData[\"COL_PAYROLL\"].sum()"
   ]
  },
  {
   "cell_type": "code",
   "execution_count": 30,
   "metadata": {},
   "outputs": [
    {
     "data": {
      "text/plain": [
       "True"
      ]
     },
     "execution_count": 30,
     "metadata": {},
     "output_type": "execute_result"
    }
   ],
   "source": [
    "# Test match:\n",
    "t1 = govData[\"D11\"] * (govData[\"POW_PAYROLL\"]-1)\n",
    "t2 = govData[\"D11\"] * (govData[\"POW_PAYROLL2\"]-1)\n",
    "t3 = t1 - t2.sum()\n",
    "# Check that the difference is negligible:\n",
    "all(abs(t3)<000.1)"
   ]
  },
  {
   "cell_type": "markdown",
   "metadata": {},
   "source": [
    "### Public sector expenditure:"
   ]
  },
  {
   "cell_type": "code",
   "execution_count": 31,
   "metadata": {},
   "outputs": [],
   "source": [
    "expTypes = [\"PROPINC\",     # Property expenditure excluding interest payments (Sector acc: D4K - D41K)\n",
    "            \"INCTAX\",      # Income taxes (Sector acc: D51K)\n",
    "            \"OTHTAX\",      # Other current taxes (Sector acc: D59K)\n",
    "            \"AGEBEN\",      # Old age (COFOG: Transaction = D62K, Function = G1002)\n",
    "            \"UNEMPBEN\",    # Unemployment (COFOG: Transaction = D62K, Function = G1005)\n",
    "            \"OTHBEN\",      # Other benefits (Sector acc: D62K - AGEBEN - OTHBEN)\n",
    "            \"GRANTS\",      # GNI payment to EU + miscellanious current transfers (D761K+D759KS11+D759KS14+D759KS15)\n",
    "            \"CURTFS\",      # Current transfers (Sector acc: D71K + D72K + D74K)\n",
    "            \"CAPTFS\",      # Capital transfers (Sector acc: D9K + P51CK Consumption of fixed capital)\n",
    "            \"OTHCAPGOV\",   # Other government expenditure (PROPINC + INCTAX + OTHTAX + CURTFS + CAPTFS)\n",
    "            \"TAX_AB_RATE\", # Tax rate for all benefits\n",
    "            \"TAX_OB_RATE\", # Tax rate for  other benefits\n",
    "            \"TAX_UB_RATE\", # Tax rate for  unemployment benefits\n",
    "           ]"
   ]
  },
  {
   "cell_type": "code",
   "execution_count": 32,
   "metadata": {},
   "outputs": [],
   "source": [
    "# Initialize an empty dataframe:\n",
    "DTE = pd.DataFrame(0.0, index = expTypes, columns = pubSecs)"
   ]
  },
  {
   "cell_type": "code",
   "execution_count": 33,
   "metadata": {},
   "outputs": [],
   "source": [
    "for s in pubSecs:\n",
    "    value = str(baseYear)\n",
    "    DTE.loc[\"PROPINC\"][s] =\\\n",
    "    float(secBase[(secBase[\"aggSector\"] == s) & (secBase[\"Transaction\"] == \"D4K\")][value])-\\\n",
    "    float(secBase[(secBase[\"aggSector\"] == s) & (secBase[\"Transaction\"] == \"D41K\")][value])\n",
    "    \n",
    "    DTE.loc[\"INCTAX\"][s] =\\\n",
    "    float(secBase[(secBase[\"aggSector\"] == s) & (secBase[\"Transaction\"] == \"D51K\")][value])\n",
    "    \n",
    "    DTE.loc[\"OTHTAX\"][s] =\\\n",
    "    float(secBase[(secBase[\"aggSector\"] == s) & (secBase[\"Transaction\"] == \"D59K\")][value])\n",
    "    \n",
    "    DTE.loc[\"AGEBEN\"][s] =\\\n",
    "    float(cofog[(cofog[\"Sector\"] == s) & (cofog[\"Function\"] == \"G1002\") & (cofog[\"Transaction\"] == \"D62K\")][value])\n",
    "    \n",
    "    DTE.loc[\"UNEMPBEN\"][s] =\\\n",
    "    float(cofog[(cofog[\"Sector\"] == s) & (cofog[\"Function\"] == \"G1005\") & (cofog[\"Transaction\"] == \"D62K\")][value])\n",
    "    \n",
    "    DTE.loc[\"OTHBEN\"][s] =\\\n",
    "    float(secBase[(secBase[\"aggSector\"] == s) & (secBase[\"Transaction\"] == \"D62K\")][value])-\\\n",
    "    DTE.loc[\"AGEBEN\"][s] - DTE.loc[\"UNEMPBEN\"][s]\n",
    "\n",
    "    DTE.loc[\"GRANTS\"][s] =\\\n",
    "    float(secBase[(secBase[\"aggSector\"] == s) & (secBase[\"Transaction\"] == \"D761K\")][value]) +\\\n",
    "    float(secBase[(secBase[\"aggSector\"] == s) & (secBase[\"Transaction\"] == \"D759KS11\")][value]) +\\\n",
    "    float(secBase[(secBase[\"aggSector\"] == s) & (secBase[\"Transaction\"] == \"D759KS14\")][value]) +\\\n",
    "    float(secBase[(secBase[\"aggSector\"] == s) & (secBase[\"Transaction\"] == \"D759KS15\")][value])\n",
    "    \n",
    "    DTE.loc[\"CURTFS\"][s] =\\\n",
    "    float(secBase[(secBase[\"aggSector\"] == s) & (secBase[\"Transaction\"] == \"D71K\")][value]) +\\\n",
    "    float(secBase[(secBase[\"aggSector\"] == s) & (secBase[\"Transaction\"] == \"D72K\")][value]) +\\\n",
    "    float(secBase[(secBase[\"aggSector\"] == s) & (secBase[\"Transaction\"] == \"D74K\")][value])\n",
    "    \n",
    "    DTE.loc[\"CAPTFS\"][s] =\\\n",
    "    float(secBase[(secBase[\"aggSector\"] == s) & (secBase[\"Transaction\"] == \"D9K\")][value]) +\\\n",
    "    float(secBase[(secBase[\"aggSector\"] == s) & (secBase[\"Transaction\"] == \"P51CK\")][value])\n",
    "    \n",
    "    DTE.loc[\"OTHCAPGOV\"][s] =\\\n",
    "    DTE.loc[\"PROPINC\"][s] + DTE.loc[\"INCTAX\"][s] + DTE.loc[\"OTHTAX\"][s] + DTE.loc[\"CURTFS\"][s] + DTE.loc[\"CAPTFS\"][s]"
   ]
  },
  {
   "cell_type": "code",
   "execution_count": 34,
   "metadata": {},
   "outputs": [],
   "source": [
    "# Tax rates on benefits. PÄIVITÄ TÄHÄN UUDET LUVUT! NÄMÄ OTETTU SUORAAN VANHASTA TIETOKANNASTA!!\n",
    "DTE.loc[\"TAX_AB_RATE\"] = {\"S1311\": 0.080, \"S1313\": 0.164, \"S1314\": 0}\n",
    "DTE.loc[\"TAX_OB_RATE\"] = {\"S1311\": 0.053, \"S1313\": 0.168, \"S1314\": 0}\n",
    "DTE.loc[\"TAX_UB_RATE\"] = {\"S1311\": 0.053, \"S1313\": 0.168, \"S1314\": 0}"
   ]
  },
  {
   "cell_type": "code",
   "execution_count": 35,
   "metadata": {},
   "outputs": [],
   "source": [
    "# Tax collected from age benefit income\n",
    "govData[\"TAX_AB\"] = DTE.loc[\"TAX_AB_RATE\"] * DTE.loc[\"AGEBEN\"].sum()\n",
    "# Tax collected from other benefit income\n",
    "govData[\"TAX_OB\"] = DTE.loc[\"TAX_OB_RATE\"] * DTE.loc[\"OTHBEN\"].sum()\n",
    "# Tax collected from unemployment benefit income\n",
    "govData[\"TAX_UB\"] = DTE.loc[\"TAX_UB_RATE\"] * DTE.loc[\"UNEMPBEN\"].sum()"
   ]
  },
  {
   "cell_type": "markdown",
   "metadata": {},
   "source": [
    "### Public debt and interets rate"
   ]
  },
  {
   "cell_type": "code",
   "execution_count": 36,
   "metadata": {},
   "outputs": [],
   "source": [
    "# Public sector debt:\n",
    "govData[\"PSDATT\"] = cofogData[\"Debt\"].set_index(\"Sector\").reindex(pubSecs)[str(baseYear)]\n",
    "# Interest payments (Sector accounts: D41K Interest, payable (FISIM-adjusted))\n",
    "govData[\"NETINT_G\"] = secBase[secBase[\"Transaction\"] == \"D41K\"].set_index(\"aggSector\").reindex(pubSecs)[str(baseYear)]\n",
    "# Interest income (Sector accounts: D41R Interest, receivable (FISIM-adjusted))\n",
    "govData[\"INTASS\"] = secBase[secBase[\"Transaction\"] == \"D41R\"].set_index(\"aggSector\").reindex(pubSecs)[str(baseYear)]"
   ]
  },
  {
   "cell_type": "code",
   "execution_count": 37,
   "metadata": {},
   "outputs": [],
   "source": [
    "# Real rate of interest on public sector debt\n",
    "govData[\"RINT_PSD\"] = govData[\"NETINT_G\"] / ((govData[\"PSDATT\"] + govData[\"PSDATT\"] + govData[\"NETINT_G\"])/2)\n",
    "govData[\"RINT_PSD_S\"] = govData[\"NETINT_G\"].sum() / ((govData[\"PSDATT\"] + govData[\"PSDATT\"] + govData[\"NETINT_G\"]).sum()/2)"
   ]
  },
  {
   "cell_type": "markdown",
   "metadata": {},
   "source": [
    "### Public sector income"
   ]
  },
  {
   "cell_type": "code",
   "execution_count": 38,
   "metadata": {},
   "outputs": [],
   "source": [
    "incTypes = [\"PROFIT\",    # Sector accounts: B13GT Operating surplus\n",
    "            \"PROPINC\",   # Property income excluding interest payments (Sector accounts: D4R - D41R)\n",
    "            \"SRCTAX\",    # Taxes and tax-like payments: \"-1000 Duty on interests\"\n",
    "            \"INCTAX\",    # Taxes and tax-like payments: \"-1000 Income tax of households\"\n",
    "            \"CORPTAX\",   # Taxes and tax-like payments: \"-1000 Income tax of corporations\"\n",
    "            \"OTHTAX\",    # Other income tax. Sector accounts D51R Income taxes - SRCTAX - INCTAX - CORPTAX  \n",
    "            \"MAINFEE\",   # Taxes and tax-like payments: \"-4000 Tax on real-estate\" (kiinteistövero)\n",
    "            \"OTHFEE\",    # Sector accounts: D59R Other current taxes, excl. tax on capital - MAINFEE\n",
    "            \"CURTFS\",    # Sector accounts: D7R Other current transfers, receivable - D73R transfers within government\n",
    "            \"CAPTFS\",    # Sector accounts: D9R Capital transfers + P51CR Consumption of fixed capital\n",
    "            \"PAYROLL\",   # Sector accounts: D61R Social contributions\n",
    "            \"NETPTAX\",   # Sector accounts: D2R Taxes on production - D3K Subsidies\n",
    "            \"OTHGOVREV\", # CURTFS + CAPTFS + PROFIT + PROPINC\n",
    "            # Varallisuusverot HHPROPFEE ja CORPPROPFEE lakkautettu 2006\n",
    "]"
   ]
  },
  {
   "cell_type": "code",
   "execution_count": 39,
   "metadata": {},
   "outputs": [],
   "source": [
    "# Initialize an empty dataframe:\n",
    "DTI = pd.DataFrame(0.0, index = incTypes, columns = pubSecs)\n",
    "\n",
    "taxBase = taxData[\"Taxes\"].copy()\n",
    "taxBase = taxBase[taxBase[\"Sector\"].isin(pubSecs)]"
   ]
  },
  {
   "cell_type": "code",
   "execution_count": 40,
   "metadata": {},
   "outputs": [],
   "source": [
    "for s in pubSecs:\n",
    "    value = str(baseYear)\n",
    "    DTI.loc[\"PROFIT\"][s] =\\\n",
    "    float(secBase[(secBase[\"aggSector\"] == s) & (secBase[\"Transaction\"] == \"B13GT\")][value])\n",
    "    \n",
    "    DTI.loc[\"PROPINC\"][s] =\\\n",
    "    float(secBase[(secBase[\"aggSector\"] == s) & (secBase[\"Transaction\"] == \"D4R\")][value]) -\\\n",
    "    float(secBase[(secBase[\"aggSector\"] == s) & (secBase[\"Transaction\"] == \"D41R\")][value])\n",
    "    \n",
    "    DTI.loc[\"SRCTAX\"][s] =\\\n",
    "    float(taxBase[(taxBase[\"Sector\"] == s) & (taxBase[\"Tax category\"] == \"-1000 Duty on interests\")][value])\n",
    "    \n",
    "    DTI.loc[\"INCTAX\"][s] =\\\n",
    "    float(taxBase[(taxBase[\"Sector\"] == s) & (taxBase[\"Tax category\"] == \"-1000 Income tax of households\")][value])\n",
    "    \n",
    "    DTI.loc[\"CORPTAX\"][s] =\\\n",
    "    float(taxBase[(taxBase[\"Sector\"] == s) & (taxBase[\"Tax category\"] == \"-1000 Income tax of corporations\")][value])\n",
    "    \n",
    "    DTI.loc[\"OTHTAX\"][s] =\\\n",
    "    float(secBase[(secBase[\"aggSector\"] == s) & (secBase[\"Transaction\"] == \"D51R\")][value]) -\\\n",
    "    DTI.loc[\"SRCTAX\"][s] - DTI.loc[\"INCTAX\"][s] - DTI.loc[\"CORPTAX\"][s]\n",
    "    \n",
    "    DTI.loc[\"MAINFEE\"][s] =\\\n",
    "    float(taxBase[(taxBase[\"Sector\"] == s) & (taxBase[\"Tax category\"] == \"-4000 Tax on real-estate\")][value])\n",
    "    \n",
    "    DTI.loc[\"OTHFEE\"][s] =\\\n",
    "    float(secBase[(secBase[\"aggSector\"] == s) & (secBase[\"Transaction\"] == \"D59R\")][value]) -\\\n",
    "    DTI.loc[\"MAINFEE\"][s]\n",
    "    \n",
    "    DTI.loc[\"CURTFS\"][s] =\\\n",
    "    float(secBase[(secBase[\"aggSector\"] == s) & (secBase[\"Transaction\"] == \"D7R\")][value]) -\\\n",
    "    float(secBase[(secBase[\"aggSector\"] == s) & (secBase[\"Transaction\"] == \"D73R\")][value])\n",
    "    \n",
    "    DTI.loc[\"CAPTFS\"][s] =\\\n",
    "    float(secBase[(secBase[\"aggSector\"] == s) & (secBase[\"Transaction\"] == \"D9R\")][value]) +\\\n",
    "    float(secBase[(secBase[\"aggSector\"] == s) & (secBase[\"Transaction\"] == \"P51CR\")][value])\n",
    "    \n",
    "    DTI.loc[\"PAYROLL\"][s] =\\\n",
    "    float(secBase[(secBase[\"aggSector\"] == s) & (secBase[\"Transaction\"] == \"D61R\")][value])\n",
    "    \n",
    "    DTI.loc[\"NETPTAX\"][s] =\\\n",
    "    float(secBase[(secBase[\"aggSector\"] == s) & (secBase[\"Transaction\"] == \"D2R\")][value]) -\\\n",
    "    float(secBase[(secBase[\"aggSector\"] == s) & (secBase[\"Transaction\"] == \"D3K\")][value])\n",
    "    \n",
    "    DTI.loc[\"OTHGOVREV\"][s] =\\\n",
    "    DTI.loc[\"CURTFS\"][s] + DTI.loc[\"CAPTFS\"][s] + DTI.loc[\"PROFIT\"][s] + DTI.loc[\"PROPINC\"][s]"
   ]
  },
  {
   "cell_type": "markdown",
   "metadata": {},
   "source": [
    "#### Transfer tax on inventories to other government income:"
   ]
  },
  {
   "cell_type": "code",
   "execution_count": 41,
   "metadata": {},
   "outputs": [],
   "source": [
    "DTI.loc[\"OTHGOVREV\"][\"S1311\"] += V6TAX_CS"
   ]
  },
  {
   "cell_type": "markdown",
   "metadata": {},
   "source": [
    "#### Calculate tax rate on salaries and capital income"
   ]
  },
  {
   "cell_type": "code",
   "execution_count": 42,
   "metadata": {},
   "outputs": [],
   "source": [
    "# Calculate tax on labour by industries.\n",
    "# Income tax is split between labour income and capital income shares (0.67 and 0.33 respectively)\n",
    "govData[\"TAX_LAB\"] =\\\n",
    "DTI.loc[\"INCTAX\"] * 0.67 + DTI.loc[\"OTHTAX\"] + DTI.loc[\"OTHFEE\"] - govData[\"TAX_AB\"] - govData[\"TAX_OB\"] - govData[\"TAX_UB\"]\n",
    "govData[\"TAX_L_RATE\"] = govData[\"TAX_LAB\"] / (V1LAB_O.sum() - govData[\"COL_PAYROLL\"].sum())"
   ]
  },
  {
   "cell_type": "markdown",
   "metadata": {},
   "source": [
    "#### Rate of tax on capital by industries"
   ]
  },
  {
   "cell_type": "code",
   "execution_count": 43,
   "metadata": {},
   "outputs": [],
   "source": [
    "govData[\"TAX_CL\"] = DTI.loc[\"INCTAX\"] * 0.33 + DTI.loc[\"SRCTAX\"] + DTI.loc[\"CORPTAX\"]\n",
    "govData[\"TAX_K_RATE\"] = govData[\"TAX_CL\"] / (V1CAP.sum() + V1LND.sum())\n",
    "govData[\"TAX_CAP\"] = govData[\"TAX_K_RATE\"] * V1CAP.sum()\n",
    "govData[\"TAX_LND\"] = govData[\"TAX_K_RATE\"] * V1LND.sum()"
   ]
  },
  {
   "cell_type": "markdown",
   "metadata": {},
   "source": [
    "####  TARKISTUS 1: VASTAAKO JULKISYHTEISÖJEN TULOT ALKUPERÄISTÄ, EI KORKOJA !"
   ]
  },
  {
   "cell_type": "code",
   "execution_count": 44,
   "metadata": {},
   "outputs": [],
   "source": [
    "govData[\"INCTAX\"] = govData[\"TAX_LAB\"] + govData[\"TAX_CAP\"] + govData[\"TAX_LND\"] +\\\n",
    "                    govData[\"TAX_AB\"] + govData[\"TAX_OB\"] + govData[\"TAX_UB\"]\n",
    "govData[\"INCTAX_S\"] = govData[\"INCTAX\"].sum()"
   ]
  },
  {
   "cell_type": "code",
   "execution_count": 45,
   "metadata": {},
   "outputs": [],
   "source": [
    "govData[\"NET_TAXTOTG\"] = DTI.loc[\"NETPTAX\"].sum() + govData[\"TAX_CL\"].sum() + govData[\"TAX_LAB\"].sum() +\\\n",
    "                         govData[\"TAX_AB\"].sum() + govData[\"TAX_OB\"].sum() + govData[\"TAX_UB\"].sum() + DTI.loc[\"PAYROLL\"].sum()"
   ]
  },
  {
   "cell_type": "code",
   "execution_count": 46,
   "metadata": {},
   "outputs": [],
   "source": [
    "govData[\"NET_TAXTOT2\"] = V0TAX_CSI + govData[\"INCTAX_S\"] + govData[\"PAYRTOT\"]"
   ]
  },
  {
   "cell_type": "code",
   "execution_count": 47,
   "metadata": {},
   "outputs": [],
   "source": [
    "# The difference between input output data and sector accounts:\n",
    "# (The difference will be allocated to other government revenue)\n",
    "govData[\"DIFFTAX\"] = govData[\"NET_TAXTOTG\"] - govData[\"NET_TAXTOT2\"]"
   ]
  },
  {
   "cell_type": "code",
   "execution_count": 48,
   "metadata": {},
   "outputs": [],
   "source": [
    "govData[\"DIRECTINC\"] = govData[\"INCTAX_S\"] + DTI.loc[\"OTHGOVREV\"].sum() + govData[\"PAYRTOT\"] - V6TAX_CS"
   ]
  },
  {
   "cell_type": "code",
   "execution_count": 49,
   "metadata": {},
   "outputs": [],
   "source": [
    "# TÄMÄ HEITTÄÄ PALJON!!!!\n",
    "ALLOLD = DTI.sum().sum()\n",
    "ALLNEW = govData[\"DIRECTINC\"]\n",
    "ALLDIF = ALLOLD - ALLNEW"
   ]
  },
  {
   "cell_type": "markdown",
   "metadata": {},
   "source": [
    "#### Julkisten menojen kohdentuminen eri sektoreille"
   ]
  },
  {
   "cell_type": "code",
   "execution_count": 50,
   "metadata": {},
   "outputs": [],
   "source": [
    "# Sum values of government expenditure:\n",
    "expenditures = [\n",
    "\"D1K\",   # Compensation of employees\n",
    "\"D29K\",  # Other taxes on production\n",
    "\"D3K\",   # Subsidies\n",
    "\"D4K\",   # Property expenditure\n",
    "\"D5K\",   # Current taxes on income and wealth, etc., payable\n",
    "\"D61K\",  # Social contributions, payable\n",
    "\"D62K\",  # Social benefits other than social transfers in kind, payable\n",
    "\"D631K\", # Social transfers in kind – non-market production\n",
    "\"D7K\",   # Other current transfers, payable\n",
    "\"D8K\",   # Adjustment for the change in pension entitlements\n",
    "\"D9K\",   # Capital transfers, payable\n",
    "\"P2K\",   # Intermediate consumption\n",
    "\"P3K\",   # Final consumption expenditure\n",
    "\"P51K\",  # Gross fixed capital formation\n",
    "\"P52K\",  # Changes in inventories\n",
    "\"P53K\",  # Net acquisitions of valuables\n",
    "]"
   ]
  },
  {
   "cell_type": "code",
   "execution_count": 51,
   "metadata": {},
   "outputs": [],
   "source": [
    "PEX = secBase[(secBase[\"aggSector\"].isin(pubSecs)) & (secBase[\"Transaction\"].isin(expenditures))].reset_index(drop = True)"
   ]
  },
  {
   "cell_type": "code",
   "execution_count": 52,
   "metadata": {},
   "outputs": [],
   "source": [
    "ALLEXPDATA =\\\n",
    "govData[\"NETINT_G\"] +\\\n",
    "PEX[PEX[\"Transaction\"] == \"P2K\"].set_index(\"aggSector\")[str(baseYear)] +\\\n",
    "PEX[PEX[\"Transaction\"] == \"D1K\"].set_index(\"aggSector\")[str(baseYear)] +\\\n",
    "PEX[PEX[\"Transaction\"] == \"D29K\"].set_index(\"aggSector\")[str(baseYear)]+\\\n",
    "DTE.loc[\"PROPINC\"] +\\\n",
    "DTE.loc[\"INCTAX\"]  +\\\n",
    "DTE.loc[\"OTHTAX\"]  +\\\n",
    "PEX[PEX[\"Transaction\"] == \"D61K\"].set_index(\"aggSector\")[str(baseYear)] +\\\n",
    "PEX[PEX[\"Transaction\"] == \"D62K\"].set_index(\"aggSector\")[str(baseYear)] +\\\n",
    "PEX[PEX[\"Transaction\"] == \"D631K\"].set_index(\"aggSector\")[str(baseYear)]+\\\n",
    "DTE.loc[\"CURTFS\"] +\\\n",
    "DTE.loc[\"GRANTS\"] +\\\n",
    "PEX[PEX[\"Transaction\"] == \"D8K\"].set_index(\"aggSector\")[str(baseYear)] +\\\n",
    "DTE.loc[\"CAPTFS\"] +\\\n",
    "PEX[PEX[\"Transaction\"] == \"P51K\"].set_index(\"aggSector\")[str(baseYear)] +\\\n",
    "PEX[PEX[\"Transaction\"] == \"P52K\"].set_index(\"aggSector\")[str(baseYear)] +\\\n",
    "PEX[PEX[\"Transaction\"] == \"P53K\"].set_index(\"aggSector\")[str(baseYear)]"
   ]
  },
  {
   "cell_type": "code",
   "execution_count": 53,
   "metadata": {},
   "outputs": [],
   "source": [
    "V5TOT2 = V5BAS.sum().sum() + V5MAR_CSM + V5TAX_CS"
   ]
  },
  {
   "cell_type": "code",
   "execution_count": 54,
   "metadata": {},
   "outputs": [],
   "source": [
    "P3 = PEX[PEX[\"Transaction\"] == \"P3K\"].set_index(\"aggSector\")[str(baseYear)]\n",
    "P3SUM = P3.sum()\n",
    "P3SHR = P3 / P3SUM\n",
    "V5TOT = P3SHR * V5TOT2"
   ]
  },
  {
   "cell_type": "markdown",
   "metadata": {},
   "source": [
    "#### Public sector investment share "
   ]
  },
  {
   "cell_type": "code",
   "execution_count": 55,
   "metadata": {},
   "outputs": [],
   "source": [
    "invests = prodData[\"Investment\"][(prodData[\"Investment\"][\"Information\"] == \"CP\") &\\\n",
    "                                 (prodData[\"Investment\"][\"Asset\"] == \"TOT\") \n",
    "                                ].reset_index(drop = True)"
   ]
  },
  {
   "cell_type": "code",
   "execution_count": 56,
   "metadata": {},
   "outputs": [],
   "source": [
    "# Government investment:\n",
    "GOVI = invests[invests[\"Sector\"].isin(pubSecs)].reset_index(drop=True)\n",
    "# All investments:\n",
    "ALLI = invests[invests[\"Sector\"] == \"S1\"].set_index(\"IND\")[str(baseYear)]"
   ]
  },
  {
   "cell_type": "code",
   "execution_count": 57,
   "metadata": {},
   "outputs": [
    {
     "name": "stdout",
     "output_type": "stream",
     "text": [
      "Negative values in [(77, '2015', -152.0)]\n"
     ]
    }
   ],
   "source": [
    "# Check for negative values in investments:\n",
    "cfs.check4negs(pd.DataFrame(GOVI[str(baseYear)]))"
   ]
  },
  {
   "cell_type": "code",
   "execution_count": 58,
   "metadata": {},
   "outputs": [
    {
     "name": "stdout",
     "output_type": "stream",
     "text": [
      "I_84 S1314 -152.0 set to zero!\n"
     ]
    }
   ],
   "source": [
    "# Set negatives to zero:\n",
    "flag = True\n",
    "for i in GOVI.index:\n",
    "    value = GOVI.iloc[i][str(baseYear)]\n",
    "    if value < 0:\n",
    "        flag = False\n",
    "        GOVI.loc[i, str(baseYear)] = 0\n",
    "        loca = GOVI.loc[i][\"IND\"]\n",
    "        sect = GOVI.loc[i][\"Sector\"]\n",
    "        print(loca, sect, value, \"set to zero!\")\n",
    "        \n",
    "        # ALLI is adjusted in order to avoid situation where government share of investments is > 1\n",
    "        ALLI.loc[loca] += abs(value)\n",
    "        \n",
    "if flag:\n",
    "    print(\"OK! No negative values found!\")"
   ]
  },
  {
   "cell_type": "code",
   "execution_count": 59,
   "metadata": {},
   "outputs": [],
   "source": [
    "INVSHR = pd.DataFrame(0.0, index = IND, columns = pubSecs)\n",
    "for s in pubSecs:\n",
    "    for i in IND[:-1]: # Disregard I_97. It is zero and causes division errors,\n",
    "        govInvest = float(GOVI[(GOVI[\"Sector\"] == s) & (GOVI[\"IND\"] == i)][str(baseYear)])\n",
    "        allInvest = float(ALLI.loc[i])\n",
    "        \n",
    "        govShr = govInvest / allInvest\n",
    "        \n",
    "        INVSHR.loc[i][s] = govShr"
   ]
  },
  {
   "cell_type": "code",
   "execution_count": 60,
   "metadata": {},
   "outputs": [],
   "source": [
    "V2TOT = V2PUR_CS\n",
    "INVS = INVSHR.multiply(V2TOT, axis = \"index\")"
   ]
  },
  {
   "cell_type": "markdown",
   "metadata": {},
   "source": [
    "#### Transfers between sectors"
   ]
  },
  {
   "cell_type": "markdown",
   "metadata": {},
   "source": [
    "# Calculate transfers between sectors by subtracting the consolidated value from payable data:"
   ]
  },
  {
   "cell_type": "code",
   "execution_count": 61,
   "metadata": {},
   "outputs": [],
   "source": [
    "transferTypes = [\n",
    "\"D4\", # D4K Property expenditure\n",
    "\"D7\", # D7K Other current transfers, payable\n",
    "\"D9\", # D9K Capital transfers, payable\n",
    "]"
   ]
  },
  {
   "cell_type": "code",
   "execution_count": 62,
   "metadata": {},
   "outputs": [],
   "source": [
    "for t in transferTypes:\n",
    "    govData[t] = pd.Series(0.0, index = pubSecs)\n",
    "    for s in pubSecs:\n",
    "        paid = float(govBase[(govBase[\"aggSector\"] == s) & (govBase[\"Transaction\"] == t+\"K\")][str(baseYear)])\n",
    "        cons = float(govBase[(govBase[\"aggSector\"] == s) & (govBase[\"Transaction\"] == t+\"SK\")][str(baseYear)])\n",
    "        \n",
    "        transfer = paid - cons\n",
    "        govData[t].loc[s] = transfer"
   ]
  },
  {
   "cell_type": "code",
   "execution_count": 63,
   "metadata": {},
   "outputs": [],
   "source": [
    "# All transfers between public sectors\n",
    "govData[\"PTRANS\"] = govData[\"D4\"] + govData[\"D7\"] + govData[\"D9\"]"
   ]
  },
  {
   "cell_type": "code",
   "execution_count": 64,
   "metadata": {},
   "outputs": [
    {
     "data": {
      "text/plain": [
       "True"
      ]
     },
     "execution_count": 64,
     "metadata": {},
     "output_type": "execute_result"
    }
   ],
   "source": [
    "# Check that the sum matches raw data totals:\n",
    "total = govBase[(govBase[\"Transaction\"] == \"TOTEXP\") & govBase[\"aggSector\"].isin(pubSecs)][str(baseYear)].sum()\n",
    "consolidated = govBase[(govBase[\"Transaction\"] == \"TOTEXPS\") & (govBase[\"aggSector\"] == \"S13\")][str(baseYear)].sum()\n",
    "\n",
    "abs(total - consolidated -govData[\"PTRANS\"].sum()) < 0.001"
   ]
  },
  {
   "cell_type": "markdown",
   "metadata": {},
   "source": [
    "#### Balancing other government expenditure"
   ]
  },
  {
   "cell_type": "code",
   "execution_count": 65,
   "metadata": {},
   "outputs": [],
   "source": [
    "V2TOT_G_I = INVS.sum()"
   ]
  },
  {
   "cell_type": "markdown",
   "metadata": {},
   "source": [
    "#### Checking government deficit"
   ]
  },
  {
   "cell_type": "code",
   "execution_count": 66,
   "metadata": {},
   "outputs": [],
   "source": [
    "# All expenditures\n",
    "expflows = V5TOT + V2TOT_G_I + DTE.loc[\"OTHCAPGOV\"] + DTE.loc[\"UNEMPBEN\"] + DTE.loc[\"AGEBEN\"] +\\\n",
    "           DTE.loc[\"OTHBEN\"] + DTE.loc[\"GRANTS\"] + govData[\"NETINT_G\"]"
   ]
  },
  {
   "cell_type": "code",
   "execution_count": 67,
   "metadata": {},
   "outputs": [],
   "source": [
    "# All income + difference\n",
    "revflows = govData[\"NET_TAXTOT2\"] + DTI.loc[\"OTHGOVREV\"].sum() + govData[\"DIFFTAX\"]"
   ]
  },
  {
   "cell_type": "code",
   "execution_count": 68,
   "metadata": {},
   "outputs": [],
   "source": [
    "# Julkisen sektorin nettoluotonanto\n",
    "surplus = revflows - expflows.sum()\n",
    "# Perusjäämä\n",
    "psurplus = revflows - expflows.sum() - govData[\"INTASS\"].sum() + govData[\"NETINT_G\"].sum()"
   ]
  },
  {
   "cell_type": "markdown",
   "metadata": {},
   "source": [
    "#### Checking public sector debt \n",
    "\n",
    "Luetaan sulautettu valtio ja korko\n",
    "\n",
    "Lasketaan julkisen sektorin korkomenot/julkisen sektorin velka\n",
    "\n",
    "Oletetaan, että velka muodostuu ainoastaan valtion ja paikallishallinnon\n",
    "alijäämistä. Vähennetään siis kokonaisalijäämästä sosiaaliturvarahastojen\n",
    "alijäämä (sektoritilinpidosta)"
   ]
  },
  {
   "cell_type": "code",
   "execution_count": 69,
   "metadata": {},
   "outputs": [],
   "source": [
    "# Social security funds deficit/surplus\n",
    "\n",
    "SSSURPLUS = float(cofogData[\"Deficit\"][(cofogData[\"Deficit\"][\"Deficit/Debt\"] == \"Deficit (-) / surplus (+)\") & \\\n",
    "                                 (cofogData[\"Deficit\"][\"Sector\"] == \"S1314\")][str(baseYear)])"
   ]
  },
  {
   "cell_type": "code",
   "execution_count": 70,
   "metadata": {},
   "outputs": [],
   "source": [
    "# Velka tilastovuoden lopussa\n",
    "PSDATTPLUS2 = govData[\"PSDATT\"].sum() - psurplus + SSSURPLUS"
   ]
  },
  {
   "cell_type": "markdown",
   "metadata": {},
   "source": [
    "#### Splitting data between government sectors. THIS MIGHT NEED REVISION!"
   ]
  },
  {
   "cell_type": "code",
   "execution_count": 71,
   "metadata": {},
   "outputs": [],
   "source": [
    "# Using COFOG expenditures to estimate government consumption by sector and by commodity:\n",
    "com2gov = {\n",
    "\"C_01\":    \"G0\", # Agriculture and hunting -> All functions\n",
    "\"C_02_03\": \"G0\", # Forestry, Fishing -> \n",
    "\"C_05_09\": \"G0\", # Mining and quarrying -> \n",
    "'C_10_12': \"G0\", # Food industry, etc. -> \n",
    "'C_13_15': \"G0\", # Textile, clothing -> \n",
    "'C_16':    \"G0\", # Woodworking -> \n",
    "'C_17_18': \"G0\", # Paper industry ->  All functions\n",
    "'C_19_22': \"G07\", # Chemical industry -> Health\n",
    "'C_23':    \"G0\", # Non-metallic mineral products ->  All functions\n",
    "'C_24_25': \"G0\", # Basic metals -> \n",
    "'C_26_27': \"G0\", # Electrical and electronic products -> \n",
    "'C_28':    \"G0\", # Machinery and equipment -> \n",
    "'C_29_30': \"G0\", # Transport equipment -> \n",
    "'C_31_33': \"G0\", # Furniture / Other manucturing -> \n",
    "'C_35_39': \"G0\", # Water supply and waste management -> \n",
    "'C_41_43': \"G0\", # Construction -> \n",
    "'C_45_47': \"G0\", # Trade and repair of motor vehicles -> \n",
    "'C_49_53': \"G0\", # Transportation and storage -> \n",
    "'C_55_56': \"G0\", # Accommodation and food service -> \n",
    "'C_58_63': \"G0\", # Publishing activities -> \n",
    "'C_64_66': \"G0\", # Financial and insurance activities -> \n",
    "'C_68':    \"G0\", # Other real estate activities -> \n",
    "'C_68A':   \"G0\", # Letting and operation of dwellings -> \n",
    "'C_69_75': \"G0\", # Professional, scientific and technical activities -> \n",
    "'C_77_82': \"G01\",   # Administrative and support service activities -> General public services\n",
    "'C_84':    \"G0\",   # Public administration and social security -> All functions  \n",
    "'C_85':    \"G09\",   # Education -> Education\n",
    "'C_86_88': \"G07\",   # Human health and social work activities -> Health ! Should include also social protecton, but share is pretty same\n",
    "'C_90_96': \"G08\",   # Arts, entertainment and recreation -> Recreation, culture and religion\n",
    "'C_97_98': \"G0\",    # Household service activities -> All functions\n",
    "}"
   ]
  },
  {
   "cell_type": "code",
   "execution_count": 72,
   "metadata": {},
   "outputs": [],
   "source": [
    "sectorShares = pd.DataFrame(0.0, index = COM, columns = pubSecs)"
   ]
  },
  {
   "cell_type": "code",
   "execution_count": 73,
   "metadata": {},
   "outputs": [],
   "source": [
    "for c in COM:\n",
    "    for s in pubSecs:\n",
    "        mapping = com2gov[c]\n",
    "        total = float(cofog[(cofog[\"Sector\"] == \"S13\") &\\\n",
    "                      (cofog[\"Transaction\"] == \"P3K\") &\\\n",
    "                      (cofog[\"Function\"] == mapping)][str(baseYear)])\n",
    "        sectorLevel = float(cofog[(cofog[\"Sector\"] == s) &\\\n",
    "                      (cofog[\"Transaction\"] == \"P3K\") &\\\n",
    "                      (cofog[\"Function\"] == mapping)][str(baseYear)])\n",
    "        \n",
    "\n",
    "        sectorShare = sectorLevel / total\n",
    "        \n",
    "        sectorShares.loc[c][s] = sectorShare\n",
    "    if abs(sectorShares.loc[c].sum()-1) > 0.0001:\n",
    "        raise ValueError(\"Share totals do not match for\", c)"
   ]
  },
  {
   "cell_type": "code",
   "execution_count": 74,
   "metadata": {},
   "outputs": [],
   "source": [
    "V5BASPdom = sectorShares.multiply(V5BAS[\"DOM\"], axis = \"index\")\n",
    "V5BASPimp = sectorShares.multiply(V5BAS[\"IMP\"], axis = \"index\")\n",
    "\n",
    "V5TAXPdom = sectorShares.multiply(V5TAX[\"DOM\"], axis = \"index\")\n",
    "V5TAXPimp = sectorShares.multiply(V5TAX[\"IMP\"], axis = \"index\")"
   ]
  },
  {
   "cell_type": "code",
   "execution_count": 75,
   "metadata": {},
   "outputs": [],
   "source": [
    "govMargins = {}\n",
    "for m in MAR:\n",
    "    index = MAR.index(m)\n",
    "    govMargins[m] = pd.DataFrame(V5MAR[:,0:,index].copy(), index = COM, columns = SRC)\n",
    "    for s in SRC:\n",
    "        govMargins[\"FRAME\"+\"_\"+s+\"_\"+m] = pd.DataFrame(0.0, index = COM, columns = pubSecs)\n",
    "        govMargins[m+s] = govMargins[m][s]\n",
    "        for p in pubSecs:\n",
    "            value = govMargins[m+s] * sectorShares[p]\n",
    "            govMargins[\"FRAME_\"+s+\"_\"+m][p] = value\n"
   ]
  },
  {
   "cell_type": "code",
   "execution_count": 76,
   "metadata": {},
   "outputs": [],
   "source": [
    "#note dstack = along the 3rd dimension for margins!\n",
    "V5MARP = np.stack([\n",
    "np.dstack([govMargins[key].values for key in govMargins.keys() if \"FRAME\" in key and \"DOM\" in key]),\\\n",
    "np.dstack([govMargins[key].values for key in govMargins.keys() if \"FRAME\" in key and \"IMP\" in key])], axis=1)"
   ]
  },
  {
   "cell_type": "markdown",
   "metadata": {},
   "source": [
    "# Write govdagg.har ja extradagg.har"
   ]
  },
  {
   "cell_type": "code",
   "execution_count": 77,
   "metadata": {},
   "outputs": [],
   "source": [
    "govDims = {\n",
    "\"IND\": IND,\n",
    "\"COM\": COM,\n",
    "\"PSEC\": pubSecs,\n",
    "\"SRC\": SRC,\n",
    "\"MAR\": MAR\n",
    "}"
   ]
  },
  {
   "cell_type": "code",
   "execution_count": 78,
   "metadata": {},
   "outputs": [],
   "source": [
    "V5BASP = np.stack((V5BASPdom.values, V5BASPimp.values), axis=1)\n",
    "V5TAXP = np.stack((V5TAXPdom.values, V5TAXPimp.values), axis=1)"
   ]
  },
  {
   "cell_type": "code",
   "execution_count": 79,
   "metadata": {},
   "outputs": [],
   "source": [
    "govDagg = {\n",
    "#coefficient name: (dataname, header name, long name, [list of dimensions])\n",
    "\"OTHCAPGOV\": (DTE.loc[\"OTHCAPGOV\"], \"OGI2\", \"Other government expenditure\", [\"PSEC\"]),    \n",
    "\"UNEMPBEN\":  (DTE.loc[\"UNEMPBEN\"], \"UBEN\", \"Unemployment benefits\", [\"PSEC\"]),    \n",
    "\"AGEBEN\":    (DTE.loc[\"AGEBEN\"], \"AGEB\", \"Age benefits\", [\"PSEC\"]),    \n",
    "\"OTHBEN\":    (DTE.loc[\"OTHBEN\"], \"OTHB\", \"Other benefits\", [\"PSEC\"]),  \n",
    "\"GRANT\":     (DTE.loc[\"GRANTS\"], \"GRNT\", \"Other transfers abroad\", [\"PSEC\"]),  \n",
    "\"PSDATT\":    (govData[\"PSDATT\"], \"PSDT\", \"Public sector debt, start of year\", [\"PSEC\"]),  \n",
    "\"NETINT_G\":  (govData[\"NETINT_G\"], \"NINT\", \"Interest payments\", [\"PSEC\"]),\n",
    "\"INTASS\":    (govData[\"INTASS\"], \"INTA\", \"Interest income\", [\"PSEC\"]),\n",
    "    \n",
    "\"RINT_PSD\":   (govData[\"RINT_PSD\"], \"GRIT\", \"Real rate of interest on public sector debt\", [\"PSEC\"]),\n",
    "\"RINT_PSD_S\": (govData[\"RINT_PSD_S\"], \"GRIS\", \"Real rate of interest on public sector debt, aggregate\", []),\n",
    "    \n",
    "\"OTHGOVREV\": (DTI.loc[\"OTHGOVREV\"], \"OTGR\", \"Other government income, mio\", [\"PSEC\"]),\n",
    "    \n",
    "\"TAX_AB_RATE\": (DTE.loc[\"TAX_AB_RATE\"], \"TLAB\", \"Tax rate for all benefits\", [\"PSEC\"]),\n",
    "\"TAX_OB_RATE\": (DTE.loc[\"TAX_OB_RATE\"], \"TLOB\", \"Tax rate for other benefits\", [\"PSEC\"]),\n",
    "\"TAX_UB_RATE\": (DTE.loc[\"TAX_UB_RATE\"], \"TLUB\", \"Tax rate for unemployment benefits\", [\"PSEC\"]),\n",
    "    \n",
    "\"CORPTAX\": (DTI.loc[\"CORPTAX\"], \"YVER\", \"Corporate tax, yhteisovero\", [\"PSEC\"]),\n",
    "\"DIFFTAX\": (govData[\"DIFFTAX\"], \"DIFT\", \"Difference in income - expenditure\", []),  \n",
    "    \n",
    "\"V5TOT\":  (V5TOT, \"5SEC\", \"Total value of government demands by sector\", [\"PSEC\"]),   \n",
    "\"INVSHR\": (INVSHR, \"GVSH\", \"Government share of investments\", [\"IND\",\"PSEC\"]),   \n",
    "\"INVS\":   (INVS, \"INVS\", \"Government investments\", [\"IND\",\"PSEC\"]),\n",
    "\"V2TOT\":  (V2TOT, \"2TOT\", \"Total capital created for industry i\", [\"IND\"]),  \n",
    "    \n",
    "\"D4\": (govData[\"D4\"], \"D4\", \"Other capital transfers between public sectors\", [\"PSEC\"]),   \n",
    "\"D7\": (govData[\"D7\"], \"D7\", \"Other transfers between public sectors\", [\"PSEC\"]),  \n",
    "\"D9\": (govData[\"D9\"], \"D9\", \"Investment grants and capital transfers between public sectors\", [\"PSEC\"]), \n",
    "\"PTRANS\":    (govData[\"PTRANS\"], \"PTRS\", \"All transfers between public sectors\", [\"PSEC\"]),    \n",
    "\"SSSURPLUS\": (SSSURPLUS, \"5SSP\", \"Social security funds surplus\", []),     \n",
    "    \n",
    "\"V5BASP\": (V5BASP, \"5BSS\", \"Government basic\", [\"COM\", \"SRC\", \"PSEC\"]),  \n",
    "\"V5TAXP\": (V5TAXP, \"5TAS\", \"Government tax\", [\"COM\", \"SRC\", \"PSEC\"]),  \n",
    "\"V5MARP\": (V5MARP, \"5MAS\", \"Government margins\", [\"COM\", \"SRC\", \"PSEC\", \"MAR\"]),\n",
    "\"V5TOTP\": (V5TOT, \"5TOT\", \"Total value of government demands\", [\"PSEC\"]),   \n",
    "}"
   ]
  },
  {
   "cell_type": "code",
   "execution_count": 80,
   "metadata": {},
   "outputs": [],
   "source": [
    "output = {**govDims, **govDagg}\n",
    "hwf.data2har(output, govDims).writeToDisk(harFolder+\"/govdata.har\")"
   ]
  },
  {
   "cell_type": "code",
   "execution_count": 81,
   "metadata": {},
   "outputs": [],
   "source": [
    "extraDagg = {\n",
    "#coefficient name: (dataname, header name, long name, [list of dimensions])\n",
    "\"POW_PAYROLL\":    (govData[\"POW_PAYROLL\"], \"POPR\", \"Power of payroll tax\", [\"IND\"]),    \n",
    "\"POW_PAYROLL2\":    (govData[\"POW_PAYROLL2\"], \"POP2\", \"Power of payroll tax by sector\", [\"PSEC\", \"IND\"]),    \n",
    "\"V1LAB_O\":    (V1LAB_O, \"1LAB\", \"Total payments to labour\", [\"IND\"]),  \n",
    "\"PAYR\":    (govData[\"PAYR2\"].T, \"PAYR\", \"Total social benefits to labour\", [\"PSEC\", \"IND\"]),  \n",
    "\"TAX_L_RATE\":    (govData[\"TAX_L_RATE\"], \"TLRT\", \"Rate of tax on labour by industries\", [\"PSEC\"]),  \n",
    "\"TAX_K_RATE\":    (govData[\"TAX_K_RATE\"], \"TAXK\", \"Rate of tax on capital by industries\", [\"PSEC\"]),  \n",
    "}"
   ]
  },
  {
   "cell_type": "code",
   "execution_count": 82,
   "metadata": {},
   "outputs": [],
   "source": [
    "output = extraDagg\n",
    "hwf.data2har(output, govDims).writeToDisk(harFolder+\"/govextra.har\")"
   ]
  },
  {
   "cell_type": "markdown",
   "metadata": {},
   "source": [
    "### POWEDIT\n",
    "\n",
    "tuottaa uuden tiedoston GOVSECSPLIT.har, joka sisältää tietoa edeltävässä askeleessa luoduista tiedostoista GOVDAGG.har ja EXTRADAGG.har sekä muutaman uuden headerin. Uudet headerit sisältävät power-muotoisia parametrejä palkkaveroista sekä julkisista investoinneista (tasot ja osuudet). "
   ]
  },
  {
   "cell_type": "code",
   "execution_count": 83,
   "metadata": {},
   "outputs": [],
   "source": [
    "powedit = {}\n",
    "powedit[\"PAYR2\"] = govData[\"PAYR2\"].copy()\n",
    "powedit[\"PAYRSUM\"] =powedit[\"PAYR2\"].sum(axis=1)"
   ]
  },
  {
   "cell_type": "code",
   "execution_count": 84,
   "metadata": {},
   "outputs": [],
   "source": [
    "powedit[\"D11K\"] = V1LAB_O - powedit[\"PAYRSUM\"]\n",
    "# Power of payroll tax by industries:\n",
    "powedit[\"POW_PAYROLL\"] = (V1LAB_O / powedit[\"D11K\"]).fillna(1)"
   ]
  },
  {
   "cell_type": "code",
   "execution_count": 85,
   "metadata": {},
   "outputs": [],
   "source": [
    "# Power of payroll tax by industries and sectors:\n",
    "powedit[\"POW_PAYROLL2\"] = pd.DataFrame(0.0, index = IND, columns = pubSecs)\n",
    "for p in pubSecs:\n",
    "    powedit[\"POW_PAYROLL2\"][p] = ((powedit[\"PAYR2\"][p] + powedit[\"D11K\"]) / powedit[\"D11K\"]).fillna(1)"
   ]
  },
  {
   "cell_type": "code",
   "execution_count": 86,
   "metadata": {},
   "outputs": [
    {
     "data": {
      "text/plain": [
       "True"
      ]
     },
     "execution_count": 86,
     "metadata": {},
     "output_type": "execute_result"
    }
   ],
   "source": [
    "test11_1 = powedit[\"D11K\"] * (powedit[\"POW_PAYROLL\"]-1)\n",
    "test11_2 = (powedit[\"POW_PAYROLL2\"]-1).multiply(powedit[\"D11K\"], axis = \"index\")\n",
    "test11_C = test11_1 - test11_2.sum(axis=1)\n",
    "\n",
    "all(abs(test11_C) < 0.1)"
   ]
  },
  {
   "cell_type": "code",
   "execution_count": 87,
   "metadata": {},
   "outputs": [],
   "source": [
    "powOut = {\n",
    "#coefficient name: (dataname, header name, long name, [list of dimensions])\n",
    "\"V1LAB_O\":      (V1LAB_O, \"1LAB\", \"Total payments to labour\", [\"IND\"]),  \n",
    "\"PAYR2\":        (powedit[\"PAYR2\"], \"PAYR\", \"Total social security payments to labour\", [\"IND\", \"PSEC\"]),  \n",
    "\"POW_PAYROLL2\": (powedit[\"POW_PAYROLL2\"], \"POPS\", \"Power of payroll tax by sector\", [\"IND\", \"PSEC\"]),  \n",
    "\"TAX_L_RATE\":   (govData[\"TAX_L_RATE\"], \"TLRS\", \"Rate of tax on labour by industries\", [\"PSEC\"]),  \n",
    "\"TAX_K_RATE\":   (govData[\"TAX_K_RATE\"], \"TXKS\", \"Rate of tax on capital by industries\", [\"PSEC\"]),  \n",
    "\"POW_PAYROLL\":  (powedit[\"POW_PAYROLL\"], \"POPR\", \"Power of payroll tax\", [\"IND\"]),  \n",
    "#\"POW_PAYROLL2\":      (powedit[\"POW_PAYROLL2\"], \"PPRS\", \"Power of payroll tax by sector\", [\"IND\", \"PSEC\"]),  \n",
    "    }"
   ]
  },
  {
   "cell_type": "code",
   "execution_count": 88,
   "metadata": {},
   "outputs": [],
   "source": [
    "output = {**powOut, **govDagg}\n",
    "hwf.data2har(output, govDims).writeToDisk(harFolder+\"/govsecsplit.har\")"
   ]
  },
  {
   "cell_type": "markdown",
   "metadata": {},
   "source": [
    "# END OF PROGRAM\n"
   ]
  }
 ],
 "metadata": {
  "kernelspec": {
   "display_name": "Python 3",
   "language": "python",
   "name": "python3"
  },
  "language_info": {
   "codemirror_mode": {
    "name": "ipython",
    "version": 3
   },
   "file_extension": ".py",
   "mimetype": "text/x-python",
   "name": "python",
   "nbconvert_exporter": "python",
   "pygments_lexer": "ipython3",
   "version": "3.6.6"
  }
 },
 "nbformat": 4,
 "nbformat_minor": 2
}
